{
 "cells": [
  {
   "cell_type": "markdown",
   "id": "bcdb472a",
   "metadata": {},
   "source": [
    "#### Test of stuff exported from Mathematica for case \"MatrixElementExport\" of CryoTriple4B4W4B4W4B4W"
   ]
  },
  {
   "cell_type": "markdown",
   "id": "6df30bda",
   "metadata": {},
   "source": [
    "## Preliminaries"
   ]
  },
  {
   "cell_type": "raw",
   "id": "e391d0cf",
   "metadata": {},
   "source": [
    "NOTE: Edit the hardcoded path in the cell below to point to where CommonPlatformTriple_4B4W_2x4B4W4W_MatrixElementExport_cptriple.py and symbexportCommonPlatformTriple_4B4W_2x4B4W4Wfull.py are located"
   ]
  },
  {
   "cell_type": "code",
   "execution_count": 1,
   "id": "9b65addb",
   "metadata": {},
   "outputs": [],
   "source": [
    "import sys\n",
    "sys.path.append('/Users/mbarton/Work/LIGO/analysis/AdvLIGOModel/GCIF Models/CommonPlatformTriple_4B4W_2x4B4W4W/MatrixElementExport/MathematicaMatrixElementsCalc')"
   ]
  },
  {
   "cell_type": "markdown",
   "id": "097ccdf2",
   "metadata": {},
   "source": [
    "### Other system dependencies"
   ]
  },
  {
   "cell_type": "code",
   "execution_count": 2,
   "id": "db82d514",
   "metadata": {},
   "outputs": [],
   "source": [
    "import os"
   ]
  },
  {
   "cell_type": "code",
   "execution_count": 3,
   "id": "bf3d1178",
   "metadata": {},
   "outputs": [],
   "source": [
    "from math import pi,sqrt"
   ]
  },
  {
   "cell_type": "code",
   "execution_count": 4,
   "id": "9454cdc5",
   "metadata": {},
   "outputs": [],
   "source": [
    "import numpy as np"
   ]
  },
  {
   "cell_type": "code",
   "execution_count": 5,
   "id": "61b339f9",
   "metadata": {},
   "outputs": [],
   "source": [
    "# import scipy.linalg"
   ]
  },
  {
   "cell_type": "code",
   "execution_count": 6,
   "id": "b3a50e01",
   "metadata": {},
   "outputs": [],
   "source": [
    "import control as ct"
   ]
  },
  {
   "cell_type": "code",
   "execution_count": 7,
   "id": "d214a6c0",
   "metadata": {},
   "outputs": [],
   "source": [
    "import matplotlib.pyplot as plt"
   ]
  },
  {
   "cell_type": "markdown",
   "id": "6b9bb7a6",
   "metadata": {},
   "source": [
    "### CryoTriple2B2W4B4W4B4W model definition data and matrix element functions exported from Mathematica "
   ]
  },
  {
   "cell_type": "code",
   "execution_count": 8,
   "id": "853069d5",
   "metadata": {},
   "outputs": [],
   "source": [
    "import symbexportCommonPlatformTriple_4B4W_2x4B4W4Wfull as tpmodel"
   ]
  },
  {
   "cell_type": "markdown",
   "id": "53c1d462",
   "metadata": {},
   "source": [
    "### Parameters exported from Mathematica"
   ]
  },
  {
   "cell_type": "raw",
   "id": "237f23f4",
   "metadata": {},
   "source": [
    "NOTE: The \"MatrixElementExport\" part of the following line (i.e., between the underscores) is the Mathematica case name, and will need to be edited to use parameters from realistic cases."
   ]
  },
  {
   "cell_type": "code",
   "execution_count": 9,
   "id": "fd9feea1",
   "metadata": {},
   "outputs": [],
   "source": [
    "import CommonPlatformTriple_4B4W_2x4B4W4W_MatrixElementExport_cptriple as tp"
   ]
  },
  {
   "cell_type": "markdown",
   "id": "7ce81973",
   "metadata": {},
   "source": [
    "### The stiffness matrix for the floats"
   ]
  },
  {
   "cell_type": "code",
   "execution_count": 10,
   "id": "c2715c9b",
   "metadata": {},
   "outputs": [],
   "source": [
    "qm = tpmodel.qm(tp.g,tp.m1,tp.m2I,tp.m2E,tp.m3I,tp.m3E,tp.I1x,tp.I1y,tp.I1z,tp.I1xy,tp.I1yz,tp.I1zx,tp.I2Ix,tp.I2Iy,tp.I2Iz,tp.I2Ixy,tp.I2Iyz,tp.I2Izx,tp.I2Ex,tp.I2Ey,tp.I2Ez,tp.I2Exy,tp.I2Eyz,tp.I2Ezx,tp.I3Ix,tp.I3Iy,tp.I3Iz,tp.I3Ixy,tp.I3Iyz,tp.I3Izx,tp.I3Ex,tp.I3Ey,tp.I3Ez,tp.I3Exy,tp.I3Eyz,tp.I3Ezx,tp.dtop,tp.d0,tp.d1I,tp.d1E,tp.d2I,tp.d2E,tp.d3I,tp.d3E,tp.d4I,tp.d4E,tp.chainIx,tp.chainEx,tp.n0,tp.n1,tp.n2I,tp.n2E,tp.n3I,tp.n3E,tp.n4I,tp.n4E,tp.n5I,tp.n5E,tp.su,tp.siI,tp.siE,tp.slI,tp.slE,tp.kbuz,tp.kbizI,tp.kbizE,tp.l1,tp.l2I,tp.l2E,tp.l3I,tp.l3E,tp.kw1,tp.kw2I,tp.kw2E,tp.kw3I,tp.kw3E,tp.Y1,tp.Y2I,tp.Y2E,tp.Y3I,tp.Y3E,tp.M11,tp.M21I,tp.M21E,tp.M31I,tp.M31E)"
   ]
  },
  {
   "cell_type": "code",
   "execution_count": 11,
   "id": "4c0a9485",
   "metadata": {},
   "outputs": [
    {
     "data": {
      "text/plain": [
       "(12, 12)"
      ]
     },
     "execution_count": 11,
     "metadata": {},
     "output_type": "execute_result"
    }
   ],
   "source": [
    "qm.shape"
   ]
  },
  {
   "cell_type": "markdown",
   "id": "22edc6bb",
   "metadata": {},
   "source": [
    "### The coupling matrix between floats and params"
   ]
  },
  {
   "cell_type": "code",
   "execution_count": 12,
   "id": "ed7020cb",
   "metadata": {},
   "outputs": [],
   "source": [
    "cqsm = tpmodel.cqsm(tp.g,tp.m1,tp.m2I,tp.m2E,tp.m3I,tp.m3E,tp.I1x,tp.I1y,tp.I1z,tp.I1xy,tp.I1yz,tp.I1zx,tp.I2Ix,tp.I2Iy,tp.I2Iz,tp.I2Ixy,tp.I2Iyz,tp.I2Izx,tp.I2Ex,tp.I2Ey,tp.I2Ez,tp.I2Exy,tp.I2Eyz,tp.I2Ezx,tp.I3Ix,tp.I3Iy,tp.I3Iz,tp.I3Ixy,tp.I3Iyz,tp.I3Izx,tp.I3Ex,tp.I3Ey,tp.I3Ez,tp.I3Exy,tp.I3Eyz,tp.I3Ezx,tp.dtop,tp.d0,tp.d1I,tp.d1E,tp.d2I,tp.d2E,tp.d3I,tp.d3E,tp.d4I,tp.d4E,tp.chainIx,tp.chainEx,tp.n0,tp.n1,tp.n2I,tp.n2E,tp.n3I,tp.n3E,tp.n4I,tp.n4E,tp.n5I,tp.n5E,tp.su,tp.siI,tp.siE,tp.slI,tp.slE,tp.kbuz,tp.kbizI,tp.kbizE,tp.l1,tp.l2I,tp.l2E,tp.l3I,tp.l3E,tp.kw1,tp.kw2I,tp.kw2E,tp.kw3I,tp.kw3E,tp.Y1,tp.Y2I,tp.Y2E,tp.Y3I,tp.Y3E,tp.M11,tp.M21I,tp.M21E,tp.M31I,tp.M31E)"
   ]
  },
  {
   "cell_type": "code",
   "execution_count": 13,
   "id": "110321c7",
   "metadata": {
    "scrolled": true
   },
   "outputs": [
    {
     "data": {
      "text/plain": [
       "(12, 6)"
      ]
     },
     "execution_count": 13,
     "metadata": {},
     "output_type": "execute_result"
    }
   ],
   "source": [
    "cqsm.shape"
   ]
  },
  {
   "cell_type": "markdown",
   "id": "2111ead1",
   "metadata": {},
   "source": [
    "### The coupling matrix between floats and vars"
   ]
  },
  {
   "cell_type": "code",
   "execution_count": 14,
   "id": "b3bfab24",
   "metadata": {},
   "outputs": [],
   "source": [
    "cqxm = tpmodel.cqxm(tp.g,tp.m1,tp.m2I,tp.m2E,tp.m3I,tp.m3E,tp.I1x,tp.I1y,tp.I1z,tp.I1xy,tp.I1yz,tp.I1zx,tp.I2Ix,tp.I2Iy,tp.I2Iz,tp.I2Ixy,tp.I2Iyz,tp.I2Izx,tp.I2Ex,tp.I2Ey,tp.I2Ez,tp.I2Exy,tp.I2Eyz,tp.I2Ezx,tp.I3Ix,tp.I3Iy,tp.I3Iz,tp.I3Ixy,tp.I3Iyz,tp.I3Izx,tp.I3Ex,tp.I3Ey,tp.I3Ez,tp.I3Exy,tp.I3Eyz,tp.I3Ezx,tp.dtop,tp.d0,tp.d1I,tp.d1E,tp.d2I,tp.d2E,tp.d3I,tp.d3E,tp.d4I,tp.d4E,tp.chainIx,tp.chainEx,tp.n0,tp.n1,tp.n2I,tp.n2E,tp.n3I,tp.n3E,tp.n4I,tp.n4E,tp.n5I,tp.n5E,tp.su,tp.siI,tp.siE,tp.slI,tp.slE,tp.kbuz,tp.kbizI,tp.kbizE,tp.l1,tp.l2I,tp.l2E,tp.l3I,tp.l3E,tp.kw1,tp.kw2I,tp.kw2E,tp.kw3I,tp.kw3E,tp.Y1,tp.Y2I,tp.Y2E,tp.Y3I,tp.Y3E,tp.M11,tp.M21I,tp.M21E,tp.M31I,tp.M31E)"
   ]
  },
  {
   "cell_type": "code",
   "execution_count": 15,
   "id": "74b359cb",
   "metadata": {},
   "outputs": [
    {
     "data": {
      "text/plain": [
       "(12, 30)"
      ]
     },
     "execution_count": 15,
     "metadata": {},
     "output_type": "execute_result"
    }
   ],
   "source": [
    "cqxm.shape"
   ]
  },
  {
   "cell_type": "markdown",
   "id": "0b6a2302",
   "metadata": {},
   "source": [
    "### The stiffness matrix for the params (raw, then effective)"
   ]
  },
  {
   "cell_type": "code",
   "execution_count": 16,
   "id": "5a37b0dd",
   "metadata": {},
   "outputs": [],
   "source": [
    "sm = tpmodel.sm(tp.g,tp.m1,tp.m2I,tp.m2E,tp.m3I,tp.m3E,tp.I1x,tp.I1y,tp.I1z,tp.I1xy,tp.I1yz,tp.I1zx,tp.I2Ix,tp.I2Iy,tp.I2Iz,tp.I2Ixy,tp.I2Iyz,tp.I2Izx,tp.I2Ex,tp.I2Ey,tp.I2Ez,tp.I2Exy,tp.I2Eyz,tp.I2Ezx,tp.I3Ix,tp.I3Iy,tp.I3Iz,tp.I3Ixy,tp.I3Iyz,tp.I3Izx,tp.I3Ex,tp.I3Ey,tp.I3Ez,tp.I3Exy,tp.I3Eyz,tp.I3Ezx,tp.dtop,tp.d0,tp.d1I,tp.d1E,tp.d2I,tp.d2E,tp.d3I,tp.d3E,tp.d4I,tp.d4E,tp.chainIx,tp.chainEx,tp.n0,tp.n1,tp.n2I,tp.n2E,tp.n3I,tp.n3E,tp.n4I,tp.n4E,tp.n5I,tp.n5E,tp.su,tp.siI,tp.siE,tp.slI,tp.slE,tp.kbuz,tp.kbizI,tp.kbizE,tp.l1,tp.l2I,tp.l2E,tp.l3I,tp.l3E,tp.kw1,tp.kw2I,tp.kw2E,tp.kw3I,tp.kw3E,tp.Y1,tp.Y2I,tp.Y2E,tp.Y3I,tp.Y3E,tp.M11,tp.M21I,tp.M21E,tp.M31I,tp.M31E)"
   ]
  },
  {
   "cell_type": "code",
   "execution_count": 17,
   "id": "5c187c21",
   "metadata": {},
   "outputs": [
    {
     "data": {
      "text/plain": [
       "(6, 6)"
      ]
     },
     "execution_count": 17,
     "metadata": {},
     "output_type": "execute_result"
    }
   ],
   "source": [
    "sm.shape"
   ]
  },
  {
   "cell_type": "code",
   "execution_count": 18,
   "id": "582b6a56",
   "metadata": {
    "scrolled": true
   },
   "outputs": [],
   "source": [
    "smeff = tpmodel.smeff(tp.g,tp.m1,tp.m2I,tp.m2E,tp.m3I,tp.m3E,tp.I1x,tp.I1y,tp.I1z,tp.I1xy,tp.I1yz,tp.I1zx,tp.I2Ix,tp.I2Iy,tp.I2Iz,tp.I2Ixy,tp.I2Iyz,tp.I2Izx,tp.I2Ex,tp.I2Ey,tp.I2Ez,tp.I2Exy,tp.I2Eyz,tp.I2Ezx,tp.I3Ix,tp.I3Iy,tp.I3Iz,tp.I3Ixy,tp.I3Iyz,tp.I3Izx,tp.I3Ex,tp.I3Ey,tp.I3Ez,tp.I3Exy,tp.I3Eyz,tp.I3Ezx,tp.dtop,tp.d0,tp.d1I,tp.d1E,tp.d2I,tp.d2E,tp.d3I,tp.d3E,tp.d4I,tp.d4E,tp.chainIx,tp.chainEx,tp.n0,tp.n1,tp.n2I,tp.n2E,tp.n3I,tp.n3E,tp.n4I,tp.n4E,tp.n5I,tp.n5E,tp.su,tp.siI,tp.siE,tp.slI,tp.slE,tp.kbuz,tp.kbizI,tp.kbizE,tp.l1,tp.l2I,tp.l2E,tp.l3I,tp.l3E,tp.kw1,tp.kw2I,tp.kw2E,tp.kw3I,tp.kw3E,tp.Y1,tp.Y2I,tp.Y2E,tp.Y3I,tp.Y3E,tp.M11,tp.M21I,tp.M21E,tp.M31I,tp.M31E)"
   ]
  },
  {
   "cell_type": "code",
   "execution_count": 19,
   "id": "7454f9e1",
   "metadata": {},
   "outputs": [
    {
     "data": {
      "text/plain": [
       "(6, 6)"
      ]
     },
     "execution_count": 19,
     "metadata": {},
     "output_type": "execute_result"
    }
   ],
   "source": [
    "smeff.shape"
   ]
  },
  {
   "cell_type": "markdown",
   "id": "4adcdd3f",
   "metadata": {},
   "source": [
    "### The coupling matrix between vars and params (raw then effective)"
   ]
  },
  {
   "cell_type": "code",
   "execution_count": 20,
   "id": "dcba9462",
   "metadata": {},
   "outputs": [],
   "source": [
    "cxsm = tpmodel.cxsm(tp.g,tp.m1,tp.m2I,tp.m2E,tp.m3I,tp.m3E,tp.I1x,tp.I1y,tp.I1z,tp.I1xy,tp.I1yz,tp.I1zx,tp.I2Ix,tp.I2Iy,tp.I2Iz,tp.I2Ixy,tp.I2Iyz,tp.I2Izx,tp.I2Ex,tp.I2Ey,tp.I2Ez,tp.I2Exy,tp.I2Eyz,tp.I2Ezx,tp.I3Ix,tp.I3Iy,tp.I3Iz,tp.I3Ixy,tp.I3Iyz,tp.I3Izx,tp.I3Ex,tp.I3Ey,tp.I3Ez,tp.I3Exy,tp.I3Eyz,tp.I3Ezx,tp.dtop,tp.d0,tp.d1I,tp.d1E,tp.d2I,tp.d2E,tp.d3I,tp.d3E,tp.d4I,tp.d4E,tp.chainIx,tp.chainEx,tp.n0,tp.n1,tp.n2I,tp.n2E,tp.n3I,tp.n3E,tp.n4I,tp.n4E,tp.n5I,tp.n5E,tp.su,tp.siI,tp.siE,tp.slI,tp.slE,tp.kbuz,tp.kbizI,tp.kbizE,tp.l1,tp.l2I,tp.l2E,tp.l3I,tp.l3E,tp.kw1,tp.kw2I,tp.kw2E,tp.kw3I,tp.kw3E,tp.Y1,tp.Y2I,tp.Y2E,tp.Y3I,tp.Y3E,tp.M11,tp.M21I,tp.M21E,tp.M31I,tp.M31E)"
   ]
  },
  {
   "cell_type": "code",
   "execution_count": 21,
   "id": "ec222b22",
   "metadata": {},
   "outputs": [
    {
     "data": {
      "text/plain": [
       "(30, 6)"
      ]
     },
     "execution_count": 21,
     "metadata": {},
     "output_type": "execute_result"
    }
   ],
   "source": [
    "cxsm.shape"
   ]
  },
  {
   "cell_type": "code",
   "execution_count": 22,
   "id": "0fc0bbea",
   "metadata": {},
   "outputs": [],
   "source": [
    "cxsmeff = tpmodel.cxsmeff(tp.g,tp.m1,tp.m2I,tp.m2E,tp.m3I,tp.m3E,tp.I1x,tp.I1y,tp.I1z,tp.I1xy,tp.I1yz,tp.I1zx,tp.I2Ix,tp.I2Iy,tp.I2Iz,tp.I2Ixy,tp.I2Iyz,tp.I2Izx,tp.I2Ex,tp.I2Ey,tp.I2Ez,tp.I2Exy,tp.I2Eyz,tp.I2Ezx,tp.I3Ix,tp.I3Iy,tp.I3Iz,tp.I3Ixy,tp.I3Iyz,tp.I3Izx,tp.I3Ex,tp.I3Ey,tp.I3Ez,tp.I3Exy,tp.I3Eyz,tp.I3Ezx,tp.dtop,tp.d0,tp.d1I,tp.d1E,tp.d2I,tp.d2E,tp.d3I,tp.d3E,tp.d4I,tp.d4E,tp.chainIx,tp.chainEx,tp.n0,tp.n1,tp.n2I,tp.n2E,tp.n3I,tp.n3E,tp.n4I,tp.n4E,tp.n5I,tp.n5E,tp.su,tp.siI,tp.siE,tp.slI,tp.slE,tp.kbuz,tp.kbizI,tp.kbizE,tp.l1,tp.l2I,tp.l2E,tp.l3I,tp.l3E,tp.kw1,tp.kw2I,tp.kw2E,tp.kw3I,tp.kw3E,tp.Y1,tp.Y2I,tp.Y2E,tp.Y3I,tp.Y3E,tp.M11,tp.M21I,tp.M21E,tp.M31I,tp.M31E)"
   ]
  },
  {
   "cell_type": "code",
   "execution_count": 23,
   "id": "00bf0a9b",
   "metadata": {},
   "outputs": [
    {
     "data": {
      "text/plain": [
       "(30, 6)"
      ]
     },
     "execution_count": 23,
     "metadata": {},
     "output_type": "execute_result"
    }
   ],
   "source": [
    "cxsmeff.shape"
   ]
  },
  {
   "cell_type": "markdown",
   "id": "0ea4d177",
   "metadata": {},
   "source": [
    "### The stiffness matrix for vars (raw, then effective)"
   ]
  },
  {
   "cell_type": "code",
   "execution_count": 24,
   "id": "e30589b5",
   "metadata": {},
   "outputs": [],
   "source": [
    "xm = tpmodel.xm(tp.g,tp.m1,tp.m2I,tp.m2E,tp.m3I,tp.m3E,tp.I1x,tp.I1y,tp.I1z,tp.I1xy,tp.I1yz,tp.I1zx,tp.I2Ix,tp.I2Iy,tp.I2Iz,tp.I2Ixy,tp.I2Iyz,tp.I2Izx,tp.I2Ex,tp.I2Ey,tp.I2Ez,tp.I2Exy,tp.I2Eyz,tp.I2Ezx,tp.I3Ix,tp.I3Iy,tp.I3Iz,tp.I3Ixy,tp.I3Iyz,tp.I3Izx,tp.I3Ex,tp.I3Ey,tp.I3Ez,tp.I3Exy,tp.I3Eyz,tp.I3Ezx,tp.dtop,tp.d0,tp.d1I,tp.d1E,tp.d2I,tp.d2E,tp.d3I,tp.d3E,tp.d4I,tp.d4E,tp.chainIx,tp.chainEx,tp.n0,tp.n1,tp.n2I,tp.n2E,tp.n3I,tp.n3E,tp.n4I,tp.n4E,tp.n5I,tp.n5E,tp.su,tp.siI,tp.siE,tp.slI,tp.slE,tp.kbuz,tp.kbizI,tp.kbizE,tp.l1,tp.l2I,tp.l2E,tp.l3I,tp.l3E,tp.kw1,tp.kw2I,tp.kw2E,tp.kw3I,tp.kw3E,tp.Y1,tp.Y2I,tp.Y2E,tp.Y3I,tp.Y3E,tp.M11,tp.M21I,tp.M21E,tp.M31I,tp.M31E)"
   ]
  },
  {
   "cell_type": "code",
   "execution_count": 25,
   "id": "464e5106",
   "metadata": {},
   "outputs": [
    {
     "data": {
      "text/plain": [
       "(30, 30)"
      ]
     },
     "execution_count": 25,
     "metadata": {},
     "output_type": "execute_result"
    }
   ],
   "source": [
    "xm.shape"
   ]
  },
  {
   "cell_type": "code",
   "execution_count": 26,
   "id": "ac20fb3d",
   "metadata": {},
   "outputs": [],
   "source": [
    "xmeff=tpmodel.xmeff(tp.g,tp.m1,tp.m2I,tp.m2E,tp.m3I,tp.m3E,tp.I1x,tp.I1y,tp.I1z,tp.I1xy,tp.I1yz,tp.I1zx,tp.I2Ix,tp.I2Iy,tp.I2Iz,tp.I2Ixy,tp.I2Iyz,tp.I2Izx,tp.I2Ex,tp.I2Ey,tp.I2Ez,tp.I2Exy,tp.I2Eyz,tp.I2Ezx,tp.I3Ix,tp.I3Iy,tp.I3Iz,tp.I3Ixy,tp.I3Iyz,tp.I3Izx,tp.I3Ex,tp.I3Ey,tp.I3Ez,tp.I3Exy,tp.I3Eyz,tp.I3Ezx,tp.dtop,tp.d0,tp.d1I,tp.d1E,tp.d2I,tp.d2E,tp.d3I,tp.d3E,tp.d4I,tp.d4E,tp.chainIx,tp.chainEx,tp.n0,tp.n1,tp.n2I,tp.n2E,tp.n3I,tp.n3E,tp.n4I,tp.n4E,tp.n5I,tp.n5E,tp.su,tp.siI,tp.siE,tp.slI,tp.slE,tp.kbuz,tp.kbizI,tp.kbizE,tp.l1,tp.l2I,tp.l2E,tp.l3I,tp.l3E,tp.kw1,tp.kw2I,tp.kw2E,tp.kw3I,tp.kw3E,tp.Y1,tp.Y2I,tp.Y2E,tp.Y3I,tp.Y3E,tp.M11,tp.M21I,tp.M21E,tp.M31I,tp.M31E)"
   ]
  },
  {
   "cell_type": "code",
   "execution_count": 27,
   "id": "f6331df9",
   "metadata": {},
   "outputs": [
    {
     "data": {
      "text/plain": [
       "(30, 30)"
      ]
     },
     "execution_count": 27,
     "metadata": {},
     "output_type": "execute_result"
    }
   ],
   "source": [
    "xmeff.shape"
   ]
  },
  {
   "cell_type": "markdown",
   "id": "f3905372",
   "metadata": {},
   "source": [
    "### The mass matrix"
   ]
  },
  {
   "cell_type": "code",
   "execution_count": 28,
   "id": "e0d07480",
   "metadata": {},
   "outputs": [],
   "source": [
    "km = tpmodel.km(tp.g,tp.m1,tp.m2I,tp.m2E,tp.m3I,tp.m3E,tp.I1x,tp.I1y,tp.I1z,tp.I1xy,tp.I1yz,tp.I1zx,tp.I2Ix,tp.I2Iy,tp.I2Iz,tp.I2Ixy,tp.I2Iyz,tp.I2Izx,tp.I2Ex,tp.I2Ey,tp.I2Ez,tp.I2Exy,tp.I2Eyz,tp.I2Ezx,tp.I3Ix,tp.I3Iy,tp.I3Iz,tp.I3Ixy,tp.I3Iyz,tp.I3Izx,tp.I3Ex,tp.I3Ey,tp.I3Ez,tp.I3Exy,tp.I3Eyz,tp.I3Ezx,tp.dtop,tp.d0,tp.d1I,tp.d1E,tp.d2I,tp.d2E,tp.d3I,tp.d3E,tp.d4I,tp.d4E,tp.chainIx,tp.chainEx,tp.n0,tp.n1,tp.n2I,tp.n2E,tp.n3I,tp.n3E,tp.n4I,tp.n4E,tp.n5I,tp.n5E,tp.su,tp.siI,tp.siE,tp.slI,tp.slE,tp.kbuz,tp.kbizI,tp.kbizE,tp.l1,tp.l2I,tp.l2E,tp.l3I,tp.l3E,tp.kw1,tp.kw2I,tp.kw2E,tp.kw3I,tp.kw3E,tp.Y1,tp.Y2I,tp.Y2E,tp.Y3I,tp.Y3E,tp.M11,tp.M21I,tp.M21E,tp.M31I,tp.M31E)"
   ]
  },
  {
   "cell_type": "code",
   "execution_count": 29,
   "id": "9a787a80",
   "metadata": {},
   "outputs": [
    {
     "data": {
      "text/plain": [
       "(30, 30)"
      ]
     },
     "execution_count": 29,
     "metadata": {},
     "output_type": "execute_result"
    }
   ],
   "source": [
    "km.shape"
   ]
  },
  {
   "cell_type": "markdown",
   "id": "2d6f2410",
   "metadata": {},
   "source": [
    "# Generate state space"
   ]
  },
  {
   "cell_type": "markdown",
   "id": "48098f60",
   "metadata": {},
   "source": [
    "## Generate full A, B, C, D matrices"
   ]
  },
  {
   "cell_type": "code",
   "execution_count": 30,
   "id": "94601bee",
   "metadata": {},
   "outputs": [],
   "source": [
    "A = tpmodel.A(tp.g,tp.m1,tp.m2I,tp.m2E,tp.m3I,tp.m3E,tp.I1x,tp.I1y,tp.I1z,tp.I1xy,tp.I1yz,tp.I1zx,tp.I2Ix,tp.I2Iy,tp.I2Iz,tp.I2Ixy,tp.I2Iyz,tp.I2Izx,tp.I2Ex,tp.I2Ey,tp.I2Ez,tp.I2Exy,tp.I2Eyz,tp.I2Ezx,tp.I3Ix,tp.I3Iy,tp.I3Iz,tp.I3Ixy,tp.I3Iyz,tp.I3Izx,tp.I3Ex,tp.I3Ey,tp.I3Ez,tp.I3Exy,tp.I3Eyz,tp.I3Ezx,tp.dtop,tp.d0,tp.d1I,tp.d1E,tp.d2I,tp.d2E,tp.d3I,tp.d3E,tp.d4I,tp.d4E,tp.chainIx,tp.chainEx,tp.n0,tp.n1,tp.n2I,tp.n2E,tp.n3I,tp.n3E,tp.n4I,tp.n4E,tp.n5I,tp.n5E,tp.su,tp.siI,tp.siE,tp.slI,tp.slE,tp.kbuz,tp.kbizI,tp.kbizE,tp.l1,tp.l2I,tp.l2E,tp.l3I,tp.l3E,tp.kw1,tp.kw2I,tp.kw2E,tp.kw3I,tp.kw3E,tp.Y1,tp.Y2I,tp.Y2E,tp.Y3I,tp.Y3E,tp.M11,tp.M21I,tp.M21E,tp.M31I,tp.M31E)"
   ]
  },
  {
   "cell_type": "code",
   "execution_count": 31,
   "id": "b64e59cb",
   "metadata": {},
   "outputs": [
    {
     "data": {
      "text/plain": [
       "(60, 60)"
      ]
     },
     "execution_count": 31,
     "metadata": {},
     "output_type": "execute_result"
    }
   ],
   "source": [
    "A.shape"
   ]
  },
  {
   "cell_type": "code",
   "execution_count": 32,
   "id": "32eb6cd1",
   "metadata": {},
   "outputs": [],
   "source": [
    "B = tpmodel.B(tp.g,tp.m1,tp.m2I,tp.m2E,tp.m3I,tp.m3E,tp.I1x,tp.I1y,tp.I1z,tp.I1xy,tp.I1yz,tp.I1zx,tp.I2Ix,tp.I2Iy,tp.I2Iz,tp.I2Ixy,tp.I2Iyz,tp.I2Izx,tp.I2Ex,tp.I2Ey,tp.I2Ez,tp.I2Exy,tp.I2Eyz,tp.I2Ezx,tp.I3Ix,tp.I3Iy,tp.I3Iz,tp.I3Ixy,tp.I3Iyz,tp.I3Izx,tp.I3Ex,tp.I3Ey,tp.I3Ez,tp.I3Exy,tp.I3Eyz,tp.I3Ezx,tp.dtop,tp.d0,tp.d1I,tp.d1E,tp.d2I,tp.d2E,tp.d3I,tp.d3E,tp.d4I,tp.d4E,tp.chainIx,tp.chainEx,tp.n0,tp.n1,tp.n2I,tp.n2E,tp.n3I,tp.n3E,tp.n4I,tp.n4E,tp.n5I,tp.n5E,tp.su,tp.siI,tp.siE,tp.slI,tp.slE,tp.kbuz,tp.kbizI,tp.kbizE,tp.l1,tp.l2I,tp.l2E,tp.l3I,tp.l3E,tp.kw1,tp.kw2I,tp.kw2E,tp.kw3I,tp.kw3E,tp.Y1,tp.Y2I,tp.Y2E,tp.Y3I,tp.Y3E,tp.M11,tp.M21I,tp.M21E,tp.M31I,tp.M31E)"
   ]
  },
  {
   "cell_type": "code",
   "execution_count": 33,
   "id": "fe7d598d",
   "metadata": {},
   "outputs": [
    {
     "data": {
      "text/plain": [
       "(60, 36)"
      ]
     },
     "execution_count": 33,
     "metadata": {},
     "output_type": "execute_result"
    }
   ],
   "source": [
    "B.shape"
   ]
  },
  {
   "cell_type": "code",
   "execution_count": 34,
   "id": "0a809d91",
   "metadata": {},
   "outputs": [],
   "source": [
    "C = tpmodel.C(tp.g,tp.m1,tp.m2I,tp.m2E,tp.m3I,tp.m3E,tp.I1x,tp.I1y,tp.I1z,tp.I1xy,tp.I1yz,tp.I1zx,tp.I2Ix,tp.I2Iy,tp.I2Iz,tp.I2Ixy,tp.I2Iyz,tp.I2Izx,tp.I2Ex,tp.I2Ey,tp.I2Ez,tp.I2Exy,tp.I2Eyz,tp.I2Ezx,tp.I3Ix,tp.I3Iy,tp.I3Iz,tp.I3Ixy,tp.I3Iyz,tp.I3Izx,tp.I3Ex,tp.I3Ey,tp.I3Ez,tp.I3Exy,tp.I3Eyz,tp.I3Ezx,tp.dtop,tp.d0,tp.d1I,tp.d1E,tp.d2I,tp.d2E,tp.d3I,tp.d3E,tp.d4I,tp.d4E,tp.chainIx,tp.chainEx,tp.n0,tp.n1,tp.n2I,tp.n2E,tp.n3I,tp.n3E,tp.n4I,tp.n4E,tp.n5I,tp.n5E,tp.su,tp.siI,tp.siE,tp.slI,tp.slE,tp.kbuz,tp.kbizI,tp.kbizE,tp.l1,tp.l2I,tp.l2E,tp.l3I,tp.l3E,tp.kw1,tp.kw2I,tp.kw2E,tp.kw3I,tp.kw3E,tp.Y1,tp.Y2I,tp.Y2E,tp.Y3I,tp.Y3E,tp.M11,tp.M21I,tp.M21E,tp.M31I,tp.M31E)"
   ]
  },
  {
   "cell_type": "code",
   "execution_count": 35,
   "id": "032afbb8",
   "metadata": {},
   "outputs": [
    {
     "data": {
      "text/plain": [
       "(36, 60)"
      ]
     },
     "execution_count": 35,
     "metadata": {},
     "output_type": "execute_result"
    }
   ],
   "source": [
    "C.shape"
   ]
  },
  {
   "cell_type": "code",
   "execution_count": 36,
   "id": "e8aa54e2",
   "metadata": {},
   "outputs": [],
   "source": [
    "D = tpmodel.D(tp.g,tp.m1,tp.m2I,tp.m2E,tp.m3I,tp.m3E,tp.I1x,tp.I1y,tp.I1z,tp.I1xy,tp.I1yz,tp.I1zx,tp.I2Ix,tp.I2Iy,tp.I2Iz,tp.I2Ixy,tp.I2Iyz,tp.I2Izx,tp.I2Ex,tp.I2Ey,tp.I2Ez,tp.I2Exy,tp.I2Eyz,tp.I2Ezx,tp.I3Ix,tp.I3Iy,tp.I3Iz,tp.I3Ixy,tp.I3Iyz,tp.I3Izx,tp.I3Ex,tp.I3Ey,tp.I3Ez,tp.I3Exy,tp.I3Eyz,tp.I3Ezx,tp.dtop,tp.d0,tp.d1I,tp.d1E,tp.d2I,tp.d2E,tp.d3I,tp.d3E,tp.d4I,tp.d4E,tp.chainIx,tp.chainEx,tp.n0,tp.n1,tp.n2I,tp.n2E,tp.n3I,tp.n3E,tp.n4I,tp.n4E,tp.n5I,tp.n5E,tp.su,tp.siI,tp.siE,tp.slI,tp.slE,tp.kbuz,tp.kbizI,tp.kbizE,tp.l1,tp.l2I,tp.l2E,tp.l3I,tp.l3E,tp.kw1,tp.kw2I,tp.kw2E,tp.kw3I,tp.kw3E,tp.Y1,tp.Y2I,tp.Y2E,tp.Y3I,tp.Y3E,tp.M11,tp.M21I,tp.M21E,tp.M31I,tp.M31E)"
   ]
  },
  {
   "cell_type": "code",
   "execution_count": 37,
   "id": "722b6d88",
   "metadata": {},
   "outputs": [
    {
     "data": {
      "text/plain": [
       "(36, 36)"
      ]
     },
     "execution_count": 37,
     "metadata": {},
     "output_type": "execute_result"
    }
   ],
   "source": [
    "D.shape"
   ]
  },
  {
   "cell_type": "markdown",
   "id": "ec51e1b1",
   "metadata": {},
   "source": [
    "## Generate full state space object"
   ]
  },
  {
   "cell_type": "code",
   "execution_count": 38,
   "id": "99ba5402",
   "metadata": {},
   "outputs": [],
   "source": [
    "pend = tpmodel.pendSS(tp.g,tp.m1,tp.m2I,tp.m2E,tp.m3I,tp.m3E,tp.I1x,tp.I1y,tp.I1z,tp.I1xy,tp.I1yz,tp.I1zx,tp.I2Ix,tp.I2Iy,tp.I2Iz,tp.I2Ixy,tp.I2Iyz,tp.I2Izx,tp.I2Ex,tp.I2Ey,tp.I2Ez,tp.I2Exy,tp.I2Eyz,tp.I2Ezx,tp.I3Ix,tp.I3Iy,tp.I3Iz,tp.I3Ixy,tp.I3Iyz,tp.I3Izx,tp.I3Ex,tp.I3Ey,tp.I3Ez,tp.I3Exy,tp.I3Eyz,tp.I3Ezx,tp.dtop,tp.d0,tp.d1I,tp.d1E,tp.d2I,tp.d2E,tp.d3I,tp.d3E,tp.d4I,tp.d4E,tp.chainIx,tp.chainEx,tp.n0,tp.n1,tp.n2I,tp.n2E,tp.n3I,tp.n3E,tp.n4I,tp.n4E,tp.n5I,tp.n5E,tp.su,tp.siI,tp.siE,tp.slI,tp.slE,tp.kbuz,tp.kbizI,tp.kbizE,tp.l1,tp.l2I,tp.l2E,tp.l3I,tp.l3E,tp.kw1,tp.kw2I,tp.kw2E,tp.kw3I,tp.kw3E,tp.Y1,tp.Y2I,tp.Y2E,tp.Y3I,tp.Y3E,tp.M11,tp.M21I,tp.M21E,tp.M31I,tp.M31E)"
   ]
  },
  {
   "cell_type": "markdown",
   "id": "b3d63912-2729-4c32-8c7b-0e421eed18f4",
   "metadata": {},
   "source": [
    "## Bode plot of support displacement input (x00) to input-chain optic displacement(x3I)"
   ]
  },
  {
   "cell_type": "code",
   "execution_count": 41,
   "id": "7e2171d3",
   "metadata": {
    "scrolled": true
   },
   "outputs": [],
   "source": [
    "pend_x00_x3=tpmodel.trimio(pend,[\"x00\"],[\"x3I\"])"
   ]
  },
  {
   "cell_type": "code",
   "execution_count": 42,
   "id": "4baec677",
   "metadata": {
    "scrolled": true
   },
   "outputs": [
    {
     "data": {
      "text/plain": [
       "<control.ctrlplot.ControlPlot at 0x11fb17cd0>"
      ]
     },
     "execution_count": 42,
     "metadata": {},
     "output_type": "execute_result"
    },
    {
     "data": {
      "image/png": "[encoded data removed]",
      "text/plain": [
       "<Figure size 640x480 with 2 Axes>"
      ]
     },
     "metadata": {},
     "output_type": "display_data"
    }
   ],
   "source": [
    "ct.bode_plot(pend_x00_x3,Hz=True,omega_limits=[0.1,100])"
   ]
  },
  {
   "cell_type": "markdown",
   "id": "1c9fdeaa-6598-4f4b-ac80-718d708a5135",
   "metadata": {},
   "source": [
    "## Bode plot of top mass force input (f_x1) to input-chain optic displacement (x3I)"
   ]
  },
  {
   "cell_type": "code",
   "execution_count": 43,
   "id": "bc648a3c",
   "metadata": {},
   "outputs": [],
   "source": [
    "pend_x1_x3I=tpmodel.trimio(pend,[\"f_x1\"],[\"x3I\"])"
   ]
  },
  {
   "cell_type": "code",
   "execution_count": 44,
   "id": "0e8b8193",
   "metadata": {},
   "outputs": [
    {
     "data": {
      "text/plain": [
       "<control.ctrlplot.ControlPlot at 0x16722c1d0>"
      ]
     },
     "execution_count": 44,
     "metadata": {},
     "output_type": "execute_result"
    },
    {
     "data": {
      "image/png": "[encoded data removed]",
      "text/plain": [
       "<Figure size 640x480 with 2 Axes>"
      ]
     },
     "metadata": {},
     "output_type": "display_data"
    }
   ],
   "source": [
    "ct.bode_plot(pend_x1_x3I,Hz=True,omega_limits=[0.1,100])"
   ]
  },
  {
   "cell_type": "markdown",
   "id": "033c8116-9541-4cf1-9479-01f039e31338",
   "metadata": {},
   "source": [
    "## Bode Plot from support displacement (x00) to differential optic motion (x3I-x3E)"
   ]
  },
  {
   "cell_type": "code",
   "execution_count": null,
   "id": "0042c7fc-99d6-4f90-b5f0-8ba25ea01e03",
   "metadata": {},
   "outputs": [],
   "source": [
    "sumblk = ct.summing_junction(inputs=['in1','in2'],output='out')\n",
    "sumblk.name='sumblk'\n",
    "sumblk.input_index\n",
    "pend_x00_diff=tpmodel.trimio(pend,[\"x00\"],['x3I','x3E'])\n",
    "pend_x00_diff.name='pend_x00_diff'\n",
    "pend_x00_diff.name\n",
    "pend_x00_diff.input_index\n",
    "pend_x00_diff.output_index\n",
    "T = ct.interconnect(\n",
    "    [pend_x00_diff,sumblk],\n",
    "    connections=[\n",
    "        [('sumblk','in1'),('pend_x00_diff','x3I',+1)],\n",
    "        [('sumblk','in2'),('pend_x00_diff','x3E',-1)]\n",
    "    ],\n",
    "    inplist='x00',\n",
    "    outlist='out',\n",
    ")\n",
    "ct.bode_plot(T,Hz=True,omega_limits=[0.1,100])"
   ]
  },
  {
   "cell_type": "markdown",
   "id": "0bf69f5a",
   "metadata": {},
   "source": [
    "# Eigenmode stuff"
   ]
  },
  {
   "cell_type": "code",
   "execution_count": 45,
   "id": "b4681297",
   "metadata": {},
   "outputs": [],
   "source": [
    "(Hz,evecs) = tpmodel.eigenmodes(tp.g,tp.m1,tp.m2I,tp.m2E,tp.m3I,tp.m3E,tp.I1x,tp.I1y,tp.I1z,tp.I1xy,tp.I1yz,tp.I1zx,tp.I2Ix,tp.I2Iy,tp.I2Iz,tp.I2Ixy,tp.I2Iyz,tp.I2Izx,tp.I2Ex,tp.I2Ey,tp.I2Ez,tp.I2Exy,tp.I2Eyz,tp.I2Ezx,tp.I3Ix,tp.I3Iy,tp.I3Iz,tp.I3Ixy,tp.I3Iyz,tp.I3Izx,tp.I3Ex,tp.I3Ey,tp.I3Ez,tp.I3Exy,tp.I3Eyz,tp.I3Ezx,tp.dtop,tp.d0,tp.d1I,tp.d1E,tp.d2I,tp.d2E,tp.d3I,tp.d3E,tp.d4I,tp.d4E,tp.chainIx,tp.chainEx,tp.n0,tp.n1,tp.n2I,tp.n2E,tp.n3I,tp.n3E,tp.n4I,tp.n4E,tp.n5I,tp.n5E,tp.su,tp.siI,tp.siE,tp.slI,tp.slE,tp.kbuz,tp.kbizI,tp.kbizE,tp.l1,tp.l2I,tp.l2E,tp.l3I,tp.l3E,tp.kw1,tp.kw2I,tp.kw2E,tp.kw3I,tp.kw3E,tp.Y1,tp.Y2I,tp.Y2E,tp.Y3I,tp.Y3E,tp.M11,tp.M21I,tp.M21E,tp.M31I,tp.M31E)"
   ]
  },
  {
   "cell_type": "code",
   "execution_count": 46,
   "id": "2263a715",
   "metadata": {},
   "outputs": [
    {
     "data": {
      "text/plain": [
       "array([16.46941993, 16.29726517, 14.96751606, 13.53943992, 12.55220632,\n",
       "       10.7991159 ,  7.84163221,  6.06623627,  3.70398967,  3.06418708,\n",
       "        3.06169273,  2.67428615,  2.62633613,  2.62188675,  2.61559849,\n",
       "        2.49584939,  2.05076079,  1.89820814,  1.84279054,  1.69746625,\n",
       "        1.56377207,  1.55868019,  1.25818682,  1.24783384,  1.08341636,\n",
       "        1.02308782,  0.75586771,  0.67422179,  0.6303582 ,  0.6283834 ])"
      ]
     },
     "execution_count": 46,
     "metadata": {},
     "output_type": "execute_result"
    }
   ],
   "source": [
    "Hz"
   ]
  },
  {
   "cell_type": "markdown",
   "id": "9a8245ca",
   "metadata": {},
   "source": [
    "## Examine the lowest frequency mode (x and pitch)"
   ]
  },
  {
   "cell_type": "code",
   "execution_count": 47,
   "id": "b91d65a5",
   "metadata": {},
   "outputs": [
    {
     "data": {
      "text/plain": [
       "[('x1', np.float64(-0.0721857619065905)),\n",
       " ('y1', np.float64(-8.602035398421815e-16)),\n",
       " ('z1', np.float64(-1.1795111108529987e-16)),\n",
       " ('yaw1', np.float64(1.9051238112378977e-15)),\n",
       " ('pitch1', np.float64(0.05310999055993104)),\n",
       " ('roll1', np.float64(-2.0268562556791124e-16)),\n",
       " ('x2I', np.float64(-0.15733962294617782)),\n",
       " ('y2I', np.float64(-2.089267001311621e-15)),\n",
       " ('z2I', np.float64(0.0027757686742550915)),\n",
       " ('yaw2I', np.float64(3.8591652545555317e-16)),\n",
       " ('pitch2I', np.float64(0.41707740240684105)),\n",
       " ('roll2I', np.float64(-1.48132841978053e-14)),\n",
       " ('x2E', np.float64(-0.1573396229461778)),\n",
       " ('y2E', np.float64(-1.96423491299887e-15)),\n",
       " ('z2E', np.float64(-0.0027757686742557156)),\n",
       " ('yaw2E', np.float64(3.6151427985329924e-16)),\n",
       " ('pitch2E', np.float64(0.41707740240684477)),\n",
       " ('roll2E', np.float64(-3.0481467359603457e-15)),\n",
       " ('x3I', np.float64(-0.26475758550198514)),\n",
       " ('y3I', np.float64(-3.491222452054436e-15)),\n",
       " ('z3I', np.float64(0.0027886504895874753)),\n",
       " ('yaw3I', np.float64(6.12034470304274e-16)),\n",
       " ('pitch3I', np.float64(0.47661608790401805)),\n",
       " ('roll3I', np.float64(1.7493777131132434e-15)),\n",
       " ('x3E', np.float64(-0.2647575855019852)),\n",
       " ('y3E', np.float64(-3.2418042489033815e-15)),\n",
       " ('z3E', np.float64(-0.002788650489588218)),\n",
       " ('yaw3E', np.float64(6.019052964739948e-16)),\n",
       " ('pitch3E', np.float64(0.4766160879040221)),\n",
       " ('roll3E', np.float64(1.4165182104165335e-14))]"
      ]
     },
     "execution_count": 47,
     "metadata": {},
     "output_type": "execute_result"
    }
   ],
   "source": [
    "list(zip(tpmodel.allvars,list(evecs[29])))"
   ]
  }
 ],
 "metadata": {
  "kernelspec": {
   "display_name": "controlenv",
   "language": "python",
   "name": "controlenv"
  },
  "language_info": {
   "codemirror_mode": {
    "name": "ipython",
    "version": 3
   },
   "file_extension": ".py",
   "mimetype": "text/x-python",
   "name": "python",
   "nbconvert_exporter": "python",
   "pygments_lexer": "ipython3",
   "version": "3.11.9"
  }
 },
 "nbformat": 4,
 "nbformat_minor": 5
}
