{
 "cells": [
  {
   "cell_type": "markdown",
   "id": "bcdb472a",
   "metadata": {},
   "source": [
    "#### Test of stuff exported from Mathematica for case \"MatrixElementExport\" of CommonPlatformTriple_4B4W_2x4B4W4W"
   ]
  },
  {
   "cell_type": "markdown",
   "id": "6df30bda",
   "metadata": {},
   "source": [
    "## Preliminaries"
   ]
  },
  {
   "cell_type": "raw",
   "id": "e391d0cf",
   "metadata": {},
   "source": [
    "NOTE: Edit the hardcoded path in the cell below to point to where CommonPlatformTriple_4B4W_2x4B4W4W_MatrixElementExport_cptriple.py and symbexportCommonPlatformTriple_4B4W_2x4B4W4Wfull.py are located"
   ]
  },
  {
   "cell_type": "code",
   "execution_count": 3,
   "id": "9b65addb",
   "metadata": {},
   "outputs": [],
   "source": [
    "import sys\n",
    "sys.path.append('/Users/t.seetharamu.1/Documents/svn/GCIF/GCIF planning/Infrastructure cryogenics/CommonPlatformTriple_4B4W_2x4B4W4W/MatrixElementExport')"
   ]
  },
  {
   "cell_type": "markdown",
   "id": "097ccdf2",
   "metadata": {},
   "source": [
    "### Other system dependencies"
   ]
  },
  {
   "cell_type": "code",
   "execution_count": 4,
   "id": "db82d514",
   "metadata": {},
   "outputs": [],
   "source": [
    "import os"
   ]
  },
  {
   "cell_type": "code",
   "execution_count": 5,
   "id": "bf3d1178",
   "metadata": {},
   "outputs": [],
   "source": [
    "from math import pi,sqrt"
   ]
  },
  {
   "cell_type": "code",
   "execution_count": 6,
   "id": "9454cdc5",
   "metadata": {},
   "outputs": [],
   "source": [
    "import numpy as np"
   ]
  },
  {
   "cell_type": "code",
   "execution_count": 7,
   "id": "61b339f9",
   "metadata": {},
   "outputs": [],
   "source": [
    "# import scipy.linalg"
   ]
  },
  {
   "cell_type": "code",
   "execution_count": 8,
   "id": "b3a50e01",
   "metadata": {},
   "outputs": [],
   "source": [
    "import control as ct"
   ]
  },
  {
   "cell_type": "code",
   "execution_count": 9,
   "id": "d214a6c0",
   "metadata": {},
   "outputs": [],
   "source": [
    "import matplotlib.pyplot as plt"
   ]
  },
  {
   "cell_type": "code",
   "execution_count": 10,
   "id": "bf5e9ecb-0780-4aea-9631-c61820fc75c5",
   "metadata": {},
   "outputs": [],
   "source": [
    "import os\n",
    "import pandas as pd\n",
    "import inspect\n",
    "from math import pi,sqrt\n",
    "from decimal import Decimal\n",
    "\n",
    "import numpy as np\n",
    "\n",
    "# import scipy.linalg\n",
    "from matplotlib.ticker import MultipleLocator\n",
    "import control as ct\n",
    "\n",
    "import matplotlib.pyplot as plt\n",
    "import importlib\n",
    "\n",
    "import matplotlib\n",
    "matplotlib.rcParams['font.sans-serif'] = \"Comic Sans MS\"\n",
    "# Then, \"ALWAYS use sans-serif fonts\"\n",
    "matplotlib.rcParams['font.family'] = \"sans-serif\"\n",
    "plt.rcParams['font.size'] = 18          # Default font size for text\n",
    "plt.rcParams['axes.titlesize'] = 22     # Font size for axes titles\n",
    "plt.rcParams['axes.labelsize'] = 18     # Font size for axes labels\n",
    "plt.rcParams['xtick.labelsize'] = 14    # Font size for x-axis tick labels\n",
    "plt.rcParams['ytick.labelsize'] = 14    # Font size for y-axis tick labels\n",
    "plt.rcParams['legend.fontsize'] = 15    # Font size for legend\n"
   ]
  },
  {
   "cell_type": "markdown",
   "id": "6b9bb7a6",
   "metadata": {},
   "source": [
    "### CommonPlatformTriple_4B4W_2x4B4W4W model definition data and matrix element functions exported from Mathematica "
   ]
  },
  {
   "cell_type": "code",
   "execution_count": 11,
   "id": "853069d5",
   "metadata": {},
   "outputs": [],
   "source": [
    "import symbexportCommonPlatformTriple_4B4W_2x4B4W4Wfull as tpmodel"
   ]
  },
  {
   "cell_type": "markdown",
   "id": "53c1d462",
   "metadata": {},
   "source": [
    "### Parameters exported from Mathematica"
   ]
  },
  {
   "cell_type": "raw",
   "id": "237f23f4",
   "metadata": {},
   "source": [
    "NOTE: The \"MatrixElementExport\" part of the following line (i.e., between the underscores) is the Mathematica case name, and will need to be edited to use parameters from realistic cases."
   ]
  },
  {
   "cell_type": "code",
   "execution_count": 12,
   "id": "fd9feea1",
   "metadata": {},
   "outputs": [],
   "source": [
    "import CommonPlatformTriple_4B4W_2x4B4W4W_MatrixElementExport_cptriple as tp"
   ]
  },
  {
   "cell_type": "code",
   "execution_count": 13,
   "id": "510dae5d-9dd3-4522-92d0-2cc9be690e33",
   "metadata": {},
   "outputs": [],
   "source": [
    "n3 = 0.0405\n",
    "def reboot_params():\n",
    "    importlib.reload(tp)\n",
    "    tp.n3 = 0.0405\n",
    "    tp.n4 = n3\n",
    "    tp.n5 = n3\n",
    "    revised_sus_length = 0.298\n",
    "    tp.kw1= 1396.07\n",
    "    tp.kw2=tp.kw1\n",
    "    tp.kw3=70520.4\n",
    "    tp.l1 = revised_sus_length\n",
    "    tp.l2 = revised_sus_length\n",
    "    tp.l3 = revised_sus_length"
   ]
  },
  {
   "cell_type": "code",
   "execution_count": 14,
   "id": "52fa6725-8b30-489c-8bcb-efcc5b9883c5",
   "metadata": {},
   "outputs": [],
   "source": [
    "def original_params():\n",
    "    importlib.reload(tp)\n",
    "    revised_sus_length = 0.298\n",
    "\n",
    "\n",
    "    data =     [[\"Masses\", \"m1 / m2 / m3\", [round(tp.m1,2) ,round(tp.m2,2) ,round(tp.m3,2)]],\n",
    "\n",
    "    [\"Roll Moment of Inertia\", \"I1,x / I2,x / I3,x\",  [round(i,5) for i in [tp.I1x, tp.I2x , tp.I3x]]],\n",
    "\n",
    "    [\"Pitch Moment of Inertia\", \"I1,y / I2,y / I3,y\",  [round(i,5) for i in [tp.I1y, tp.I2y , tp.I3y]]],\n",
    "\n",
    "    [\"Yaw Moment of Inertia\", \"I1,z / I2,z / I3,z\", [round(i,5) for i in [tp.I1z, tp.I2z , tp.I3z]]],\n",
    "    \n",
    "            [\"Stretched wire lengths\", \"l1 / l2 / l3\", [tp.l1 , tp.l2, tp.l3]], \n",
    "            [\"Upper end wire vertical attachment distance\", \"dtop / d1/ d3 \" , [round(i,3) for i in [tp.dtop, tp.d1 , tp.d3]]],\n",
    "            [\"Bottom end wire vertical attachment distance\", \"d0 / d2 / d4\" , [round(i,3) for i in [tp.d0 , tp.d2, tp.d4]]],\n",
    "            \n",
    "            [\"Longitudinal wire separation\" , \"su / si / sl\", [tp.su, tp.si , tp.sl]],\n",
    "            [\"Upper transverse wire separation\", \"n0 / n2 / n4 \", [tp.n0, tp.n2 , tp.n4]],\n",
    "            [\"Bottom transverse wire separation\", \"n1 / n3 / n5 \", [tp.n1, tp.n3 , tp.n5]],\n",
    "            [\"Vertical Spring stiffness\", \"kbuz / kbiz / kblz\", [tp.kbuz, \"NA\", tp.kblz]],\n",
    "            [\"Wire Lengths\", \"l1 / l2 / l3\", [tp.l1 , tp.l2 , tp.l3]],\n",
    "            [\"Youngs Moduli of the wires\", \"Y1 / Y2 / Y3\", ['%.5E' % Decimal(tp.Y1), '%.5E' % Decimal(tp.Y2), '%.5E' % Decimal(tp.Y3)]]]\n",
    "\n",
    "\n",
    "\n",
    "    params = pd.DataFrame(data, columns = [\"Description\", \"Parameter\",\"Values\"])\n",
    "    # Setting display options\n",
    "    pd.set_option('display.width', 1000)  # Set width to a large value to prevent wrapping\n",
    "    pd.set_option('display.max_colwidth', None)  # Display full contents of each cell without truncation\n",
    "    print(params)"
   ]
  },
  {
   "cell_type": "code",
   "execution_count": 71,
   "id": "611c110d-b6cc-41bd-8842-18bd52fda87a",
   "metadata": {},
   "outputs": [],
   "source": [
    "def print_modes(eigens):\n",
    "    Hz = eigens[0]\n",
    "    evecs = eigens[1]\n",
    "    dofs = []\n",
    "    dof_amps = []\n",
    "    for j in range(0,len(Hz)): \n",
    "        df =pd.DataFrame(np.array(list(zip(tpmodel.allvars,list(evecs[j])))), columns=[\"DOF\",\"Amp\"])\n",
    "        df[\"Amp\"] = [(round(float(i),2)) for i in list(df[\"Amp\"])] \n",
    "        df = (df[df[\"Amp\"]!=0])\n",
    "        df = df.sort_values(by='Amp', ascending=False, key=abs)\n",
    "        dofs.append(np.array(df[\"DOF\"]))\n",
    "        dof_amps.append(np.array(df[\"Amp\"]))\n",
    "\n",
    "    modes = pd.DataFrame({\"Freq\":Hz, \"DOF\":dofs, \"Amps\":dof_amps})\n",
    "    \n",
    "    def calculate_modevis(row):\n",
    "        dof = row['DOF']\n",
    "        amps = row['Amps']\n",
    "        \n",
    "        # Identify the mode type based on the first entry in DOF\n",
    "        mode_type = dof[0].rstrip('123IE')  # e.g., \"roll\", \"pitch\"\n",
    "        # print (mode_type)\n",
    "        # Find indices of the first and third components for I and E objects\n",
    "        first_idx = next((i for i, d in enumerate(dof) if d == f\"{mode_type}1\"), None)\n",
    "        print (first_idx)\n",
    "        third_I_idx = next((i for i, d in enumerate(dof) if d == f\"{mode_type}3I\"), None)\n",
    "        print (third_I_idx)\n",
    "        third_E_idx = next((i for i, d in enumerate(dof) if d == f\"{mode_type}3E\"), None)\n",
    "        print (third_E_idx)\n",
    "        # Calculate the ratio if both indices are found for I and E objects\n",
    "        ratio_I = amps[first_idx] / amps[third_I_idx] if first_idx is not None and third_I_idx is not None and amps[third_I_idx] != 0 else None\n",
    "        ratio_E = amps[first_idx] / amps[third_E_idx] if first_idx is not None and third_E_idx is not None and amps[third_E_idx] != 0 else None\n",
    "        \n",
    "        return (ratio_I, ratio_E)\n",
    "\n",
    "\n",
    "    # Apply the function and create a new column\n",
    "    modes['Mode_vis'] = modes.apply(calculate_modevis, axis=1)\n",
    "\n",
    "# # Display the updated dataframe\n",
    "# display(df)\n",
    "    return modes"
   ]
  },
  {
   "cell_type": "code",
   "execution_count": 16,
   "id": "6497222d-4bf8-4477-87ab-933aa36bc9e8",
   "metadata": {},
   "outputs": [],
   "source": [
    "def mode_forest(mode_amp, fig=None, ax = None):\n",
    "    Hz = mode_amp[0]\n",
    "    evecs = mode_amp[1]\n",
    "    dofs = []\n",
    "    dof_amps = []\n",
    "    for j in range(0,18): \n",
    "        df =pd.DataFrame(np.array(list(zip(tpmodel.allvars,list(evecs[j])))), columns=[\"DOF\",\"Amp\"])\n",
    "        df[\"Amp\"] = [np.abs(round(float(i),2)) for i in list(df[\"Amp\"])] \n",
    "        df = (df[df[\"Amp\"]!=0])\n",
    "        df = df.sort_values(by='Amp', ascending=False)\n",
    "        dofs.append(np.array(df[\"DOF\"]))\n",
    "        dof_amps.append(np.array(df[\"Amp\"]))\n",
    "        \n",
    "    \n",
    "    \n",
    "        if any(df[\"DOF\"].iloc[i] in [\"x1\", \"x2\", \"x3\", \"pitch1\", \"pitch2\", \"pitch3\"] and df[\"Amp\"].iloc[i] > 0.1 for i in range(len(df))):\n",
    "            ax.scatter(Hz[j],\"Long-pitch Mode\", c= \"red\")\n",
    "            ax.text(Hz[j] + 0.1,\"Long-pitch Mode\", str(round(Hz[j],3)), fontsize=10)  # Adjust 0.1 to position the text appropriately\n",
    "        elif any(df[\"DOF\"].iloc[j] in [\"y1\", \"y2\", \"y3\",\"roll1\", \"roll2\", \"roll3\"] and df[\"Amp\"].iloc[j] > 0.1 for j in range(len(df))):\n",
    "            ax.scatter(Hz[j],\"Trans-roll Mode\", c = \"blue\")\n",
    "            ax.text(Hz[j] + 0.1,\"Trans-roll Mode\", str(round(Hz[j],3)), fontsize=15)\n",
    "        elif any(df[\"DOF\"].iloc[j] in [\"z1\", \"z2\", \"z3\"] and df[\"Amp\"].iloc[j] > 0.1 for j in range(len(df))):\n",
    "            ax.scatter(Hz[j],\"Bounce Mode\", c = \"black\")    \n",
    "            ax.text(Hz[j] + 0.1,\"Bounce Mode\", str(round(Hz[j],3)), fontsize=15)\n",
    "        elif any(df[\"DOF\"].iloc[j] in [\"yaw1\", \"yaw2\", \"yaw3\"] and df[\"Amp\"].iloc[j] > 0.1 for j in range(len(df))):\n",
    "            ax.scatter(Hz[j],\"Yaw Mode\", c = \"green\")    \n",
    "            ax.text(Hz[j] + 0.1,\"Yaw Mode\", str(round(Hz[j],3)), fontsize=15)\n",
    "\n",
    "        ax.grid()\n",
    "        ax.set_ylabel(\"Modes\", fontsize = 20)\n",
    "        ax.set_xlabel(\"Freq (Hz)\", fontsize = 20)\n",
    "        ax.tick_params(axis = \"both\", labelsize = 15)\n",
    "        ax.xaxis.set_minor_locator(MultipleLocator(10))\n",
    "        \n",
    "    modes = pd.DataFrame({\"Freq\":Hz, \"DOF\":dofs, \"Amps\":dof_amps})\n",
    "        \n",
    "    return fig, ax\n",
    "         "
   ]
  },
  {
   "cell_type": "code",
   "execution_count": 17,
   "id": "4d233f0a-0159-4702-8858-c98f0424af04",
   "metadata": {},
   "outputs": [],
   "source": [
    "def changes(mutation):\n",
    "    reboot_params()\n",
    "    for name, value in zip(mutation.iloc[:, 0], mutation.iloc[:, 1]):\n",
    "        locals()[name] = value\n",
    "    # print(mutation)\n",
    "    # print(d2)\n",
    "    revised_sus_length = 0.298\n",
    "    tp.kw1= 1396.07\n",
    "    tp.kw2=tp.kw1\n",
    "    tp.kw3=70520.4\n",
    "    tp.l1 = revised_sus_length\n",
    "    tp.l2 = revised_sus_length\n",
    "    tp.l3 = revised_sus_length\n",
    "    #Some constraints \n",
    "    global n3\n",
    "    n3 = 0.0405\n",
    "    n4 = n3\n",
    "    n5 = n3\n",
    "\n",
    "        \n",
    "    def assign_to_tp(mutation, tp):\n",
    "        for index, row in mutation.iterrows():\n",
    "            string = row['Parameters']\n",
    "            value = row['Values']\n",
    "            # Dynamically set the attribute to the corresponding value\n",
    "            setattr(tp, string, value)\n",
    "\n",
    "# Call the function\n",
    "    assign_to_tp(mutation, tp)\n",
    "    \n",
    "    \n",
    "    pend = tpmodel.pendSS(*[getattr(tp, coeff) for coeff in tpmodel.stdcoeffs])\n",
    "    (Hz,evecs) = tpmodel.eigenmodes(*[getattr(tp, coeff) for coeff in tpmodel.stdcoeffs])\n",
    "    mode_amp = (Hz,evecs)\n",
    "    \n",
    "    data =     [[\"Masses\", \"m1 / m2 / m3\", [round(tp.m1,2) ,round(tp.m2,2) ,round(tp.m3,2)]],\n",
    "\n",
    "    [\"Roll Moment of Inertia\", \"I1,x / I2,x / I3,x\",[round(i,5) for i in [tp.I1x, tp.I2x , tp.I3x]]],\n",
    "\n",
    "    [\"Pitch Moment of Inertia\", \"I1,y / I2,y / I3,y\", [round(i,5) for i in [tp.I1y, tp.I2y , tp.I3y]]],\n",
    "\n",
    "    [\"Yaw Moment of Inertia\", \"I1,z / I2,z / I3,z\",  [round(i,5) for i in [tp.I1z, tp.I2z , tp.I3z]]],\n",
    "    \n",
    "            [\"Stretched wire lengths\", \"l1 / l2 / l3\", [tp.l1 , tp.l2, tp.l3]], \n",
    "            [\"Upper end wire vertical attachment distance\", \"dtop / d1/ d3 \" , [round(i,3) for i in [tp.dtop, tp.d1 , tp.d3]]],\n",
    "            [\"Bottom end wire vertical attachment distance\", \"d0 / d2 / d4\" , [round(i,3) for i in [tp.d0 , tp.d2, tp.d4]]],\n",
    "            \n",
    "            [\"Longitudinal wire separation\" , \"su / si / sl\", [tp.su, tp.si , tp.sl]],\n",
    "            [\"Upper transverse wire separation\", \"n0 / n2 / n4 \", [tp.n0, tp.n2 , tp.n4]],\n",
    "            [\"Bottom transverse wire separation\", \"n1 / n3 / n5 \", [tp.n1, tp.n3 , tp.n5]],\n",
    "            [\"Vertical Spring stiffness\", \"kbuz / kbiz / kblz\", [tp.kbuz, \"NA\", tp.kblz]],\n",
    "            [\"Wire Lengths\", \"l1 / l2 / l3\", [tp.l1 , tp.l2 , tp.l3]],\n",
    "            [\"Youngs Moduli of the wires\", \"Y1 / Y2 / Y3\", ['%.5E' % Decimal(tp.Y1), '%.5E' % Decimal(tp.Y2), '%.5E' % Decimal(tp.Y3)]]]\n",
    "\n",
    "\n",
    "    params = pd.DataFrame(data, columns = [\"Description\", \"Parameter\",\"Values\"])\n",
    "    # Setting display options\n",
    "    pd.set_option('display.width', 1000)  # Set width to a large value to prevent wrapping\n",
    "    pd.set_option('display.max_colwidth', None)  # Display full contents of each cell without truncation\n",
    "    return params, pend, mode_amp\n",
    "\n"
   ]
  },
  {
   "cell_type": "code",
   "execution_count": 18,
   "id": "dc30afbd-ef03-49cf-a94d-d6068e1e56df",
   "metadata": {},
   "outputs": [],
   "source": [
    "def trimio_tf(pend, newinputs, newoutputs):\n",
    "\t'''A function to trim a state space object to have only the specified subsets of inputs and output.'''\n",
    "\tA=pend.A\n",
    "\tB=pend.B\n",
    "\tC=pend.C\n",
    "\tD=pend.D\n",
    "\toldinputs=pend.input_index\n",
    "\toldoutputs=pend.output_index\n",
    "\toldstates=pend.state_index\n",
    "\tnewinputlist = []\n",
    "\tfor i in range(len(newinputs)):\n",
    "\t\t\tnewinputlist.append(oldinputs.get(newinputs[i],0))\n",
    "\tnewoutputlist = []\n",
    "\tfor i in range(len(newoutputs)):\n",
    "\t\t\tnewoutputlist.append(oldoutputs.get(newoutputs[i],0))\n",
    "\tBB=B[range(len(oldstates))][...,newinputlist]\n",
    "\tCC=C[newoutputlist]\n",
    "\tDD=D[newoutputlist][...,newinputlist]\n",
    "\treturn ct.ss2tf(A,BB,CC,DD)"
   ]
  },
  {
   "cell_type": "markdown",
   "id": "7ce81973",
   "metadata": {},
   "source": [
    "### The stiffness matrix for the floats"
   ]
  },
  {
   "cell_type": "code",
   "execution_count": 19,
   "id": "c2715c9b",
   "metadata": {},
   "outputs": [],
   "source": [
    "qm = tpmodel.qm(tp.g,tp.m1,tp.m2I,tp.m2E,tp.m3I,tp.m3E,tp.I1x,tp.I1y,tp.I1z,tp.I1xy,tp.I1yz,tp.I1zx,tp.I2Ix,tp.I2Iy,tp.I2Iz,tp.I2Ixy,tp.I2Iyz,tp.I2Izx,tp.I2Ex,tp.I2Ey,tp.I2Ez,tp.I2Exy,tp.I2Eyz,tp.I2Ezx,tp.I3Ix,tp.I3Iy,tp.I3Iz,tp.I3Ixy,tp.I3Iyz,tp.I3Izx,tp.I3Ex,tp.I3Ey,tp.I3Ez,tp.I3Exy,tp.I3Eyz,tp.I3Ezx,tp.dtop,tp.d0,tp.d1I,tp.d1E,tp.d2I,tp.d2E,tp.d3I,tp.d3E,tp.d4I,tp.d4E,tp.chainIx,tp.chainEx,tp.n0,tp.n1,tp.n2I,tp.n2E,tp.n3I,tp.n3E,tp.n4I,tp.n4E,tp.n5I,tp.n5E,tp.su,tp.siI,tp.siE,tp.slI,tp.slE,tp.kbuz,tp.kbizI,tp.kbizE,tp.l1,tp.l2I,tp.l2E,tp.l3I,tp.l3E,tp.kw1,tp.kw2I,tp.kw2E,tp.kw3I,tp.kw3E,tp.Y1,tp.Y2I,tp.Y2E,tp.Y3I,tp.Y3E,tp.M11,tp.M21I,tp.M21E,tp.M31I,tp.M31E)"
   ]
  },
  {
   "cell_type": "code",
   "execution_count": 20,
   "id": "4c0a9485",
   "metadata": {},
   "outputs": [
    {
     "data": {
      "text/plain": [
       "(12, 12)"
      ]
     },
     "execution_count": 20,
     "metadata": {},
     "output_type": "execute_result"
    }
   ],
   "source": [
    "qm.shape"
   ]
  },
  {
   "cell_type": "markdown",
   "id": "22edc6bb",
   "metadata": {},
   "source": [
    "### The coupling matrix between floats and params"
   ]
  },
  {
   "cell_type": "code",
   "execution_count": 21,
   "id": "ed7020cb",
   "metadata": {},
   "outputs": [],
   "source": [
    "cqsm = tpmodel.cqsm(tp.g,tp.m1,tp.m2I,tp.m2E,tp.m3I,tp.m3E,tp.I1x,tp.I1y,tp.I1z,tp.I1xy,tp.I1yz,tp.I1zx,tp.I2Ix,tp.I2Iy,tp.I2Iz,tp.I2Ixy,tp.I2Iyz,tp.I2Izx,tp.I2Ex,tp.I2Ey,tp.I2Ez,tp.I2Exy,tp.I2Eyz,tp.I2Ezx,tp.I3Ix,tp.I3Iy,tp.I3Iz,tp.I3Ixy,tp.I3Iyz,tp.I3Izx,tp.I3Ex,tp.I3Ey,tp.I3Ez,tp.I3Exy,tp.I3Eyz,tp.I3Ezx,tp.dtop,tp.d0,tp.d1I,tp.d1E,tp.d2I,tp.d2E,tp.d3I,tp.d3E,tp.d4I,tp.d4E,tp.chainIx,tp.chainEx,tp.n0,tp.n1,tp.n2I,tp.n2E,tp.n3I,tp.n3E,tp.n4I,tp.n4E,tp.n5I,tp.n5E,tp.su,tp.siI,tp.siE,tp.slI,tp.slE,tp.kbuz,tp.kbizI,tp.kbizE,tp.l1,tp.l2I,tp.l2E,tp.l3I,tp.l3E,tp.kw1,tp.kw2I,tp.kw2E,tp.kw3I,tp.kw3E,tp.Y1,tp.Y2I,tp.Y2E,tp.Y3I,tp.Y3E,tp.M11,tp.M21I,tp.M21E,tp.M31I,tp.M31E)"
   ]
  },
  {
   "cell_type": "code",
   "execution_count": 22,
   "id": "110321c7",
   "metadata": {
    "scrolled": true
   },
   "outputs": [
    {
     "data": {
      "text/plain": [
       "(12, 6)"
      ]
     },
     "execution_count": 22,
     "metadata": {},
     "output_type": "execute_result"
    }
   ],
   "source": [
    "cqsm.shape"
   ]
  },
  {
   "cell_type": "markdown",
   "id": "2111ead1",
   "metadata": {},
   "source": [
    "### The coupling matrix between floats and vars"
   ]
  },
  {
   "cell_type": "code",
   "execution_count": 23,
   "id": "b3bfab24",
   "metadata": {},
   "outputs": [],
   "source": [
    "cqxm = tpmodel.cqxm(tp.g,tp.m1,tp.m2I,tp.m2E,tp.m3I,tp.m3E,tp.I1x,tp.I1y,tp.I1z,tp.I1xy,tp.I1yz,tp.I1zx,tp.I2Ix,tp.I2Iy,tp.I2Iz,tp.I2Ixy,tp.I2Iyz,tp.I2Izx,tp.I2Ex,tp.I2Ey,tp.I2Ez,tp.I2Exy,tp.I2Eyz,tp.I2Ezx,tp.I3Ix,tp.I3Iy,tp.I3Iz,tp.I3Ixy,tp.I3Iyz,tp.I3Izx,tp.I3Ex,tp.I3Ey,tp.I3Ez,tp.I3Exy,tp.I3Eyz,tp.I3Ezx,tp.dtop,tp.d0,tp.d1I,tp.d1E,tp.d2I,tp.d2E,tp.d3I,tp.d3E,tp.d4I,tp.d4E,tp.chainIx,tp.chainEx,tp.n0,tp.n1,tp.n2I,tp.n2E,tp.n3I,tp.n3E,tp.n4I,tp.n4E,tp.n5I,tp.n5E,tp.su,tp.siI,tp.siE,tp.slI,tp.slE,tp.kbuz,tp.kbizI,tp.kbizE,tp.l1,tp.l2I,tp.l2E,tp.l3I,tp.l3E,tp.kw1,tp.kw2I,tp.kw2E,tp.kw3I,tp.kw3E,tp.Y1,tp.Y2I,tp.Y2E,tp.Y3I,tp.Y3E,tp.M11,tp.M21I,tp.M21E,tp.M31I,tp.M31E)"
   ]
  },
  {
   "cell_type": "code",
   "execution_count": 24,
   "id": "74b359cb",
   "metadata": {},
   "outputs": [
    {
     "data": {
      "text/plain": [
       "(12, 30)"
      ]
     },
     "execution_count": 24,
     "metadata": {},
     "output_type": "execute_result"
    }
   ],
   "source": [
    "cqxm.shape"
   ]
  },
  {
   "cell_type": "markdown",
   "id": "0b6a2302",
   "metadata": {},
   "source": [
    "### The stiffness matrix for the params (raw, then effective)"
   ]
  },
  {
   "cell_type": "code",
   "execution_count": 25,
   "id": "5a37b0dd",
   "metadata": {},
   "outputs": [],
   "source": [
    "sm = tpmodel.sm(tp.g,tp.m1,tp.m2I,tp.m2E,tp.m3I,tp.m3E,tp.I1x,tp.I1y,tp.I1z,tp.I1xy,tp.I1yz,tp.I1zx,tp.I2Ix,tp.I2Iy,tp.I2Iz,tp.I2Ixy,tp.I2Iyz,tp.I2Izx,tp.I2Ex,tp.I2Ey,tp.I2Ez,tp.I2Exy,tp.I2Eyz,tp.I2Ezx,tp.I3Ix,tp.I3Iy,tp.I3Iz,tp.I3Ixy,tp.I3Iyz,tp.I3Izx,tp.I3Ex,tp.I3Ey,tp.I3Ez,tp.I3Exy,tp.I3Eyz,tp.I3Ezx,tp.dtop,tp.d0,tp.d1I,tp.d1E,tp.d2I,tp.d2E,tp.d3I,tp.d3E,tp.d4I,tp.d4E,tp.chainIx,tp.chainEx,tp.n0,tp.n1,tp.n2I,tp.n2E,tp.n3I,tp.n3E,tp.n4I,tp.n4E,tp.n5I,tp.n5E,tp.su,tp.siI,tp.siE,tp.slI,tp.slE,tp.kbuz,tp.kbizI,tp.kbizE,tp.l1,tp.l2I,tp.l2E,tp.l3I,tp.l3E,tp.kw1,tp.kw2I,tp.kw2E,tp.kw3I,tp.kw3E,tp.Y1,tp.Y2I,tp.Y2E,tp.Y3I,tp.Y3E,tp.M11,tp.M21I,tp.M21E,tp.M31I,tp.M31E)"
   ]
  },
  {
   "cell_type": "code",
   "execution_count": 26,
   "id": "5c187c21",
   "metadata": {},
   "outputs": [
    {
     "data": {
      "text/plain": [
       "(6, 6)"
      ]
     },
     "execution_count": 26,
     "metadata": {},
     "output_type": "execute_result"
    }
   ],
   "source": [
    "sm.shape"
   ]
  },
  {
   "cell_type": "code",
   "execution_count": 27,
   "id": "582b6a56",
   "metadata": {
    "scrolled": true
   },
   "outputs": [],
   "source": [
    "smeff = tpmodel.smeff(tp.g,tp.m1,tp.m2I,tp.m2E,tp.m3I,tp.m3E,tp.I1x,tp.I1y,tp.I1z,tp.I1xy,tp.I1yz,tp.I1zx,tp.I2Ix,tp.I2Iy,tp.I2Iz,tp.I2Ixy,tp.I2Iyz,tp.I2Izx,tp.I2Ex,tp.I2Ey,tp.I2Ez,tp.I2Exy,tp.I2Eyz,tp.I2Ezx,tp.I3Ix,tp.I3Iy,tp.I3Iz,tp.I3Ixy,tp.I3Iyz,tp.I3Izx,tp.I3Ex,tp.I3Ey,tp.I3Ez,tp.I3Exy,tp.I3Eyz,tp.I3Ezx,tp.dtop,tp.d0,tp.d1I,tp.d1E,tp.d2I,tp.d2E,tp.d3I,tp.d3E,tp.d4I,tp.d4E,tp.chainIx,tp.chainEx,tp.n0,tp.n1,tp.n2I,tp.n2E,tp.n3I,tp.n3E,tp.n4I,tp.n4E,tp.n5I,tp.n5E,tp.su,tp.siI,tp.siE,tp.slI,tp.slE,tp.kbuz,tp.kbizI,tp.kbizE,tp.l1,tp.l2I,tp.l2E,tp.l3I,tp.l3E,tp.kw1,tp.kw2I,tp.kw2E,tp.kw3I,tp.kw3E,tp.Y1,tp.Y2I,tp.Y2E,tp.Y3I,tp.Y3E,tp.M11,tp.M21I,tp.M21E,tp.M31I,tp.M31E)"
   ]
  },
  {
   "cell_type": "code",
   "execution_count": 28,
   "id": "7454f9e1",
   "metadata": {},
   "outputs": [
    {
     "data": {
      "text/plain": [
       "(6, 6)"
      ]
     },
     "execution_count": 28,
     "metadata": {},
     "output_type": "execute_result"
    }
   ],
   "source": [
    "smeff.shape"
   ]
  },
  {
   "cell_type": "markdown",
   "id": "4adcdd3f",
   "metadata": {},
   "source": [
    "### The coupling matrix between vars and params (raw then effective)"
   ]
  },
  {
   "cell_type": "code",
   "execution_count": 29,
   "id": "dcba9462",
   "metadata": {},
   "outputs": [],
   "source": [
    "cxsm = tpmodel.cxsm(tp.g,tp.m1,tp.m2I,tp.m2E,tp.m3I,tp.m3E,tp.I1x,tp.I1y,tp.I1z,tp.I1xy,tp.I1yz,tp.I1zx,tp.I2Ix,tp.I2Iy,tp.I2Iz,tp.I2Ixy,tp.I2Iyz,tp.I2Izx,tp.I2Ex,tp.I2Ey,tp.I2Ez,tp.I2Exy,tp.I2Eyz,tp.I2Ezx,tp.I3Ix,tp.I3Iy,tp.I3Iz,tp.I3Ixy,tp.I3Iyz,tp.I3Izx,tp.I3Ex,tp.I3Ey,tp.I3Ez,tp.I3Exy,tp.I3Eyz,tp.I3Ezx,tp.dtop,tp.d0,tp.d1I,tp.d1E,tp.d2I,tp.d2E,tp.d3I,tp.d3E,tp.d4I,tp.d4E,tp.chainIx,tp.chainEx,tp.n0,tp.n1,tp.n2I,tp.n2E,tp.n3I,tp.n3E,tp.n4I,tp.n4E,tp.n5I,tp.n5E,tp.su,tp.siI,tp.siE,tp.slI,tp.slE,tp.kbuz,tp.kbizI,tp.kbizE,tp.l1,tp.l2I,tp.l2E,tp.l3I,tp.l3E,tp.kw1,tp.kw2I,tp.kw2E,tp.kw3I,tp.kw3E,tp.Y1,tp.Y2I,tp.Y2E,tp.Y3I,tp.Y3E,tp.M11,tp.M21I,tp.M21E,tp.M31I,tp.M31E)"
   ]
  },
  {
   "cell_type": "code",
   "execution_count": 30,
   "id": "ec222b22",
   "metadata": {},
   "outputs": [
    {
     "data": {
      "text/plain": [
       "(30, 6)"
      ]
     },
     "execution_count": 30,
     "metadata": {},
     "output_type": "execute_result"
    }
   ],
   "source": [
    "cxsm.shape"
   ]
  },
  {
   "cell_type": "code",
   "execution_count": 31,
   "id": "0fc0bbea",
   "metadata": {},
   "outputs": [],
   "source": [
    "cxsmeff = tpmodel.cxsmeff(tp.g,tp.m1,tp.m2I,tp.m2E,tp.m3I,tp.m3E,tp.I1x,tp.I1y,tp.I1z,tp.I1xy,tp.I1yz,tp.I1zx,tp.I2Ix,tp.I2Iy,tp.I2Iz,tp.I2Ixy,tp.I2Iyz,tp.I2Izx,tp.I2Ex,tp.I2Ey,tp.I2Ez,tp.I2Exy,tp.I2Eyz,tp.I2Ezx,tp.I3Ix,tp.I3Iy,tp.I3Iz,tp.I3Ixy,tp.I3Iyz,tp.I3Izx,tp.I3Ex,tp.I3Ey,tp.I3Ez,tp.I3Exy,tp.I3Eyz,tp.I3Ezx,tp.dtop,tp.d0,tp.d1I,tp.d1E,tp.d2I,tp.d2E,tp.d3I,tp.d3E,tp.d4I,tp.d4E,tp.chainIx,tp.chainEx,tp.n0,tp.n1,tp.n2I,tp.n2E,tp.n3I,tp.n3E,tp.n4I,tp.n4E,tp.n5I,tp.n5E,tp.su,tp.siI,tp.siE,tp.slI,tp.slE,tp.kbuz,tp.kbizI,tp.kbizE,tp.l1,tp.l2I,tp.l2E,tp.l3I,tp.l3E,tp.kw1,tp.kw2I,tp.kw2E,tp.kw3I,tp.kw3E,tp.Y1,tp.Y2I,tp.Y2E,tp.Y3I,tp.Y3E,tp.M11,tp.M21I,tp.M21E,tp.M31I,tp.M31E)"
   ]
  },
  {
   "cell_type": "code",
   "execution_count": 32,
   "id": "00bf0a9b",
   "metadata": {},
   "outputs": [
    {
     "data": {
      "text/plain": [
       "(30, 6)"
      ]
     },
     "execution_count": 32,
     "metadata": {},
     "output_type": "execute_result"
    }
   ],
   "source": [
    "cxsmeff.shape"
   ]
  },
  {
   "cell_type": "markdown",
   "id": "0ea4d177",
   "metadata": {},
   "source": [
    "### The stiffness matrix for vars (raw, then effective)"
   ]
  },
  {
   "cell_type": "code",
   "execution_count": 33,
   "id": "e30589b5",
   "metadata": {},
   "outputs": [],
   "source": [
    "xm = tpmodel.xm(tp.g,tp.m1,tp.m2I,tp.m2E,tp.m3I,tp.m3E,tp.I1x,tp.I1y,tp.I1z,tp.I1xy,tp.I1yz,tp.I1zx,tp.I2Ix,tp.I2Iy,tp.I2Iz,tp.I2Ixy,tp.I2Iyz,tp.I2Izx,tp.I2Ex,tp.I2Ey,tp.I2Ez,tp.I2Exy,tp.I2Eyz,tp.I2Ezx,tp.I3Ix,tp.I3Iy,tp.I3Iz,tp.I3Ixy,tp.I3Iyz,tp.I3Izx,tp.I3Ex,tp.I3Ey,tp.I3Ez,tp.I3Exy,tp.I3Eyz,tp.I3Ezx,tp.dtop,tp.d0,tp.d1I,tp.d1E,tp.d2I,tp.d2E,tp.d3I,tp.d3E,tp.d4I,tp.d4E,tp.chainIx,tp.chainEx,tp.n0,tp.n1,tp.n2I,tp.n2E,tp.n3I,tp.n3E,tp.n4I,tp.n4E,tp.n5I,tp.n5E,tp.su,tp.siI,tp.siE,tp.slI,tp.slE,tp.kbuz,tp.kbizI,tp.kbizE,tp.l1,tp.l2I,tp.l2E,tp.l3I,tp.l3E,tp.kw1,tp.kw2I,tp.kw2E,tp.kw3I,tp.kw3E,tp.Y1,tp.Y2I,tp.Y2E,tp.Y3I,tp.Y3E,tp.M11,tp.M21I,tp.M21E,tp.M31I,tp.M31E)"
   ]
  },
  {
   "cell_type": "code",
   "execution_count": 34,
   "id": "464e5106",
   "metadata": {},
   "outputs": [
    {
     "data": {
      "text/plain": [
       "(30, 30)"
      ]
     },
     "execution_count": 34,
     "metadata": {},
     "output_type": "execute_result"
    }
   ],
   "source": [
    "xm.shape"
   ]
  },
  {
   "cell_type": "code",
   "execution_count": 35,
   "id": "ac20fb3d",
   "metadata": {},
   "outputs": [],
   "source": [
    "xmeff=tpmodel.xmeff(tp.g,tp.m1,tp.m2I,tp.m2E,tp.m3I,tp.m3E,tp.I1x,tp.I1y,tp.I1z,tp.I1xy,tp.I1yz,tp.I1zx,tp.I2Ix,tp.I2Iy,tp.I2Iz,tp.I2Ixy,tp.I2Iyz,tp.I2Izx,tp.I2Ex,tp.I2Ey,tp.I2Ez,tp.I2Exy,tp.I2Eyz,tp.I2Ezx,tp.I3Ix,tp.I3Iy,tp.I3Iz,tp.I3Ixy,tp.I3Iyz,tp.I3Izx,tp.I3Ex,tp.I3Ey,tp.I3Ez,tp.I3Exy,tp.I3Eyz,tp.I3Ezx,tp.dtop,tp.d0,tp.d1I,tp.d1E,tp.d2I,tp.d2E,tp.d3I,tp.d3E,tp.d4I,tp.d4E,tp.chainIx,tp.chainEx,tp.n0,tp.n1,tp.n2I,tp.n2E,tp.n3I,tp.n3E,tp.n4I,tp.n4E,tp.n5I,tp.n5E,tp.su,tp.siI,tp.siE,tp.slI,tp.slE,tp.kbuz,tp.kbizI,tp.kbizE,tp.l1,tp.l2I,tp.l2E,tp.l3I,tp.l3E,tp.kw1,tp.kw2I,tp.kw2E,tp.kw3I,tp.kw3E,tp.Y1,tp.Y2I,tp.Y2E,tp.Y3I,tp.Y3E,tp.M11,tp.M21I,tp.M21E,tp.M31I,tp.M31E)"
   ]
  },
  {
   "cell_type": "code",
   "execution_count": 36,
   "id": "f6331df9",
   "metadata": {},
   "outputs": [
    {
     "data": {
      "text/plain": [
       "(30, 30)"
      ]
     },
     "execution_count": 36,
     "metadata": {},
     "output_type": "execute_result"
    }
   ],
   "source": [
    "xmeff.shape"
   ]
  },
  {
   "cell_type": "markdown",
   "id": "f3905372",
   "metadata": {},
   "source": [
    "### The mass matrix"
   ]
  },
  {
   "cell_type": "code",
   "execution_count": 37,
   "id": "e0d07480",
   "metadata": {},
   "outputs": [],
   "source": [
    "km = tpmodel.km(tp.g,tp.m1,tp.m2I,tp.m2E,tp.m3I,tp.m3E,tp.I1x,tp.I1y,tp.I1z,tp.I1xy,tp.I1yz,tp.I1zx,tp.I2Ix,tp.I2Iy,tp.I2Iz,tp.I2Ixy,tp.I2Iyz,tp.I2Izx,tp.I2Ex,tp.I2Ey,tp.I2Ez,tp.I2Exy,tp.I2Eyz,tp.I2Ezx,tp.I3Ix,tp.I3Iy,tp.I3Iz,tp.I3Ixy,tp.I3Iyz,tp.I3Izx,tp.I3Ex,tp.I3Ey,tp.I3Ez,tp.I3Exy,tp.I3Eyz,tp.I3Ezx,tp.dtop,tp.d0,tp.d1I,tp.d1E,tp.d2I,tp.d2E,tp.d3I,tp.d3E,tp.d4I,tp.d4E,tp.chainIx,tp.chainEx,tp.n0,tp.n1,tp.n2I,tp.n2E,tp.n3I,tp.n3E,tp.n4I,tp.n4E,tp.n5I,tp.n5E,tp.su,tp.siI,tp.siE,tp.slI,tp.slE,tp.kbuz,tp.kbizI,tp.kbizE,tp.l1,tp.l2I,tp.l2E,tp.l3I,tp.l3E,tp.kw1,tp.kw2I,tp.kw2E,tp.kw3I,tp.kw3E,tp.Y1,tp.Y2I,tp.Y2E,tp.Y3I,tp.Y3E,tp.M11,tp.M21I,tp.M21E,tp.M31I,tp.M31E)"
   ]
  },
  {
   "cell_type": "code",
   "execution_count": 38,
   "id": "9a787a80",
   "metadata": {},
   "outputs": [
    {
     "data": {
      "text/plain": [
       "(30, 30)"
      ]
     },
     "execution_count": 38,
     "metadata": {},
     "output_type": "execute_result"
    }
   ],
   "source": [
    "km.shape"
   ]
  },
  {
   "cell_type": "markdown",
   "id": "2d6f2410",
   "metadata": {},
   "source": [
    "# Generate state space"
   ]
  },
  {
   "cell_type": "markdown",
   "id": "48098f60",
   "metadata": {},
   "source": [
    "## Generate full A, B, C, D matrices"
   ]
  },
  {
   "cell_type": "code",
   "execution_count": 39,
   "id": "94601bee",
   "metadata": {},
   "outputs": [],
   "source": [
    "A = tpmodel.A(tp.g,tp.m1,tp.m2I,tp.m2E,tp.m3I,tp.m3E,tp.I1x,tp.I1y,tp.I1z,tp.I1xy,tp.I1yz,tp.I1zx,tp.I2Ix,tp.I2Iy,tp.I2Iz,tp.I2Ixy,tp.I2Iyz,tp.I2Izx,tp.I2Ex,tp.I2Ey,tp.I2Ez,tp.I2Exy,tp.I2Eyz,tp.I2Ezx,tp.I3Ix,tp.I3Iy,tp.I3Iz,tp.I3Ixy,tp.I3Iyz,tp.I3Izx,tp.I3Ex,tp.I3Ey,tp.I3Ez,tp.I3Exy,tp.I3Eyz,tp.I3Ezx,tp.dtop,tp.d0,tp.d1I,tp.d1E,tp.d2I,tp.d2E,tp.d3I,tp.d3E,tp.d4I,tp.d4E,tp.chainIx,tp.chainEx,tp.n0,tp.n1,tp.n2I,tp.n2E,tp.n3I,tp.n3E,tp.n4I,tp.n4E,tp.n5I,tp.n5E,tp.su,tp.siI,tp.siE,tp.slI,tp.slE,tp.kbuz,tp.kbizI,tp.kbizE,tp.l1,tp.l2I,tp.l2E,tp.l3I,tp.l3E,tp.kw1,tp.kw2I,tp.kw2E,tp.kw3I,tp.kw3E,tp.Y1,tp.Y2I,tp.Y2E,tp.Y3I,tp.Y3E,tp.M11,tp.M21I,tp.M21E,tp.M31I,tp.M31E)"
   ]
  },
  {
   "cell_type": "code",
   "execution_count": 40,
   "id": "b64e59cb",
   "metadata": {},
   "outputs": [
    {
     "data": {
      "text/plain": [
       "(60, 60)"
      ]
     },
     "execution_count": 40,
     "metadata": {},
     "output_type": "execute_result"
    }
   ],
   "source": [
    "A.shape"
   ]
  },
  {
   "cell_type": "code",
   "execution_count": 41,
   "id": "32eb6cd1",
   "metadata": {},
   "outputs": [],
   "source": [
    "B = tpmodel.B(tp.g,tp.m1,tp.m2I,tp.m2E,tp.m3I,tp.m3E,tp.I1x,tp.I1y,tp.I1z,tp.I1xy,tp.I1yz,tp.I1zx,tp.I2Ix,tp.I2Iy,tp.I2Iz,tp.I2Ixy,tp.I2Iyz,tp.I2Izx,tp.I2Ex,tp.I2Ey,tp.I2Ez,tp.I2Exy,tp.I2Eyz,tp.I2Ezx,tp.I3Ix,tp.I3Iy,tp.I3Iz,tp.I3Ixy,tp.I3Iyz,tp.I3Izx,tp.I3Ex,tp.I3Ey,tp.I3Ez,tp.I3Exy,tp.I3Eyz,tp.I3Ezx,tp.dtop,tp.d0,tp.d1I,tp.d1E,tp.d2I,tp.d2E,tp.d3I,tp.d3E,tp.d4I,tp.d4E,tp.chainIx,tp.chainEx,tp.n0,tp.n1,tp.n2I,tp.n2E,tp.n3I,tp.n3E,tp.n4I,tp.n4E,tp.n5I,tp.n5E,tp.su,tp.siI,tp.siE,tp.slI,tp.slE,tp.kbuz,tp.kbizI,tp.kbizE,tp.l1,tp.l2I,tp.l2E,tp.l3I,tp.l3E,tp.kw1,tp.kw2I,tp.kw2E,tp.kw3I,tp.kw3E,tp.Y1,tp.Y2I,tp.Y2E,tp.Y3I,tp.Y3E,tp.M11,tp.M21I,tp.M21E,tp.M31I,tp.M31E)"
   ]
  },
  {
   "cell_type": "code",
   "execution_count": 42,
   "id": "fe7d598d",
   "metadata": {},
   "outputs": [
    {
     "data": {
      "text/plain": [
       "(60, 36)"
      ]
     },
     "execution_count": 42,
     "metadata": {},
     "output_type": "execute_result"
    }
   ],
   "source": [
    "B.shape"
   ]
  },
  {
   "cell_type": "code",
   "execution_count": 43,
   "id": "0a809d91",
   "metadata": {},
   "outputs": [],
   "source": [
    "C = tpmodel.C(tp.g,tp.m1,tp.m2I,tp.m2E,tp.m3I,tp.m3E,tp.I1x,tp.I1y,tp.I1z,tp.I1xy,tp.I1yz,tp.I1zx,tp.I2Ix,tp.I2Iy,tp.I2Iz,tp.I2Ixy,tp.I2Iyz,tp.I2Izx,tp.I2Ex,tp.I2Ey,tp.I2Ez,tp.I2Exy,tp.I2Eyz,tp.I2Ezx,tp.I3Ix,tp.I3Iy,tp.I3Iz,tp.I3Ixy,tp.I3Iyz,tp.I3Izx,tp.I3Ex,tp.I3Ey,tp.I3Ez,tp.I3Exy,tp.I3Eyz,tp.I3Ezx,tp.dtop,tp.d0,tp.d1I,tp.d1E,tp.d2I,tp.d2E,tp.d3I,tp.d3E,tp.d4I,tp.d4E,tp.chainIx,tp.chainEx,tp.n0,tp.n1,tp.n2I,tp.n2E,tp.n3I,tp.n3E,tp.n4I,tp.n4E,tp.n5I,tp.n5E,tp.su,tp.siI,tp.siE,tp.slI,tp.slE,tp.kbuz,tp.kbizI,tp.kbizE,tp.l1,tp.l2I,tp.l2E,tp.l3I,tp.l3E,tp.kw1,tp.kw2I,tp.kw2E,tp.kw3I,tp.kw3E,tp.Y1,tp.Y2I,tp.Y2E,tp.Y3I,tp.Y3E,tp.M11,tp.M21I,tp.M21E,tp.M31I,tp.M31E)"
   ]
  },
  {
   "cell_type": "code",
   "execution_count": 44,
   "id": "032afbb8",
   "metadata": {},
   "outputs": [
    {
     "data": {
      "text/plain": [
       "(36, 60)"
      ]
     },
     "execution_count": 44,
     "metadata": {},
     "output_type": "execute_result"
    }
   ],
   "source": [
    "C.shape"
   ]
  },
  {
   "cell_type": "code",
   "execution_count": 45,
   "id": "e8aa54e2",
   "metadata": {},
   "outputs": [],
   "source": [
    "D = tpmodel.D(tp.g,tp.m1,tp.m2I,tp.m2E,tp.m3I,tp.m3E,tp.I1x,tp.I1y,tp.I1z,tp.I1xy,tp.I1yz,tp.I1zx,tp.I2Ix,tp.I2Iy,tp.I2Iz,tp.I2Ixy,tp.I2Iyz,tp.I2Izx,tp.I2Ex,tp.I2Ey,tp.I2Ez,tp.I2Exy,tp.I2Eyz,tp.I2Ezx,tp.I3Ix,tp.I3Iy,tp.I3Iz,tp.I3Ixy,tp.I3Iyz,tp.I3Izx,tp.I3Ex,tp.I3Ey,tp.I3Ez,tp.I3Exy,tp.I3Eyz,tp.I3Ezx,tp.dtop,tp.d0,tp.d1I,tp.d1E,tp.d2I,tp.d2E,tp.d3I,tp.d3E,tp.d4I,tp.d4E,tp.chainIx,tp.chainEx,tp.n0,tp.n1,tp.n2I,tp.n2E,tp.n3I,tp.n3E,tp.n4I,tp.n4E,tp.n5I,tp.n5E,tp.su,tp.siI,tp.siE,tp.slI,tp.slE,tp.kbuz,tp.kbizI,tp.kbizE,tp.l1,tp.l2I,tp.l2E,tp.l3I,tp.l3E,tp.kw1,tp.kw2I,tp.kw2E,tp.kw3I,tp.kw3E,tp.Y1,tp.Y2I,tp.Y2E,tp.Y3I,tp.Y3E,tp.M11,tp.M21I,tp.M21E,tp.M31I,tp.M31E)"
   ]
  },
  {
   "cell_type": "code",
   "execution_count": 46,
   "id": "722b6d88",
   "metadata": {},
   "outputs": [
    {
     "data": {
      "text/plain": [
       "(36, 36)"
      ]
     },
     "execution_count": 46,
     "metadata": {},
     "output_type": "execute_result"
    }
   ],
   "source": [
    "D.shape"
   ]
  },
  {
   "cell_type": "code",
   "execution_count": null,
   "id": "99ba5402",
   "metadata": {},
   "outputs": [],
   "source": []
  },
  {
   "cell_type": "markdown",
   "id": "0875569a",
   "metadata": {},
   "source": [
    "# Modes for the default case "
   ]
  },
  {
   "cell_type": "markdown",
   "id": "f71ae012",
   "metadata": {},
   "source": [
    "## What are the default parameters?"
   ]
  },
  {
   "cell_type": "code",
   "execution_count": 72,
   "id": "3294c3bc",
   "metadata": {},
   "outputs": [
    {
     "name": "stdout",
     "output_type": "stream",
     "text": [
      "4\n",
      "2\n",
      "3\n",
      "None\n",
      "2\n",
      "3\n",
      "0\n",
      "None\n",
      "None\n",
      "4\n",
      "2\n",
      "3\n",
      "0\n",
      "None\n",
      "None\n",
      "0\n",
      "1\n",
      "2\n",
      "0\n",
      "1\n",
      "2\n",
      "0\n",
      "3\n",
      "5\n",
      "None\n",
      "0\n",
      "1\n",
      "None\n",
      "2\n",
      "3\n",
      "0\n",
      "8\n",
      "9\n",
      "4\n",
      "0\n",
      "1\n",
      "None\n",
      "2\n",
      "3\n",
      "None\n",
      "2\n",
      "3\n",
      "None\n",
      "2\n",
      "3\n",
      "4\n",
      "2\n",
      "3\n",
      "0\n",
      "1\n",
      "2\n",
      "4\n",
      "0\n",
      "1\n",
      "None\n",
      "4\n",
      "5\n",
      "2\n",
      "0\n",
      "1\n",
      "9\n",
      "0\n",
      "1\n",
      "4\n",
      "2\n",
      "3\n",
      "None\n",
      "0\n",
      "1\n",
      "None\n",
      "0\n",
      "1\n",
      "None\n",
      "0\n",
      "1\n",
      "4\n",
      "0\n",
      "1\n",
      "None\n",
      "0\n",
      "1\n",
      "4\n",
      "0\n",
      "1\n",
      "9\n",
      "0\n",
      "1\n",
      "9\n",
      "0\n",
      "1\n"
     ]
    },
    {
     "data": {
      "text/html": [
       "<div>\n",
       "<style scoped>\n",
       "    .dataframe tbody tr th:only-of-type {\n",
       "        vertical-align: middle;\n",
       "    }\n",
       "\n",
       "    .dataframe tbody tr th {\n",
       "        vertical-align: top;\n",
       "    }\n",
       "\n",
       "    .dataframe thead th {\n",
       "        text-align: right;\n",
       "    }\n",
       "</style>\n",
       "<table border=\"1\" class=\"dataframe\">\n",
       "  <thead>\n",
       "    <tr style=\"text-align: right;\">\n",
       "      <th></th>\n",
       "      <th>Freq</th>\n",
       "      <th>DOF</th>\n",
       "      <th>Amps</th>\n",
       "      <th>Mode_vis</th>\n",
       "    </tr>\n",
       "  </thead>\n",
       "  <tbody>\n",
       "    <tr>\n",
       "      <th>0</th>\n",
       "      <td>16.469420</td>\n",
       "      <td>[roll2I, roll2E, roll3I, roll3E, roll1]</td>\n",
       "      <td>[0.53, 0.53, -0.45, -0.45, -0.2]</td>\n",
       "      <td>(0.4444444444444445, 0.4444444444444445)</td>\n",
       "    </tr>\n",
       "    <tr>\n",
       "      <th>1</th>\n",
       "      <td>16.297265</td>\n",
       "      <td>[roll2I, roll2E, roll3I, roll3E]</td>\n",
       "      <td>[0.53, -0.53, -0.47, 0.47]</td>\n",
       "      <td>(None, None)</td>\n",
       "    </tr>\n",
       "    <tr>\n",
       "      <th>2</th>\n",
       "      <td>14.967516</td>\n",
       "      <td>[pitch1, z2I, z2E, z3I, z3E]</td>\n",
       "      <td>[1.0, -0.01, 0.01, 0.01, -0.01]</td>\n",
       "      <td>(None, None)</td>\n",
       "    </tr>\n",
       "    <tr>\n",
       "      <th>3</th>\n",
       "      <td>13.539440</td>\n",
       "      <td>[z2I, z2E, z3I, z3E, z1]</td>\n",
       "      <td>[0.53, 0.53, -0.46, -0.46, -0.14]</td>\n",
       "      <td>(0.30434782608695654, 0.30434782608695654)</td>\n",
       "    </tr>\n",
       "    <tr>\n",
       "      <th>4</th>\n",
       "      <td>12.552206</td>\n",
       "      <td>[pitch1, z2I, z2E, z3I, z3E]</td>\n",
       "      <td>[-1.0, -0.02, 0.02, 0.02, -0.02]</td>\n",
       "      <td>(None, None)</td>\n",
       "    </tr>\n",
       "    <tr>\n",
       "      <th>5</th>\n",
       "      <td>10.799116</td>\n",
       "      <td>[roll1, roll3I, roll3E, roll2I, roll2E]</td>\n",
       "      <td>[0.96, -0.21, -0.21, -0.02, -0.02]</td>\n",
       "      <td>(-4.571428571428571, -4.571428571428571)</td>\n",
       "    </tr>\n",
       "    <tr>\n",
       "      <th>6</th>\n",
       "      <td>7.841632</td>\n",
       "      <td>[z1, z3I, z3E, z2I, z2E]</td>\n",
       "      <td>[-0.94, 0.23, 0.23, 0.07, 0.07]</td>\n",
       "      <td>(-4.08695652173913, -4.08695652173913)</td>\n",
       "    </tr>\n",
       "    <tr>\n",
       "      <th>7</th>\n",
       "      <td>6.066236</td>\n",
       "      <td>[yaw1, yaw2I, yaw2E, yaw3I, roll3I, yaw3E, rol...</td>\n",
       "      <td>[-0.98, 0.13, 0.13, -0.01, 0.01, -0.01, -0.01]</td>\n",
       "      <td>(98.0, 98.0)</td>\n",
       "    </tr>\n",
       "    <tr>\n",
       "      <th>8</th>\n",
       "      <td>3.703990</td>\n",
       "      <td>[roll3I, roll3E, roll2I, roll2E, yaw1]</td>\n",
       "      <td>[-0.53, 0.53, -0.47, 0.47, -0.01]</td>\n",
       "      <td>(None, None)</td>\n",
       "    </tr>\n",
       "    <tr>\n",
       "      <th>9</th>\n",
       "      <td>3.064187</td>\n",
       "      <td>[pitch2I, pitch2E, pitch3I, pitch3E, x1, x2I, ...</td>\n",
       "      <td>[0.61, 0.61, -0.29, -0.29, -0.27, 0.08, 0.08, ...</td>\n",
       "      <td>(None, None)</td>\n",
       "    </tr>\n",
       "    <tr>\n",
       "      <th>10</th>\n",
       "      <td>3.061693</td>\n",
       "      <td>[y1, roll3I, roll3E, roll2I, roll2E, roll1, y2...</td>\n",
       "      <td>[0.45, 0.44, 0.44, 0.4, 0.4, 0.22, -0.14, -0.1...</td>\n",
       "      <td>(22.5, 22.5)</td>\n",
       "    </tr>\n",
       "    <tr>\n",
       "      <th>11</th>\n",
       "      <td>2.674286</td>\n",
       "      <td>[roll3I, roll3E, roll2I, roll2E, roll1]</td>\n",
       "      <td>[0.5, 0.5, 0.47, 0.47, 0.25]</td>\n",
       "      <td>(0.5, 0.5)</td>\n",
       "    </tr>\n",
       "    <tr>\n",
       "      <th>12</th>\n",
       "      <td>2.626336</td>\n",
       "      <td>[pitch2I, pitch2E, pitch3I, pitch3E]</td>\n",
       "      <td>[0.59, -0.59, -0.39, 0.39]</td>\n",
       "      <td>(None, None)</td>\n",
       "    </tr>\n",
       "    <tr>\n",
       "      <th>13</th>\n",
       "      <td>2.621887</td>\n",
       "      <td>[pitch2I, pitch2E, pitch3I, pitch3E]</td>\n",
       "      <td>[-0.59, -0.59, 0.39, 0.39]</td>\n",
       "      <td>(None, None)</td>\n",
       "    </tr>\n",
       "    <tr>\n",
       "      <th>14</th>\n",
       "      <td>2.615598</td>\n",
       "      <td>[yaw2I, yaw2E, yaw3I, yaw3E]</td>\n",
       "      <td>[0.65, -0.65, -0.27, 0.27]</td>\n",
       "      <td>(None, None)</td>\n",
       "    </tr>\n",
       "    <tr>\n",
       "      <th>15</th>\n",
       "      <td>2.495849</td>\n",
       "      <td>[yaw2I, yaw2E, yaw3I, yaw3E, yaw1]</td>\n",
       "      <td>[-0.63, -0.63, 0.3, 0.3, -0.12]</td>\n",
       "      <td>(-0.4, -0.4)</td>\n",
       "    </tr>\n",
       "    <tr>\n",
       "      <th>16</th>\n",
       "      <td>2.050761</td>\n",
       "      <td>[pitch1, pitch3I, pitch3E, z2I, z2E, z3I, z3E,...</td>\n",
       "      <td>[-0.95, 0.17, 0.17, -0.09, 0.09, -0.09, 0.09, ...</td>\n",
       "      <td>(-5.588235294117647, -5.588235294117647)</td>\n",
       "    </tr>\n",
       "    <tr>\n",
       "      <th>17</th>\n",
       "      <td>1.898208</td>\n",
       "      <td>[z3I, z3E, z2I, z2E, z1]</td>\n",
       "      <td>[0.49, 0.49, 0.47, 0.47, 0.28]</td>\n",
       "      <td>(0.5714285714285715, 0.5714285714285715)</td>\n",
       "    </tr>\n",
       "    <tr>\n",
       "      <th>18</th>\n",
       "      <td>1.842791</td>\n",
       "      <td>[pitch2I, pitch2E, x2I, x2E, pitch3I, pitch3E,...</td>\n",
       "      <td>[0.57, -0.57, -0.34, 0.34, 0.18, -0.18, 0.14, ...</td>\n",
       "      <td>(None, None)</td>\n",
       "    </tr>\n",
       "    <tr>\n",
       "      <th>19</th>\n",
       "      <td>1.697466</td>\n",
       "      <td>[yaw3I, yaw3E, yaw1, yaw2I, yaw2E, y2I, y2E, y...</td>\n",
       "      <td>[-0.56, -0.56, 0.48, 0.25, 0.25, -0.08, 0.08, ...</td>\n",
       "      <td>(-0.857142857142857, -0.857142857142857)</td>\n",
       "    </tr>\n",
       "    <tr>\n",
       "      <th>20</th>\n",
       "      <td>1.563772</td>\n",
       "      <td>[pitch3I, pitch3E, pitch2I, pitch2E, x2I, x2E,...</td>\n",
       "      <td>[0.57, 0.57, 0.4, 0.4, -0.11, -0.11, 0.08, 0.0...</td>\n",
       "      <td>(0.10526315789473685, 0.10526315789473685)</td>\n",
       "    </tr>\n",
       "    <tr>\n",
       "      <th>21</th>\n",
       "      <td>1.558680</td>\n",
       "      <td>[y2I, y2E, y3I, y3E, y1, roll1, roll3I, roll3E...</td>\n",
       "      <td>[0.54, 0.54, -0.38, -0.38, 0.34, 0.11, -0.02, ...</td>\n",
       "      <td>(-0.8947368421052632, -0.8947368421052632)</td>\n",
       "    </tr>\n",
       "    <tr>\n",
       "      <th>22</th>\n",
       "      <td>1.258187</td>\n",
       "      <td>[pitch3I, pitch3E, pitch2I, pitch2E]</td>\n",
       "      <td>[-0.59, 0.59, -0.39, 0.39]</td>\n",
       "      <td>(None, None)</td>\n",
       "    </tr>\n",
       "    <tr>\n",
       "      <th>23</th>\n",
       "      <td>1.247834</td>\n",
       "      <td>[pitch3I, pitch3E, pitch2I, pitch2E]</td>\n",
       "      <td>[0.59, 0.59, 0.39, 0.39]</td>\n",
       "      <td>(None, None)</td>\n",
       "    </tr>\n",
       "    <tr>\n",
       "      <th>24</th>\n",
       "      <td>1.083416</td>\n",
       "      <td>[yaw3I, yaw3E, yaw2I, yaw2E]</td>\n",
       "      <td>[0.65, -0.65, 0.27, -0.27]</td>\n",
       "      <td>(None, None)</td>\n",
       "    </tr>\n",
       "    <tr>\n",
       "      <th>25</th>\n",
       "      <td>1.023088</td>\n",
       "      <td>[yaw3I, yaw3E, yaw2I, yaw2E, yaw1, y3I, y3E]</td>\n",
       "      <td>[0.64, 0.64, 0.3, 0.3, 0.06, 0.01, -0.01]</td>\n",
       "      <td>(0.09375, 0.09375)</td>\n",
       "    </tr>\n",
       "    <tr>\n",
       "      <th>26</th>\n",
       "      <td>0.755868</td>\n",
       "      <td>[pitch3I, pitch3E, pitch2I, pitch2E, x3I, x3E,...</td>\n",
       "      <td>[0.52, -0.52, 0.44, -0.44, -0.18, 0.18, -0.07,...</td>\n",
       "      <td>(None, None)</td>\n",
       "    </tr>\n",
       "    <tr>\n",
       "      <th>27</th>\n",
       "      <td>0.674222</td>\n",
       "      <td>[yaw3I, yaw3E, yaw2I, yaw2E, yaw1, y3I, y3E, y...</td>\n",
       "      <td>[0.53, 0.53, 0.41, 0.41, 0.3, -0.08, 0.08, -0....</td>\n",
       "      <td>(0.5660377358490566, 0.5660377358490566)</td>\n",
       "    </tr>\n",
       "    <tr>\n",
       "      <th>28</th>\n",
       "      <td>0.630358</td>\n",
       "      <td>[y3I, y3E, y2I, y2E, roll2I, roll2E, roll3I, r...</td>\n",
       "      <td>[-0.52, -0.52, -0.31, -0.31, -0.23, -0.23, -0....</td>\n",
       "      <td>(0.2692307692307693, 0.2692307692307693)</td>\n",
       "    </tr>\n",
       "    <tr>\n",
       "      <th>29</th>\n",
       "      <td>0.628383</td>\n",
       "      <td>[pitch3I, pitch3E, pitch2I, pitch2E, x3I, x3E,...</td>\n",
       "      <td>[-0.48, -0.48, -0.42, -0.42, 0.26, 0.26, 0.16,...</td>\n",
       "      <td>(0.10416666666666667, 0.10416666666666667)</td>\n",
       "    </tr>\n",
       "  </tbody>\n",
       "</table>\n",
       "</div>"
      ],
      "text/plain": [
       "         Freq                                                DOF  \\\n",
       "0   16.469420            [roll2I, roll2E, roll3I, roll3E, roll1]   \n",
       "1   16.297265                   [roll2I, roll2E, roll3I, roll3E]   \n",
       "2   14.967516                       [pitch1, z2I, z2E, z3I, z3E]   \n",
       "3   13.539440                           [z2I, z2E, z3I, z3E, z1]   \n",
       "4   12.552206                       [pitch1, z2I, z2E, z3I, z3E]   \n",
       "5   10.799116            [roll1, roll3I, roll3E, roll2I, roll2E]   \n",
       "6    7.841632                           [z1, z3I, z3E, z2I, z2E]   \n",
       "7    6.066236  [yaw1, yaw2I, yaw2E, yaw3I, roll3I, yaw3E, rol...   \n",
       "8    3.703990             [roll3I, roll3E, roll2I, roll2E, yaw1]   \n",
       "9    3.064187  [pitch2I, pitch2E, pitch3I, pitch3E, x1, x2I, ...   \n",
       "10   3.061693  [y1, roll3I, roll3E, roll2I, roll2E, roll1, y2...   \n",
       "11   2.674286            [roll3I, roll3E, roll2I, roll2E, roll1]   \n",
       "12   2.626336               [pitch2I, pitch2E, pitch3I, pitch3E]   \n",
       "13   2.621887               [pitch2I, pitch2E, pitch3I, pitch3E]   \n",
       "14   2.615598                       [yaw2I, yaw2E, yaw3I, yaw3E]   \n",
       "15   2.495849                 [yaw2I, yaw2E, yaw3I, yaw3E, yaw1]   \n",
       "16   2.050761  [pitch1, pitch3I, pitch3E, z2I, z2E, z3I, z3E,...   \n",
       "17   1.898208                           [z3I, z3E, z2I, z2E, z1]   \n",
       "18   1.842791  [pitch2I, pitch2E, x2I, x2E, pitch3I, pitch3E,...   \n",
       "19   1.697466  [yaw3I, yaw3E, yaw1, yaw2I, yaw2E, y2I, y2E, y...   \n",
       "20   1.563772  [pitch3I, pitch3E, pitch2I, pitch2E, x2I, x2E,...   \n",
       "21   1.558680  [y2I, y2E, y3I, y3E, y1, roll1, roll3I, roll3E...   \n",
       "22   1.258187               [pitch3I, pitch3E, pitch2I, pitch2E]   \n",
       "23   1.247834               [pitch3I, pitch3E, pitch2I, pitch2E]   \n",
       "24   1.083416                       [yaw3I, yaw3E, yaw2I, yaw2E]   \n",
       "25   1.023088       [yaw3I, yaw3E, yaw2I, yaw2E, yaw1, y3I, y3E]   \n",
       "26   0.755868  [pitch3I, pitch3E, pitch2I, pitch2E, x3I, x3E,...   \n",
       "27   0.674222  [yaw3I, yaw3E, yaw2I, yaw2E, yaw1, y3I, y3E, y...   \n",
       "28   0.630358  [y3I, y3E, y2I, y2E, roll2I, roll2E, roll3I, r...   \n",
       "29   0.628383  [pitch3I, pitch3E, pitch2I, pitch2E, x3I, x3E,...   \n",
       "\n",
       "                                                 Amps  \\\n",
       "0                    [0.53, 0.53, -0.45, -0.45, -0.2]   \n",
       "1                          [0.53, -0.53, -0.47, 0.47]   \n",
       "2                     [1.0, -0.01, 0.01, 0.01, -0.01]   \n",
       "3                   [0.53, 0.53, -0.46, -0.46, -0.14]   \n",
       "4                    [-1.0, -0.02, 0.02, 0.02, -0.02]   \n",
       "5                  [0.96, -0.21, -0.21, -0.02, -0.02]   \n",
       "6                     [-0.94, 0.23, 0.23, 0.07, 0.07]   \n",
       "7      [-0.98, 0.13, 0.13, -0.01, 0.01, -0.01, -0.01]   \n",
       "8                   [-0.53, 0.53, -0.47, 0.47, -0.01]   \n",
       "9   [0.61, 0.61, -0.29, -0.29, -0.27, 0.08, 0.08, ...   \n",
       "10  [0.45, 0.44, 0.44, 0.4, 0.4, 0.22, -0.14, -0.1...   \n",
       "11                       [0.5, 0.5, 0.47, 0.47, 0.25]   \n",
       "12                         [0.59, -0.59, -0.39, 0.39]   \n",
       "13                         [-0.59, -0.59, 0.39, 0.39]   \n",
       "14                         [0.65, -0.65, -0.27, 0.27]   \n",
       "15                    [-0.63, -0.63, 0.3, 0.3, -0.12]   \n",
       "16  [-0.95, 0.17, 0.17, -0.09, 0.09, -0.09, 0.09, ...   \n",
       "17                     [0.49, 0.49, 0.47, 0.47, 0.28]   \n",
       "18  [0.57, -0.57, -0.34, 0.34, 0.18, -0.18, 0.14, ...   \n",
       "19  [-0.56, -0.56, 0.48, 0.25, 0.25, -0.08, 0.08, ...   \n",
       "20  [0.57, 0.57, 0.4, 0.4, -0.11, -0.11, 0.08, 0.0...   \n",
       "21  [0.54, 0.54, -0.38, -0.38, 0.34, 0.11, -0.02, ...   \n",
       "22                         [-0.59, 0.59, -0.39, 0.39]   \n",
       "23                           [0.59, 0.59, 0.39, 0.39]   \n",
       "24                         [0.65, -0.65, 0.27, -0.27]   \n",
       "25          [0.64, 0.64, 0.3, 0.3, 0.06, 0.01, -0.01]   \n",
       "26  [0.52, -0.52, 0.44, -0.44, -0.18, 0.18, -0.07,...   \n",
       "27  [0.53, 0.53, 0.41, 0.41, 0.3, -0.08, 0.08, -0....   \n",
       "28  [-0.52, -0.52, -0.31, -0.31, -0.23, -0.23, -0....   \n",
       "29  [-0.48, -0.48, -0.42, -0.42, 0.26, 0.26, 0.16,...   \n",
       "\n",
       "                                      Mode_vis  \n",
       "0     (0.4444444444444445, 0.4444444444444445)  \n",
       "1                                 (None, None)  \n",
       "2                                 (None, None)  \n",
       "3   (0.30434782608695654, 0.30434782608695654)  \n",
       "4                                 (None, None)  \n",
       "5     (-4.571428571428571, -4.571428571428571)  \n",
       "6       (-4.08695652173913, -4.08695652173913)  \n",
       "7                                 (98.0, 98.0)  \n",
       "8                                 (None, None)  \n",
       "9                                 (None, None)  \n",
       "10                                (22.5, 22.5)  \n",
       "11                                  (0.5, 0.5)  \n",
       "12                                (None, None)  \n",
       "13                                (None, None)  \n",
       "14                                (None, None)  \n",
       "15                                (-0.4, -0.4)  \n",
       "16    (-5.588235294117647, -5.588235294117647)  \n",
       "17    (0.5714285714285715, 0.5714285714285715)  \n",
       "18                                (None, None)  \n",
       "19    (-0.857142857142857, -0.857142857142857)  \n",
       "20  (0.10526315789473685, 0.10526315789473685)  \n",
       "21  (-0.8947368421052632, -0.8947368421052632)  \n",
       "22                                (None, None)  \n",
       "23                                (None, None)  \n",
       "24                                (None, None)  \n",
       "25                          (0.09375, 0.09375)  \n",
       "26                                (None, None)  \n",
       "27    (0.5660377358490566, 0.5660377358490566)  \n",
       "28    (0.2692307692307693, 0.2692307692307693)  \n",
       "29  (0.10416666666666667, 0.10416666666666667)  "
      ]
     },
     "execution_count": 72,
     "metadata": {},
     "output_type": "execute_result"
    }
   ],
   "source": [
    "\n",
    "\n",
    "pend = tpmodel.pendSS(*[getattr(tp, coeff) for coeff in tpmodel.stdcoeffs]) # generating state space matrices \n",
    "modes = tpmodel.eigenmodes(*[getattr(tp, coeff) for coeff in tpmodel.stdcoeffs]) \n",
    "print_modes(modes)"
   ]
  },
  {
   "cell_type": "markdown",
   "id": "a3c1d58a",
   "metadata": {},
   "source": [
    "# Increase MOI to 2x for the top mass "
   ]
  },
  {
   "cell_type": "code",
   "execution_count": null,
   "id": "f42d9b8c-e3c7-4c01-a99c-f70eaaec1e75",
   "metadata": {},
   "outputs": [],
   "source": [
    "Case1_Tr = pd.DataFrame(data={\"Parameters\":[\"I1x\",\"I1y\",\"I1z\"], \"Values\":[0.00235,0.00173,0.00173] })"
   ]
  }
 ],
 "metadata": {
  "kernelspec": {
   "display_name": "base",
   "language": "python",
   "name": "python3"
  },
  "language_info": {
   "codemirror_mode": {
    "name": "ipython",
    "version": 3
   },
   "file_extension": ".py",
   "mimetype": "text/x-python",
   "name": "python",
   "nbconvert_exporter": "python",
   "pygments_lexer": "ipython3",
   "version": "3.12.7"
  }
 },
 "nbformat": 4,
 "nbformat_minor": 5
}
