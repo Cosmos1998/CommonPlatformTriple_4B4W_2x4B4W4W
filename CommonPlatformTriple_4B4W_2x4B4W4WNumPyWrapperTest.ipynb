{
 "cells": [
  {
   "cell_type": "markdown",
   "id": "bcdb472a",
   "metadata": {},
   "source": [
    "#### Test of stuff exported from Mathematica for case \"MatrixElementExport\" of CommonPlatformTriple_4B4W_2x4B4W4W"
   ]
  },
  {
   "cell_type": "markdown",
   "id": "6df30bda",
   "metadata": {},
   "source": [
    "## Preliminaries"
   ]
  },
  {
   "cell_type": "raw",
   "id": "e391d0cf",
   "metadata": {},
   "source": [
    "NOTE: Edit the hardcoded path in the cell below to point to where CommonPlatformTriple_4B4W_2x4B4W4W_MatrixElementExport_cptriple.py and symbexportCommonPlatformTriple_4B4W_2x4B4W4Wfull.py are located"
   ]
  },
  {
   "cell_type": "code",
   "execution_count": 3,
   "id": "9b65addb",
   "metadata": {},
   "outputs": [],
   "source": [
    "import sys\n",
    "sys.path.append('/Users/t.seetharamu.1/Documents/svn/GCIF/GCIF planning/Infrastructure cryogenics/CommonPlatformTriple_4B4W_2x4B4W4W/MatrixElementExport')"
   ]
  },
  {
   "cell_type": "markdown",
   "id": "097ccdf2",
   "metadata": {},
   "source": [
    "### Other system dependencies"
   ]
  },
  {
   "cell_type": "code",
   "execution_count": 4,
   "id": "db82d514",
   "metadata": {},
   "outputs": [],
   "source": [
    "import os"
   ]
  },
  {
   "cell_type": "code",
   "execution_count": 5,
   "id": "bf3d1178",
   "metadata": {},
   "outputs": [],
   "source": [
    "from math import pi,sqrt"
   ]
  },
  {
   "cell_type": "code",
   "execution_count": 6,
   "id": "9454cdc5",
   "metadata": {},
   "outputs": [],
   "source": [
    "import numpy as np"
   ]
  },
  {
   "cell_type": "code",
   "execution_count": 7,
   "id": "61b339f9",
   "metadata": {},
   "outputs": [],
   "source": [
    "# import scipy.linalg"
   ]
  },
  {
   "cell_type": "code",
   "execution_count": 8,
   "id": "b3a50e01",
   "metadata": {},
   "outputs": [],
   "source": [
    "import control as ct"
   ]
  },
  {
   "cell_type": "code",
   "execution_count": 9,
   "id": "d214a6c0",
   "metadata": {},
   "outputs": [],
   "source": [
    "import matplotlib.pyplot as plt"
   ]
  },
  {
   "cell_type": "code",
   "execution_count": 10,
   "id": "bf5e9ecb-0780-4aea-9631-c61820fc75c5",
   "metadata": {},
   "outputs": [],
   "source": [
    "import os\n",
    "import pandas as pd\n",
    "import inspect\n",
    "from math import pi,sqrt\n",
    "from decimal import Decimal\n",
    "\n",
    "import numpy as np\n",
    "\n",
    "# import scipy.linalg\n",
    "from matplotlib.ticker import MultipleLocator\n",
    "import control as ct\n",
    "\n",
    "import matplotlib.pyplot as plt\n",
    "import importlib\n",
    "\n",
    "import matplotlib\n",
    "matplotlib.rcParams['font.sans-serif'] = \"Comic Sans MS\"\n",
    "# Then, \"ALWAYS use sans-serif fonts\"\n",
    "matplotlib.rcParams['font.family'] = \"sans-serif\"\n",
    "plt.rcParams['font.size'] = 18          # Default font size for text\n",
    "plt.rcParams['axes.titlesize'] = 22     # Font size for axes titles\n",
    "plt.rcParams['axes.labelsize'] = 18     # Font size for axes labels\n",
    "plt.rcParams['xtick.labelsize'] = 14    # Font size for x-axis tick labels\n",
    "plt.rcParams['ytick.labelsize'] = 14    # Font size for y-axis tick labels\n",
    "plt.rcParams['legend.fontsize'] = 15    # Font size for legend\n"
   ]
  },
  {
   "cell_type": "markdown",
   "id": "6b9bb7a6",
   "metadata": {},
   "source": [
    "### CommonPlatformTriple_4B4W_2x4B4W4W model definition data and matrix element functions exported from Mathematica "
   ]
  },
  {
   "cell_type": "code",
   "execution_count": 11,
   "id": "853069d5",
   "metadata": {},
   "outputs": [],
   "source": [
    "import symbexportCommonPlatformTriple_4B4W_2x4B4W4Wfull as tpmodel"
   ]
  },
  {
   "cell_type": "markdown",
   "id": "53c1d462",
   "metadata": {},
   "source": [
    "### Parameters exported from Mathematica"
   ]
  },
  {
   "cell_type": "raw",
   "id": "237f23f4",
   "metadata": {},
   "source": [
    "NOTE: The \"MatrixElementExport\" part of the following line (i.e., between the underscores) is the Mathematica case name, and will need to be edited to use parameters from realistic cases."
   ]
  },
  {
   "cell_type": "code",
   "execution_count": 12,
   "id": "fd9feea1",
   "metadata": {},
   "outputs": [],
   "source": [
    "import CommonPlatformTriple_4B4W_2x4B4W4W_MatrixElementExport_cptriple as tp"
   ]
  },
  {
   "cell_type": "code",
   "execution_count": 124,
   "id": "510dae5d-9dd3-4522-92d0-2cc9be690e33",
   "metadata": {},
   "outputs": [],
   "source": [
    "n3 = 0.0405\n",
    "def reboot_params():\n",
    "    importlib.reload(tp)\n",
    "    tp.n0 = 0.0905\n",
    "    n3 = 0.0405\n",
    "    \n",
    "    tp.d0 = 0.001\n",
    "    tp.d1I = 0.001\n",
    "    tp.d1E = 0.001\n",
    "    \n",
    "    tp.n2I = 0.0405\n",
    "    tp.n3I = 0.0405\n",
    "    tp.n4I = n3 # To meet the IM and Optic size \n",
    "    tp.n5I = n3\n",
    "\n",
    "    tp.n2E = 0.0405\n",
    "    tp.n3E = 0.0405\n",
    "    tp.n4E = n3 # To meet the IM and Optic size \n",
    "    tp.n5E = n3\n",
    "    \n",
    "    revised_sus_length = 0.298  # to meet optical view port height\n",
    "    tp.kw1= 1396.07\n",
    "    tp.kw2I=tp.kw1\n",
    "    tp.kw2E=tp.kw1\n",
    "    tp.kw3I=186218 # These are heat extraction limited wire dia\n",
    "    tp.kw3E=186218\n",
    "    \n",
    "    tp.l1 = revised_sus_length\n",
    "    tp.l2I = revised_sus_length\n",
    "    tp.l2E = revised_sus_length\n",
    "    tp.l3I = revised_sus_length\n",
    "    tp.l3E = revised_sus_length"
   ]
  },
  {
   "cell_type": "code",
   "execution_count": 14,
   "id": "52fa6725-8b30-489c-8bcb-efcc5b9883c5",
   "metadata": {},
   "outputs": [],
   "source": [
    "def original_params():\n",
    "    \n",
    "    \"\"\"\n",
    "    This function loads reloads the tp class and reboots the parameters.\n",
    "    \"\"\"\n",
    "    importlib.reload(tp)\n",
    "    revised_sus_length = 0.298\n",
    "\n",
    "\n",
    "    data =     [[\"Masses\", \"m1 / m2 / m3\", [round(tp.m1,2) ,round(tp.m2,2) ,round(tp.m3,2)]],\n",
    "\n",
    "    [\"Roll Moment of Inertia\", \"I1,x / I2,x / I3,x\",  [round(i,5) for i in [tp.I1x, tp.I2x , tp.I3x]]],\n",
    "\n",
    "    [\"Pitch Moment of Inertia\", \"I1,y / I2,y / I3,y\",  [round(i,5) for i in [tp.I1y, tp.I2y , tp.I3y]]],\n",
    "\n",
    "    [\"Yaw Moment of Inertia\", \"I1,z / I2,z / I3,z\", [round(i,5) for i in [tp.I1z, tp.I2z , tp.I3z]]],\n",
    "    \n",
    "            [\"Stretched wire lengths\", \"l1 / l2 / l3\", [tp.l1 , tp.l2, tp.l3]], \n",
    "            [\"Upper end wire vertical attachment distance\", \"dtop / d1/ d3 \" , [round(i,3) for i in [tp.dtop, tp.d1 , tp.d3]]],\n",
    "            [\"Bottom end wire vertical attachment distance\", \"d0 / d2 / d4\" , [round(i,3) for i in [tp.d0 , tp.d2, tp.d4]]],\n",
    "            \n",
    "            [\"Longitudinal wire separation\" , \"su / si / sl\", [tp.su, tp.si , tp.sl]],\n",
    "            [\"Upper transverse wire separation\", \"n0 / n2 / n4 \", [tp.n0, tp.n2 , tp.n4]],\n",
    "            [\"Bottom transverse wire separation\", \"n1 / n3 / n5 \", [tp.n1, tp.n3 , tp.n5]],\n",
    "            [\"Vertical Spring stiffness\", \"kbuz / kbiz / kblz\", [tp.kbuz, \"NA\", tp.kblz]],\n",
    "            [\"Wire Lengths\", \"l1 / l2 / l3\", [tp.l1 , tp.l2 , tp.l3]],\n",
    "            [\"Youngs Moduli of the wires\", \"Y1 / Y2 / Y3\", ['%.5E' % Decimal(tp.Y1), '%.5E' % Decimal(tp.Y2), '%.5E' % Decimal(tp.Y3)]]]\n",
    "\n",
    "\n",
    "\n",
    "    params = pd.DataFrame(data, columns = [\"Description\", \"Parameter\",\"Values\"])\n",
    "    # Setting display options\n",
    "    pd.set_option('display.width', 1000)  # Set width to a large value to prevent wrapping\n",
    "    pd.set_option('display.max_colwidth', None)  # Display full contents of each cell without truncation\n",
    "    print(params)"
   ]
  },
  {
   "cell_type": "code",
   "execution_count": 58,
   "id": "611c110d-b6cc-41bd-8842-18bd52fda87a",
   "metadata": {},
   "outputs": [],
   "source": [
    "def print_modes(eigens):\n",
    "    \"\"\"This function prints table\n",
    "    argument: tp.eigenmodes(stdcoeffs vector)\"\"\"\n",
    "    Hz = eigens[0]\n",
    "    evecs = eigens[1]\n",
    "    dofs = []\n",
    "    dof_amps = []\n",
    "    for j in range(0,len(Hz)): \n",
    "        df =pd.DataFrame(np.array(list(zip(tpmodel.allvars,list(evecs[j])))), columns=[\"DOF\",\"Amp\"])\n",
    "        df[\"Amp\"] = [(round(float(i),2)) for i in list(df[\"Amp\"])] \n",
    "        df = (df[df[\"Amp\"]!=0])\n",
    "        df = df.sort_values(by='Amp', ascending=False, key=abs)\n",
    "        dofs.append(np.array(df[\"DOF\"]))\n",
    "        dof_amps.append(np.array(df[\"Amp\"]))\n",
    "\n",
    "    modes = pd.DataFrame({\"Freq\":Hz, \"DOF\":dofs, \"Amps\":dof_amps})\n",
    "    \n",
    "    def calculate_modevis(row):\n",
    "        dof = row['DOF']\n",
    "        amps = row['Amps']\n",
    "        \n",
    "        # Identify the mode type based on the first entry in DOF\n",
    "        mode_type = dof[0].rstrip('123IE')  # e.g., \"roll\", \"pitch\"\n",
    "        # print (mode_type)\n",
    "        # Find indices of the first and third components for I and E objects\n",
    "        first_idx = next((i for i, d in enumerate(dof) if d == f\"{mode_type}1\"), None)\n",
    "        # print (first_idx)\n",
    "        third_I_idx = next((i for i, d in enumerate(dof) if d == f\"{mode_type}3I\"), None)\n",
    "        # print (third_I_idx)\n",
    "        third_E_idx = next((i for i, d in enumerate(dof) if d == f\"{mode_type}3E\"), None)\n",
    "        # print (third_E_idx)\n",
    "        # Calculate the ratio if both indices are found for I and E objects\n",
    "        ratio_I = round(amps[first_idx] / amps[third_I_idx],2) if first_idx is not None and third_I_idx is not None and amps[third_I_idx] != 0 else None\n",
    "        ratio_E = round(amps[first_idx] / amps[third_E_idx],2) if first_idx is not None and third_E_idx is not None and amps[third_E_idx] != 0 else None\n",
    "        \n",
    "        return [ratio_I,ratio_E]\n",
    "\n",
    "\n",
    "    # Apply the function and create a new column\n",
    "    modes['Mode_vis'] = modes.apply(calculate_modevis, axis=1)\n",
    "\n",
    "# # Display the updated dataframe\n",
    "# display(df)\n",
    "    \n",
    "    return modes"
   ]
  },
  {
   "cell_type": "code",
   "execution_count": 130,
   "id": "6497222d-4bf8-4477-87ab-933aa36bc9e8",
   "metadata": {},
   "outputs": [],
   "source": [
    "def mode_forest(mode_amp, fig=None, ax=None):\n",
    "    \"\"\"Plots the mode forest with text labels aligned near markers with slight y jitter\"\"\"\n",
    "    Hz = mode_amp[0]\n",
    "    evecs = mode_amp[1]\n",
    "    dofs = []\n",
    "    dof_amps = []\n",
    "    \n",
    "    for j in range(len(Hz)): \n",
    "        df = pd.DataFrame(np.array(list(zip(tpmodel.allvars, list(evecs[j])))), columns=[\"DOF\", \"Amp\"])\n",
    "        df[\"Amp\"] = [np.abs(round(float(i), 2)) for i in df[\"Amp\"]] \n",
    "        df = df[df[\"Amp\"] != 0].sort_values(by='Amp', ascending=False)\n",
    "        dofs.append(np.array(df[\"DOF\"]))\n",
    "        dof_amps.append(np.array(df[\"Amp\"]))\n",
    "        \n",
    "        # Define small jitters to add to x and y position for labels\n",
    "        x_jitter = np.random.uniform(-0.1, 0.1)  # Horizontal jitter to avoid overlap\n",
    "        y_jitter = np.random.uniform(-0.05, 0.05)  # Small vertical jitter for alignment within category\n",
    "\n",
    "        # Plot each mode and label it with slight y jitter within its category\n",
    "        if any(df[\"DOF\"].iloc[i].rstrip(\"IE\") in [\"x1\", \"x2\", \"x3\", \"pitch1\", \"pitch2\", \"pitch3\"] and df[\"Amp\"].iloc[i] > 0.1 for i in range(len(df))):\n",
    "            ax.scatter(Hz[j], \"Long-pitch Mode\", c=\"red\")\n",
    "            ax.annotate(f\"{round(Hz[j], 3)}\", \n",
    "                        (Hz[j] , \"Long-pitch Mode\"), \n",
    "                        xytext=(Hz[j] , \"Long-pitch Mode\" ),  # Add y jitter to keep close\n",
    "                        fontsize=10, ha='center', va='center')\n",
    "\n",
    "        elif any(df[\"DOF\"].iloc[i].rstrip(\"IE\") in [\"y1\", \"y2\", \"y3\", \"roll1\", \"roll2\", \"roll3\"] and df[\"Amp\"].iloc[i] > 0.1 for i in range(len(df))):\n",
    "            ax.scatter(Hz[j], \"Trans-roll Mode\", c=\"blue\")\n",
    "            ax.annotate(f\"{round(Hz[j], 3)}\", \n",
    "                        (Hz[j] , \"Trans-roll Mode\"), \n",
    "                        xytext=(Hz[j], \"Trans-roll Mode\" ), \n",
    "                        fontsize=10, ha='center', va='center')\n",
    "\n",
    "        elif any(df[\"DOF\"].iloc[i].rstrip(\"IE\") in [\"z1\", \"z2\", \"z3\"] and df[\"Amp\"].iloc[i] > 0.1 for i in range(len(df))):\n",
    "            ax.scatter(Hz[j], \"Bounce Mode\", c=\"black\")    \n",
    "            ax.annotate(f\"{round(Hz[j], 3)}\", \n",
    "                        (Hz[j] , \"Bounce Mode\"), \n",
    "                        xytext=(Hz[j], \"Bounce Mode\" ), \n",
    "                        fontsize=10, ha='center', va='center')\n",
    "\n",
    "        elif any(df[\"DOF\"].iloc[i].rstrip(\"IE\") in [\"yaw1\", \"yaw2\", \"yaw3\"] and df[\"Amp\"].iloc[i] > 0.1 for i in range(len(df))):\n",
    "            ax.scatter(Hz[j], \"Yaw Mode\", c=\"green\")    \n",
    "            ax.annotate(f\"{round(Hz[j], 3)}\", \n",
    "                        (Hz[j] , \"Yaw Mode\"), \n",
    "                        xytext=(Hz[j] , \"Yaw Mode\" ), \n",
    "                        fontsize=10, ha='center', va='center')\n",
    "\n",
    "    ax.grid()\n",
    "    ax.set_xscale(\"log\")\n",
    "    ax.set_ylabel(\"Modes\", fontsize=20)\n",
    "    ax.set_xlabel(\"Freq (Hz)\", fontsize=20)\n",
    "    ax.tick_params(axis=\"both\", labelsize=15)\n",
    "    ax.xaxis.set_minor_locator(MultipleLocator(10))\n",
    "    \n",
    "    modes = pd.DataFrame({\"Freq\": Hz, \"DOF\": dofs, \"Amps\": dof_amps})\n",
    "    \n",
    "    return fig, ax\n"
   ]
  },
  {
   "cell_type": "code",
   "execution_count": 82,
   "id": "4d233f0a-0159-4702-8858-c98f0424af04",
   "metadata": {},
   "outputs": [],
   "source": [
    "def changes(mutation):\n",
    "    reboot_params()\n",
    "    for name, value in zip(mutation.iloc[:, 0], mutation.iloc[:, 1]):\n",
    "        locals()[name] = value\n",
    "    # print(mutation)\n",
    "    # print(d2)\n",
    "    revised_sus_length = 0.298\n",
    "    tp.kw1= 1396.07\n",
    "    tp.kw2=tp.kw1\n",
    "    tp.kw3=70520.4\n",
    "    tp.l1 = revised_sus_length\n",
    "    tp.l2 = revised_sus_length\n",
    "    tp.l3 = revised_sus_length\n",
    "    #Some constraints \n",
    "    global n3\n",
    "    n3 = 0.0405\n",
    "    n4 = n3\n",
    "    n5 = n3\n",
    "\n",
    "        \n",
    "    def assign_to_tp(mutation, tp):\n",
    "        for index, row in mutation.iterrows():\n",
    "            string = row['Parameters']\n",
    "            value = row['Values']\n",
    "            # Dynamically set the attribute to the corresponding value\n",
    "            setattr(tp, string, value)\n",
    "\n",
    "# Call the function\n",
    "    assign_to_tp(mutation, tp)\n",
    "    \n",
    "    \n",
    "    pend = tpmodel.pendSS(*[getattr(tp, coeff) for coeff in tpmodel.stdcoeffs])\n",
    "    (Hz,evecs) = tpmodel.eigenmodes(*[getattr(tp, coeff) for coeff in tpmodel.stdcoeffs])\n",
    "    mode_amp = (Hz,evecs)\n",
    "    \n",
    "    # data =     [[\"Masses\", \"m1 / m2 / m3\", [round(tp.m1,2) ,round(tp.m2,2) ,round(tp.m3,2)]],\n",
    "\n",
    "    # [\"Roll Moment of Inertia\", \"I1,x / I2,x / I3,x\",[round(i,5) for i in [tp.I1x, tp.I2x , tp.I3x]]],\n",
    "\n",
    "    # [\"Pitch Moment of Inertia\", \"I1,y / I2,y / I3,y\", [round(i,5) for i in [tp.I1y, tp.I2y , tp.I3y]]],\n",
    "\n",
    "    # [\"Yaw Moment of Inertia\", \"I1,z / I2,z / I3,z\",  [round(i,5) for i in [tp.I1z, tp.I2z , tp.I3z]]],\n",
    "    \n",
    "    #         [\"Stretched wire lengths\", \"l1 / l2 / l3\", [tp.l1 , tp.l2, tp.l3]], \n",
    "    #         [\"Upper end wire vertical attachment distance\", \"dtop / d1/ d3 \" , [round(i,3) for i in [tp.dtop, tp.d1 , tp.d3]]],\n",
    "    #         [\"Bottom end wire vertical attachment distance\", \"d0 / d2 / d4\" , [round(i,3) for i in [tp.d0 , tp.d2, tp.d4]]],\n",
    "            \n",
    "    #         [\"Longitudinal wire separation\" , \"su / si / sl\", [tp.su, tp.si , tp.sl]],\n",
    "    #         [\"Upper transverse wire separation\", \"n0 / n2 / n4 \", [tp.n0, tp.n2 , tp.n4]],\n",
    "    #         [\"Bottom transverse wire separation\", \"n1 / n3 / n5 \", [tp.n1, tp.n3 , tp.n5]],\n",
    "    #         [\"Vertical Spring stiffness\", \"kbuz / kbiz / kblz\", [tp.kbuz, \"NA\", tp.kblz]],\n",
    "    #         [\"Wire Lengths\", \"l1 / l2 / l3\", [tp.l1 , tp.l2 , tp.l3]],\n",
    "    #         [\"Youngs Moduli of the wires\", \"Y1 / Y2 / Y3\", ['%.5E' % Decimal(tp.Y1), '%.5E' % Decimal(tp.Y2), '%.5E' % Decimal(tp.Y3)]]]\n",
    "\n",
    "\n",
    "    # params = pd.DataFrame(data, columns = [\"Description\", \"Parameter\",\"Values\"])\n",
    "    # Setting display options\n",
    "    pd.set_option('display.width', 1000)  # Set width to a large value to prevent wrapping\n",
    "    pd.set_option('display.max_colwidth', None)  # Display full contents of each cell without truncation\n",
    "    return pend, mode_amp\n",
    "\n"
   ]
  },
  {
   "cell_type": "code",
   "execution_count": 178,
   "id": "dc30afbd-ef03-49cf-a94d-d6068e1e56df",
   "metadata": {},
   "outputs": [
    {
     "data": {
      "text/latex": [
       "$$\\frac{-4.343 \\times 10^{-14} s^{59} + 2.515 \\times 10^{-8} s^{58} - 5.963 \\times 10^{-8} s^{57} + 0.1328 s^{56} + 0.5848 s^{55} + 5.98 \\times 10^{5} s^{54} + 1.705 \\times 10^{6} s^{53} + 2.775 \\times 10^{12} s^{52} + 1.341 \\times 10^{12} s^{51} + 7.148 \\times 10^{18} s^{50} + 1.29 \\times 10^{17} s^{49} + 8.74 \\times 10^{24} s^{48} + 3.522 \\times 10^{21} s^{47} + 4.318 \\times 10^{30} s^{46} + 1.293 \\times 10^{25} s^{45} + 3.683 \\times 10^{35} s^{44} - 4.525 \\times 10^{28} s^{43} + 1.058 \\times 10^{40} s^{42} - 3.307 \\times 10^{32} s^{41} + 9.749 \\times 10^{43} s^{40} - 6.844 \\times 10^{35} s^{39} + 4.258 \\times 10^{47} s^{38} - 6.734 \\times 10^{38} s^{37} + 1.027 \\times 10^{51} s^{36} - 3.124 \\times 10^{41} s^{35} + 1.487 \\times 10^{54} s^{34} - 7.151 \\times 10^{42} s^{33} + 1.374 \\times 10^{57} s^{32} + 7.594 \\times 10^{46} s^{31} + 8.523 \\times 10^{59} s^{30} + 4.833 \\times 10^{49} s^{29} + 3.692 \\times 10^{62} s^{28} + 1.686 \\times 10^{52} s^{27} + 1.149 \\times 10^{65} s^{26} + 3.914 \\times 10^{54} s^{25} + 2.617 \\times 10^{67} s^{24} + 6.444 \\times 10^{56} s^{23} + 4.417 \\times 10^{69} s^{22} + 7.74 \\times 10^{58} s^{21} + 5.558 \\times 10^{71} s^{20} + 6.866 \\times 10^{60} s^{19} + 5.219 \\times 10^{73} s^{18} + 4.512 \\times 10^{62} s^{17} + 3.643 \\times 10^{75} s^{16} + 2.186 \\times 10^{64} s^{15} + 1.877 \\times 10^{77} s^{14} + 7.732 \\times 10^{65} s^{13} + 7.054 \\times 10^{78} s^{12} + 1.964 \\times 10^{67} s^{11} + 1.906 \\times 10^{80} s^{10} + 3.501 \\times 10^{68} s^9 + 3.626 \\times 10^{81} s^8 + 4.232 \\times 10^{69} s^7 + 4.703 \\times 10^{82} s^6 + 3.277 \\times 10^{70} s^5 + 3.937 \\times 10^{83} s^4 + 1.457 \\times 10^{71} s^3 + 1.911 \\times 10^{84} s^2 + 2.809 \\times 10^{71} s + 4.073 \\times 10^{84}}{s^{60} + 5.279 \\times 10^{-13} s^{59} + 7.257 \\times 10^{6} s^{58} + 3.747 \\times 10^{-6} s^{57} + 1.975 \\times 10^{13} s^{56} + 9.961 s^{55} + 2.42 \\times 10^{19} s^{54} + 1.191 \\times 10^{7} s^{53} + 1.196 \\times 10^{25} s^{52} + 5.741 \\times 10^{12} s^{51} + 1.025 \\times 10^{30} s^{50} + 4.822 \\times 10^{17} s^{49} + 2.971 \\times 10^{34} s^{48} + 1.414 \\times 10^{22} s^{47} + 2.825 \\times 10^{38} s^{46} + 1.502 \\times 10^{26} s^{45} + 1.295 \\times 10^{42} s^{44} + 7.59 \\times 10^{29} s^{43} + 3.358 \\times 10^{45} s^{42} + 2.059 \\times 10^{33} s^{41} + 5.375 \\times 10^{48} s^{40} + 3.231 \\times 10^{36} s^{39} + 5.663 \\times 10^{51} s^{38} + 3.153 \\times 10^{39} s^{37} + 4.128 \\times 10^{54} s^{36} + 2.031 \\times 10^{42} s^{35} + 2.161 \\times 10^{57} s^{34} + 8.982 \\times 10^{44} s^{33} + 8.355 \\times 10^{59} s^{32} + 2.77 \\times 10^{47} s^{31} + 2.433 \\times 10^{62} s^{30} + 5.873 \\times 10^{49} s^{29} + 5.411 \\times 10^{64} s^{28} + 7.868 \\times 10^{51} s^{27} + 9.276 \\times 10^{66} s^{26} + 4.072 \\times 10^{53} s^{25} + 1.232 \\times 10^{69} s^{24} - 7.624 \\times 10^{55} s^{23} + 1.269 \\times 10^{71} s^{22} - 2.15 \\times 10^{58} s^{21} + 1.014 \\times 10^{73} s^{20} - 2.779 \\times 10^{60} s^{19} + 6.252 \\times 10^{74} s^{18} - 2.313 \\times 10^{62} s^{17} + 2.957 \\times 10^{76} s^{16} - 1.329 \\times 10^{64} s^{15} + 1.064 \\times 10^{78} s^{14} - 5.373 \\times 10^{65} s^{13} + 2.878 \\times 10^{79} s^{12} - 1.526 \\times 10^{67} s^{11} + 5.764 \\times 10^{80} s^{10} - 3.004 \\times 10^{68} s^9 + 8.363 \\times 10^{81} s^8 - 3.99 \\times 10^{69} s^7 + 8.501 \\times 10^{82} s^6 - 3.396 \\times 10^{70} s^5 + 5.718 \\times 10^{83} s^4 - 1.667 \\times 10^{71} s^3 + 2.28 \\times 10^{84} s^2 - 3.579 \\times 10^{71} s + 4.073 \\times 10^{84}}$$"
      ],
      "text/plain": [
       "TransferFunction(array([-4.34338341e-14,  2.51457095e-08, -5.96273317e-08,  1.32812500e-01,\n",
       "        5.84813000e-01,  5.98016000e+05,  1.70546652e+06,  2.77454887e+12,\n",
       "        1.34068797e+12,  7.14805703e+18,  1.28976114e+17,  8.73959234e+24,\n",
       "        3.52165880e+21,  4.31789043e+30,  1.29313748e+25,  3.68343542e+35,\n",
       "       -4.52515207e+28,  1.05752205e+40, -3.30652784e+32,  9.74878502e+43,\n",
       "       -6.84365944e+35,  4.25765219e+47, -6.73421142e+38,  1.02744868e+51,\n",
       "       -3.12368536e+41,  1.48696042e+54, -7.15081367e+42,  1.37370300e+57,\n",
       "        7.59385549e+46,  8.52314579e+59,  4.83295388e+49,  3.69227100e+62,\n",
       "        1.68590551e+52,  1.14870833e+65,  3.91363245e+54,  2.61657973e+67,\n",
       "        6.44368506e+56,  4.41670773e+69,  7.73980396e+58,  5.55795824e+71,\n",
       "        6.86645945e+60,  5.21869363e+73,  4.51188539e+62,  3.64312832e+75,\n",
       "        2.18636275e+64,  1.87664465e+77,  7.73247307e+65,  7.05432447e+78,\n",
       "        1.96407363e+67,  1.90621346e+80,  3.50129039e+68,  3.62602566e+81,\n",
       "        4.23244982e+69,  4.70259629e+82,  3.27729736e+70,  3.93696342e+83,\n",
       "        1.45668973e+71,  1.91079686e+84,  2.80945878e+71,  4.07328692e+84]), array([ 1.00000000e+00,  5.27934380e-13,  7.25700507e+06,  3.74661614e-06,\n",
       "        1.97509679e+13,  9.96085235e+00,  2.42028073e+19,  1.19102164e+07,\n",
       "        1.19645664e+25,  5.74086589e+12,  1.02488232e+30,  4.82183699e+17,\n",
       "        2.97141416e+34,  1.41394514e+22,  2.82450595e+38,  1.50220467e+26,\n",
       "        1.29524422e+42,  7.58994289e+29,  3.35847077e+45,  2.05948646e+33,\n",
       "        5.37513632e+48,  3.23114653e+36,  5.66278692e+51,  3.15255369e+39,\n",
       "        4.12754740e+54,  2.03104874e+42,  2.16105872e+57,  8.98207227e+44,\n",
       "        8.35487853e+59,  2.77033654e+47,  2.43303649e+62,  5.87327687e+49,\n",
       "        5.41146354e+64,  7.86780511e+51,  9.27631951e+66,  4.07223865e+53,\n",
       "        1.23182736e+69, -7.62414974e+55,  1.26937635e+71, -2.14986495e+58,\n",
       "        1.01382884e+73, -2.77909102e+60,  6.25151400e+74, -2.31293490e+62,\n",
       "        2.95734525e+76, -1.32927271e+64,  1.06396126e+78, -5.37275649e+65,\n",
       "        2.87796116e+79, -1.52572869e+67,  5.76403404e+80, -3.00400357e+68,\n",
       "        8.36339826e+81, -3.99034235e+69,  8.50071331e+82, -3.39632115e+70,\n",
       "        5.71800639e+83, -1.66692732e+71,  2.28014555e+84, -3.57944138e+71,\n",
       "        4.07328692e+84]))"
      ]
     },
     "execution_count": 178,
     "metadata": {},
     "output_type": "execute_result"
    }
   ],
   "source": [
    "def trimio_tf(pend, newinputs, newoutputs):\n",
    "\t'''A function to trim a state space object to have only the specified subsets of inputs and output.'''\n",
    "\tA=pend.A\n",
    "\tB=pend.B\n",
    "\tC=pend.C\n",
    "\tD=pend.D\n",
    "\toldinputs=pend.input_index\n",
    "\toldoutputs=pend.output_index\n",
    "\toldstates=pend.state_index\n",
    "\tnewinputlist = []\n",
    "\t# print(len(newoutputs))\n",
    "\t\n",
    "\t\n",
    "\n",
    "\tfor i in range(len(newinputs)):\n",
    "\t\t\tnewinputlist.append(oldinputs.get(newinputs[i],0))\n",
    "\tnewoutputlist = []\n",
    "\tfor i in range(len(newoutputs)):\n",
    "\t\t\tnewoutputlist.append(oldoutputs.get(newoutputs[i],0))\n",
    "\t\t\t# print(oldoutputs.get(newoutputs[i],0))\n",
    "\t\t\t# break\n",
    "\t\n",
    "\tBB=B[range(len(oldstates))][...,newinputlist]\n",
    "\tCC=C[newoutputlist]\n",
    "\t# print(CC)\n",
    "\tDD=D[newoutputlist][...,newinputlist]\n",
    "\t\n",
    "\treturn ct.ss2tf(A,BB,CC,DD)\n",
    "\n",
    "trimio_tf(pend1, [\"x00\"], [\"x3I\"])\n"
   ]
  },
  {
   "cell_type": "markdown",
   "id": "7ce81973",
   "metadata": {},
   "source": [
    "### The stiffness matrix for the floats"
   ]
  },
  {
   "cell_type": "code",
   "execution_count": 19,
   "id": "c2715c9b",
   "metadata": {},
   "outputs": [],
   "source": [
    "qm = tpmodel.qm(tp.g,tp.m1,tp.m2I,tp.m2E,tp.m3I,tp.m3E,tp.I1x,tp.I1y,tp.I1z,tp.I1xy,tp.I1yz,tp.I1zx,tp.I2Ix,tp.I2Iy,tp.I2Iz,tp.I2Ixy,tp.I2Iyz,tp.I2Izx,tp.I2Ex,tp.I2Ey,tp.I2Ez,tp.I2Exy,tp.I2Eyz,tp.I2Ezx,tp.I3Ix,tp.I3Iy,tp.I3Iz,tp.I3Ixy,tp.I3Iyz,tp.I3Izx,tp.I3Ex,tp.I3Ey,tp.I3Ez,tp.I3Exy,tp.I3Eyz,tp.I3Ezx,tp.dtop,tp.d0,tp.d1I,tp.d1E,tp.d2I,tp.d2E,tp.d3I,tp.d3E,tp.d4I,tp.d4E,tp.chainIx,tp.chainEx,tp.n0,tp.n1,tp.n2I,tp.n2E,tp.n3I,tp.n3E,tp.n4I,tp.n4E,tp.n5I,tp.n5E,tp.su,tp.siI,tp.siE,tp.slI,tp.slE,tp.kbuz,tp.kbizI,tp.kbizE,tp.l1,tp.l2I,tp.l2E,tp.l3I,tp.l3E,tp.kw1,tp.kw2I,tp.kw2E,tp.kw3I,tp.kw3E,tp.Y1,tp.Y2I,tp.Y2E,tp.Y3I,tp.Y3E,tp.M11,tp.M21I,tp.M21E,tp.M31I,tp.M31E)"
   ]
  },
  {
   "cell_type": "code",
   "execution_count": 20,
   "id": "4c0a9485",
   "metadata": {},
   "outputs": [
    {
     "data": {
      "text/plain": [
       "(12, 12)"
      ]
     },
     "execution_count": 20,
     "metadata": {},
     "output_type": "execute_result"
    }
   ],
   "source": [
    "qm.shape"
   ]
  },
  {
   "cell_type": "markdown",
   "id": "22edc6bb",
   "metadata": {},
   "source": [
    "### The coupling matrix between floats and params"
   ]
  },
  {
   "cell_type": "code",
   "execution_count": 21,
   "id": "ed7020cb",
   "metadata": {},
   "outputs": [],
   "source": [
    "cqsm = tpmodel.cqsm(tp.g,tp.m1,tp.m2I,tp.m2E,tp.m3I,tp.m3E,tp.I1x,tp.I1y,tp.I1z,tp.I1xy,tp.I1yz,tp.I1zx,tp.I2Ix,tp.I2Iy,tp.I2Iz,tp.I2Ixy,tp.I2Iyz,tp.I2Izx,tp.I2Ex,tp.I2Ey,tp.I2Ez,tp.I2Exy,tp.I2Eyz,tp.I2Ezx,tp.I3Ix,tp.I3Iy,tp.I3Iz,tp.I3Ixy,tp.I3Iyz,tp.I3Izx,tp.I3Ex,tp.I3Ey,tp.I3Ez,tp.I3Exy,tp.I3Eyz,tp.I3Ezx,tp.dtop,tp.d0,tp.d1I,tp.d1E,tp.d2I,tp.d2E,tp.d3I,tp.d3E,tp.d4I,tp.d4E,tp.chainIx,tp.chainEx,tp.n0,tp.n1,tp.n2I,tp.n2E,tp.n3I,tp.n3E,tp.n4I,tp.n4E,tp.n5I,tp.n5E,tp.su,tp.siI,tp.siE,tp.slI,tp.slE,tp.kbuz,tp.kbizI,tp.kbizE,tp.l1,tp.l2I,tp.l2E,tp.l3I,tp.l3E,tp.kw1,tp.kw2I,tp.kw2E,tp.kw3I,tp.kw3E,tp.Y1,tp.Y2I,tp.Y2E,tp.Y3I,tp.Y3E,tp.M11,tp.M21I,tp.M21E,tp.M31I,tp.M31E)"
   ]
  },
  {
   "cell_type": "code",
   "execution_count": 22,
   "id": "110321c7",
   "metadata": {
    "scrolled": true
   },
   "outputs": [
    {
     "data": {
      "text/plain": [
       "(12, 6)"
      ]
     },
     "execution_count": 22,
     "metadata": {},
     "output_type": "execute_result"
    }
   ],
   "source": [
    "cqsm.shape"
   ]
  },
  {
   "cell_type": "markdown",
   "id": "2111ead1",
   "metadata": {},
   "source": [
    "### The coupling matrix between floats and vars"
   ]
  },
  {
   "cell_type": "code",
   "execution_count": 23,
   "id": "b3bfab24",
   "metadata": {},
   "outputs": [],
   "source": [
    "cqxm = tpmodel.cqxm(tp.g,tp.m1,tp.m2I,tp.m2E,tp.m3I,tp.m3E,tp.I1x,tp.I1y,tp.I1z,tp.I1xy,tp.I1yz,tp.I1zx,tp.I2Ix,tp.I2Iy,tp.I2Iz,tp.I2Ixy,tp.I2Iyz,tp.I2Izx,tp.I2Ex,tp.I2Ey,tp.I2Ez,tp.I2Exy,tp.I2Eyz,tp.I2Ezx,tp.I3Ix,tp.I3Iy,tp.I3Iz,tp.I3Ixy,tp.I3Iyz,tp.I3Izx,tp.I3Ex,tp.I3Ey,tp.I3Ez,tp.I3Exy,tp.I3Eyz,tp.I3Ezx,tp.dtop,tp.d0,tp.d1I,tp.d1E,tp.d2I,tp.d2E,tp.d3I,tp.d3E,tp.d4I,tp.d4E,tp.chainIx,tp.chainEx,tp.n0,tp.n1,tp.n2I,tp.n2E,tp.n3I,tp.n3E,tp.n4I,tp.n4E,tp.n5I,tp.n5E,tp.su,tp.siI,tp.siE,tp.slI,tp.slE,tp.kbuz,tp.kbizI,tp.kbizE,tp.l1,tp.l2I,tp.l2E,tp.l3I,tp.l3E,tp.kw1,tp.kw2I,tp.kw2E,tp.kw3I,tp.kw3E,tp.Y1,tp.Y2I,tp.Y2E,tp.Y3I,tp.Y3E,tp.M11,tp.M21I,tp.M21E,tp.M31I,tp.M31E)"
   ]
  },
  {
   "cell_type": "code",
   "execution_count": 24,
   "id": "74b359cb",
   "metadata": {},
   "outputs": [
    {
     "data": {
      "text/plain": [
       "(12, 30)"
      ]
     },
     "execution_count": 24,
     "metadata": {},
     "output_type": "execute_result"
    }
   ],
   "source": [
    "cqxm.shape"
   ]
  },
  {
   "cell_type": "markdown",
   "id": "0b6a2302",
   "metadata": {},
   "source": [
    "### The stiffness matrix for the params (raw, then effective)"
   ]
  },
  {
   "cell_type": "code",
   "execution_count": 25,
   "id": "5a37b0dd",
   "metadata": {},
   "outputs": [],
   "source": [
    "sm = tpmodel.sm(tp.g,tp.m1,tp.m2I,tp.m2E,tp.m3I,tp.m3E,tp.I1x,tp.I1y,tp.I1z,tp.I1xy,tp.I1yz,tp.I1zx,tp.I2Ix,tp.I2Iy,tp.I2Iz,tp.I2Ixy,tp.I2Iyz,tp.I2Izx,tp.I2Ex,tp.I2Ey,tp.I2Ez,tp.I2Exy,tp.I2Eyz,tp.I2Ezx,tp.I3Ix,tp.I3Iy,tp.I3Iz,tp.I3Ixy,tp.I3Iyz,tp.I3Izx,tp.I3Ex,tp.I3Ey,tp.I3Ez,tp.I3Exy,tp.I3Eyz,tp.I3Ezx,tp.dtop,tp.d0,tp.d1I,tp.d1E,tp.d2I,tp.d2E,tp.d3I,tp.d3E,tp.d4I,tp.d4E,tp.chainIx,tp.chainEx,tp.n0,tp.n1,tp.n2I,tp.n2E,tp.n3I,tp.n3E,tp.n4I,tp.n4E,tp.n5I,tp.n5E,tp.su,tp.siI,tp.siE,tp.slI,tp.slE,tp.kbuz,tp.kbizI,tp.kbizE,tp.l1,tp.l2I,tp.l2E,tp.l3I,tp.l3E,tp.kw1,tp.kw2I,tp.kw2E,tp.kw3I,tp.kw3E,tp.Y1,tp.Y2I,tp.Y2E,tp.Y3I,tp.Y3E,tp.M11,tp.M21I,tp.M21E,tp.M31I,tp.M31E)"
   ]
  },
  {
   "cell_type": "code",
   "execution_count": 26,
   "id": "5c187c21",
   "metadata": {},
   "outputs": [
    {
     "data": {
      "text/plain": [
       "(6, 6)"
      ]
     },
     "execution_count": 26,
     "metadata": {},
     "output_type": "execute_result"
    }
   ],
   "source": [
    "sm.shape"
   ]
  },
  {
   "cell_type": "code",
   "execution_count": 27,
   "id": "582b6a56",
   "metadata": {
    "scrolled": true
   },
   "outputs": [],
   "source": [
    "smeff = tpmodel.smeff(tp.g,tp.m1,tp.m2I,tp.m2E,tp.m3I,tp.m3E,tp.I1x,tp.I1y,tp.I1z,tp.I1xy,tp.I1yz,tp.I1zx,tp.I2Ix,tp.I2Iy,tp.I2Iz,tp.I2Ixy,tp.I2Iyz,tp.I2Izx,tp.I2Ex,tp.I2Ey,tp.I2Ez,tp.I2Exy,tp.I2Eyz,tp.I2Ezx,tp.I3Ix,tp.I3Iy,tp.I3Iz,tp.I3Ixy,tp.I3Iyz,tp.I3Izx,tp.I3Ex,tp.I3Ey,tp.I3Ez,tp.I3Exy,tp.I3Eyz,tp.I3Ezx,tp.dtop,tp.d0,tp.d1I,tp.d1E,tp.d2I,tp.d2E,tp.d3I,tp.d3E,tp.d4I,tp.d4E,tp.chainIx,tp.chainEx,tp.n0,tp.n1,tp.n2I,tp.n2E,tp.n3I,tp.n3E,tp.n4I,tp.n4E,tp.n5I,tp.n5E,tp.su,tp.siI,tp.siE,tp.slI,tp.slE,tp.kbuz,tp.kbizI,tp.kbizE,tp.l1,tp.l2I,tp.l2E,tp.l3I,tp.l3E,tp.kw1,tp.kw2I,tp.kw2E,tp.kw3I,tp.kw3E,tp.Y1,tp.Y2I,tp.Y2E,tp.Y3I,tp.Y3E,tp.M11,tp.M21I,tp.M21E,tp.M31I,tp.M31E)"
   ]
  },
  {
   "cell_type": "code",
   "execution_count": 28,
   "id": "7454f9e1",
   "metadata": {},
   "outputs": [
    {
     "data": {
      "text/plain": [
       "(6, 6)"
      ]
     },
     "execution_count": 28,
     "metadata": {},
     "output_type": "execute_result"
    }
   ],
   "source": [
    "smeff.shape"
   ]
  },
  {
   "cell_type": "markdown",
   "id": "4adcdd3f",
   "metadata": {},
   "source": [
    "### The coupling matrix between vars and params (raw then effective)"
   ]
  },
  {
   "cell_type": "code",
   "execution_count": 29,
   "id": "dcba9462",
   "metadata": {},
   "outputs": [],
   "source": [
    "cxsm = tpmodel.cxsm(tp.g,tp.m1,tp.m2I,tp.m2E,tp.m3I,tp.m3E,tp.I1x,tp.I1y,tp.I1z,tp.I1xy,tp.I1yz,tp.I1zx,tp.I2Ix,tp.I2Iy,tp.I2Iz,tp.I2Ixy,tp.I2Iyz,tp.I2Izx,tp.I2Ex,tp.I2Ey,tp.I2Ez,tp.I2Exy,tp.I2Eyz,tp.I2Ezx,tp.I3Ix,tp.I3Iy,tp.I3Iz,tp.I3Ixy,tp.I3Iyz,tp.I3Izx,tp.I3Ex,tp.I3Ey,tp.I3Ez,tp.I3Exy,tp.I3Eyz,tp.I3Ezx,tp.dtop,tp.d0,tp.d1I,tp.d1E,tp.d2I,tp.d2E,tp.d3I,tp.d3E,tp.d4I,tp.d4E,tp.chainIx,tp.chainEx,tp.n0,tp.n1,tp.n2I,tp.n2E,tp.n3I,tp.n3E,tp.n4I,tp.n4E,tp.n5I,tp.n5E,tp.su,tp.siI,tp.siE,tp.slI,tp.slE,tp.kbuz,tp.kbizI,tp.kbizE,tp.l1,tp.l2I,tp.l2E,tp.l3I,tp.l3E,tp.kw1,tp.kw2I,tp.kw2E,tp.kw3I,tp.kw3E,tp.Y1,tp.Y2I,tp.Y2E,tp.Y3I,tp.Y3E,tp.M11,tp.M21I,tp.M21E,tp.M31I,tp.M31E)"
   ]
  },
  {
   "cell_type": "code",
   "execution_count": 30,
   "id": "ec222b22",
   "metadata": {},
   "outputs": [
    {
     "data": {
      "text/plain": [
       "(30, 6)"
      ]
     },
     "execution_count": 30,
     "metadata": {},
     "output_type": "execute_result"
    }
   ],
   "source": [
    "cxsm.shape"
   ]
  },
  {
   "cell_type": "code",
   "execution_count": 31,
   "id": "0fc0bbea",
   "metadata": {},
   "outputs": [],
   "source": [
    "cxsmeff = tpmodel.cxsmeff(tp.g,tp.m1,tp.m2I,tp.m2E,tp.m3I,tp.m3E,tp.I1x,tp.I1y,tp.I1z,tp.I1xy,tp.I1yz,tp.I1zx,tp.I2Ix,tp.I2Iy,tp.I2Iz,tp.I2Ixy,tp.I2Iyz,tp.I2Izx,tp.I2Ex,tp.I2Ey,tp.I2Ez,tp.I2Exy,tp.I2Eyz,tp.I2Ezx,tp.I3Ix,tp.I3Iy,tp.I3Iz,tp.I3Ixy,tp.I3Iyz,tp.I3Izx,tp.I3Ex,tp.I3Ey,tp.I3Ez,tp.I3Exy,tp.I3Eyz,tp.I3Ezx,tp.dtop,tp.d0,tp.d1I,tp.d1E,tp.d2I,tp.d2E,tp.d3I,tp.d3E,tp.d4I,tp.d4E,tp.chainIx,tp.chainEx,tp.n0,tp.n1,tp.n2I,tp.n2E,tp.n3I,tp.n3E,tp.n4I,tp.n4E,tp.n5I,tp.n5E,tp.su,tp.siI,tp.siE,tp.slI,tp.slE,tp.kbuz,tp.kbizI,tp.kbizE,tp.l1,tp.l2I,tp.l2E,tp.l3I,tp.l3E,tp.kw1,tp.kw2I,tp.kw2E,tp.kw3I,tp.kw3E,tp.Y1,tp.Y2I,tp.Y2E,tp.Y3I,tp.Y3E,tp.M11,tp.M21I,tp.M21E,tp.M31I,tp.M31E)"
   ]
  },
  {
   "cell_type": "code",
   "execution_count": 32,
   "id": "00bf0a9b",
   "metadata": {},
   "outputs": [
    {
     "data": {
      "text/plain": [
       "(30, 6)"
      ]
     },
     "execution_count": 32,
     "metadata": {},
     "output_type": "execute_result"
    }
   ],
   "source": [
    "cxsmeff.shape"
   ]
  },
  {
   "cell_type": "markdown",
   "id": "0ea4d177",
   "metadata": {},
   "source": [
    "### The stiffness matrix for vars (raw, then effective)"
   ]
  },
  {
   "cell_type": "code",
   "execution_count": 33,
   "id": "e30589b5",
   "metadata": {},
   "outputs": [],
   "source": [
    "xm = tpmodel.xm(tp.g,tp.m1,tp.m2I,tp.m2E,tp.m3I,tp.m3E,tp.I1x,tp.I1y,tp.I1z,tp.I1xy,tp.I1yz,tp.I1zx,tp.I2Ix,tp.I2Iy,tp.I2Iz,tp.I2Ixy,tp.I2Iyz,tp.I2Izx,tp.I2Ex,tp.I2Ey,tp.I2Ez,tp.I2Exy,tp.I2Eyz,tp.I2Ezx,tp.I3Ix,tp.I3Iy,tp.I3Iz,tp.I3Ixy,tp.I3Iyz,tp.I3Izx,tp.I3Ex,tp.I3Ey,tp.I3Ez,tp.I3Exy,tp.I3Eyz,tp.I3Ezx,tp.dtop,tp.d0,tp.d1I,tp.d1E,tp.d2I,tp.d2E,tp.d3I,tp.d3E,tp.d4I,tp.d4E,tp.chainIx,tp.chainEx,tp.n0,tp.n1,tp.n2I,tp.n2E,tp.n3I,tp.n3E,tp.n4I,tp.n4E,tp.n5I,tp.n5E,tp.su,tp.siI,tp.siE,tp.slI,tp.slE,tp.kbuz,tp.kbizI,tp.kbizE,tp.l1,tp.l2I,tp.l2E,tp.l3I,tp.l3E,tp.kw1,tp.kw2I,tp.kw2E,tp.kw3I,tp.kw3E,tp.Y1,tp.Y2I,tp.Y2E,tp.Y3I,tp.Y3E,tp.M11,tp.M21I,tp.M21E,tp.M31I,tp.M31E)"
   ]
  },
  {
   "cell_type": "code",
   "execution_count": 34,
   "id": "464e5106",
   "metadata": {},
   "outputs": [
    {
     "data": {
      "text/plain": [
       "(30, 30)"
      ]
     },
     "execution_count": 34,
     "metadata": {},
     "output_type": "execute_result"
    }
   ],
   "source": [
    "xm.shape"
   ]
  },
  {
   "cell_type": "code",
   "execution_count": 35,
   "id": "ac20fb3d",
   "metadata": {},
   "outputs": [],
   "source": [
    "xmeff=tpmodel.xmeff(tp.g,tp.m1,tp.m2I,tp.m2E,tp.m3I,tp.m3E,tp.I1x,tp.I1y,tp.I1z,tp.I1xy,tp.I1yz,tp.I1zx,tp.I2Ix,tp.I2Iy,tp.I2Iz,tp.I2Ixy,tp.I2Iyz,tp.I2Izx,tp.I2Ex,tp.I2Ey,tp.I2Ez,tp.I2Exy,tp.I2Eyz,tp.I2Ezx,tp.I3Ix,tp.I3Iy,tp.I3Iz,tp.I3Ixy,tp.I3Iyz,tp.I3Izx,tp.I3Ex,tp.I3Ey,tp.I3Ez,tp.I3Exy,tp.I3Eyz,tp.I3Ezx,tp.dtop,tp.d0,tp.d1I,tp.d1E,tp.d2I,tp.d2E,tp.d3I,tp.d3E,tp.d4I,tp.d4E,tp.chainIx,tp.chainEx,tp.n0,tp.n1,tp.n2I,tp.n2E,tp.n3I,tp.n3E,tp.n4I,tp.n4E,tp.n5I,tp.n5E,tp.su,tp.siI,tp.siE,tp.slI,tp.slE,tp.kbuz,tp.kbizI,tp.kbizE,tp.l1,tp.l2I,tp.l2E,tp.l3I,tp.l3E,tp.kw1,tp.kw2I,tp.kw2E,tp.kw3I,tp.kw3E,tp.Y1,tp.Y2I,tp.Y2E,tp.Y3I,tp.Y3E,tp.M11,tp.M21I,tp.M21E,tp.M31I,tp.M31E)"
   ]
  },
  {
   "cell_type": "code",
   "execution_count": 36,
   "id": "f6331df9",
   "metadata": {},
   "outputs": [
    {
     "data": {
      "text/plain": [
       "(30, 30)"
      ]
     },
     "execution_count": 36,
     "metadata": {},
     "output_type": "execute_result"
    }
   ],
   "source": [
    "xmeff.shape"
   ]
  },
  {
   "cell_type": "markdown",
   "id": "f3905372",
   "metadata": {},
   "source": [
    "### The mass matrix"
   ]
  },
  {
   "cell_type": "code",
   "execution_count": 37,
   "id": "e0d07480",
   "metadata": {},
   "outputs": [],
   "source": [
    "km = tpmodel.km(tp.g,tp.m1,tp.m2I,tp.m2E,tp.m3I,tp.m3E,tp.I1x,tp.I1y,tp.I1z,tp.I1xy,tp.I1yz,tp.I1zx,tp.I2Ix,tp.I2Iy,tp.I2Iz,tp.I2Ixy,tp.I2Iyz,tp.I2Izx,tp.I2Ex,tp.I2Ey,tp.I2Ez,tp.I2Exy,tp.I2Eyz,tp.I2Ezx,tp.I3Ix,tp.I3Iy,tp.I3Iz,tp.I3Ixy,tp.I3Iyz,tp.I3Izx,tp.I3Ex,tp.I3Ey,tp.I3Ez,tp.I3Exy,tp.I3Eyz,tp.I3Ezx,tp.dtop,tp.d0,tp.d1I,tp.d1E,tp.d2I,tp.d2E,tp.d3I,tp.d3E,tp.d4I,tp.d4E,tp.chainIx,tp.chainEx,tp.n0,tp.n1,tp.n2I,tp.n2E,tp.n3I,tp.n3E,tp.n4I,tp.n4E,tp.n5I,tp.n5E,tp.su,tp.siI,tp.siE,tp.slI,tp.slE,tp.kbuz,tp.kbizI,tp.kbizE,tp.l1,tp.l2I,tp.l2E,tp.l3I,tp.l3E,tp.kw1,tp.kw2I,tp.kw2E,tp.kw3I,tp.kw3E,tp.Y1,tp.Y2I,tp.Y2E,tp.Y3I,tp.Y3E,tp.M11,tp.M21I,tp.M21E,tp.M31I,tp.M31E)"
   ]
  },
  {
   "cell_type": "code",
   "execution_count": 38,
   "id": "9a787a80",
   "metadata": {},
   "outputs": [
    {
     "data": {
      "text/plain": [
       "(30, 30)"
      ]
     },
     "execution_count": 38,
     "metadata": {},
     "output_type": "execute_result"
    }
   ],
   "source": [
    "km.shape"
   ]
  },
  {
   "cell_type": "markdown",
   "id": "2d6f2410",
   "metadata": {},
   "source": [
    "# Generate state space"
   ]
  },
  {
   "cell_type": "markdown",
   "id": "48098f60",
   "metadata": {},
   "source": [
    "## Generate full A, B, C, D matrices"
   ]
  },
  {
   "cell_type": "code",
   "execution_count": 39,
   "id": "94601bee",
   "metadata": {},
   "outputs": [],
   "source": [
    "A = tpmodel.A(tp.g,tp.m1,tp.m2I,tp.m2E,tp.m3I,tp.m3E,tp.I1x,tp.I1y,tp.I1z,tp.I1xy,tp.I1yz,tp.I1zx,tp.I2Ix,tp.I2Iy,tp.I2Iz,tp.I2Ixy,tp.I2Iyz,tp.I2Izx,tp.I2Ex,tp.I2Ey,tp.I2Ez,tp.I2Exy,tp.I2Eyz,tp.I2Ezx,tp.I3Ix,tp.I3Iy,tp.I3Iz,tp.I3Ixy,tp.I3Iyz,tp.I3Izx,tp.I3Ex,tp.I3Ey,tp.I3Ez,tp.I3Exy,tp.I3Eyz,tp.I3Ezx,tp.dtop,tp.d0,tp.d1I,tp.d1E,tp.d2I,tp.d2E,tp.d3I,tp.d3E,tp.d4I,tp.d4E,tp.chainIx,tp.chainEx,tp.n0,tp.n1,tp.n2I,tp.n2E,tp.n3I,tp.n3E,tp.n4I,tp.n4E,tp.n5I,tp.n5E,tp.su,tp.siI,tp.siE,tp.slI,tp.slE,tp.kbuz,tp.kbizI,tp.kbizE,tp.l1,tp.l2I,tp.l2E,tp.l3I,tp.l3E,tp.kw1,tp.kw2I,tp.kw2E,tp.kw3I,tp.kw3E,tp.Y1,tp.Y2I,tp.Y2E,tp.Y3I,tp.Y3E,tp.M11,tp.M21I,tp.M21E,tp.M31I,tp.M31E)"
   ]
  },
  {
   "cell_type": "code",
   "execution_count": 40,
   "id": "b64e59cb",
   "metadata": {},
   "outputs": [
    {
     "data": {
      "text/plain": [
       "(60, 60)"
      ]
     },
     "execution_count": 40,
     "metadata": {},
     "output_type": "execute_result"
    }
   ],
   "source": [
    "A.shape"
   ]
  },
  {
   "cell_type": "code",
   "execution_count": 41,
   "id": "32eb6cd1",
   "metadata": {},
   "outputs": [],
   "source": [
    "B = tpmodel.B(tp.g,tp.m1,tp.m2I,tp.m2E,tp.m3I,tp.m3E,tp.I1x,tp.I1y,tp.I1z,tp.I1xy,tp.I1yz,tp.I1zx,tp.I2Ix,tp.I2Iy,tp.I2Iz,tp.I2Ixy,tp.I2Iyz,tp.I2Izx,tp.I2Ex,tp.I2Ey,tp.I2Ez,tp.I2Exy,tp.I2Eyz,tp.I2Ezx,tp.I3Ix,tp.I3Iy,tp.I3Iz,tp.I3Ixy,tp.I3Iyz,tp.I3Izx,tp.I3Ex,tp.I3Ey,tp.I3Ez,tp.I3Exy,tp.I3Eyz,tp.I3Ezx,tp.dtop,tp.d0,tp.d1I,tp.d1E,tp.d2I,tp.d2E,tp.d3I,tp.d3E,tp.d4I,tp.d4E,tp.chainIx,tp.chainEx,tp.n0,tp.n1,tp.n2I,tp.n2E,tp.n3I,tp.n3E,tp.n4I,tp.n4E,tp.n5I,tp.n5E,tp.su,tp.siI,tp.siE,tp.slI,tp.slE,tp.kbuz,tp.kbizI,tp.kbizE,tp.l1,tp.l2I,tp.l2E,tp.l3I,tp.l3E,tp.kw1,tp.kw2I,tp.kw2E,tp.kw3I,tp.kw3E,tp.Y1,tp.Y2I,tp.Y2E,tp.Y3I,tp.Y3E,tp.M11,tp.M21I,tp.M21E,tp.M31I,tp.M31E)"
   ]
  },
  {
   "cell_type": "code",
   "execution_count": 42,
   "id": "fe7d598d",
   "metadata": {},
   "outputs": [
    {
     "data": {
      "text/plain": [
       "(60, 36)"
      ]
     },
     "execution_count": 42,
     "metadata": {},
     "output_type": "execute_result"
    }
   ],
   "source": [
    "B.shape"
   ]
  },
  {
   "cell_type": "code",
   "execution_count": 43,
   "id": "0a809d91",
   "metadata": {},
   "outputs": [],
   "source": [
    "C = tpmodel.C(tp.g,tp.m1,tp.m2I,tp.m2E,tp.m3I,tp.m3E,tp.I1x,tp.I1y,tp.I1z,tp.I1xy,tp.I1yz,tp.I1zx,tp.I2Ix,tp.I2Iy,tp.I2Iz,tp.I2Ixy,tp.I2Iyz,tp.I2Izx,tp.I2Ex,tp.I2Ey,tp.I2Ez,tp.I2Exy,tp.I2Eyz,tp.I2Ezx,tp.I3Ix,tp.I3Iy,tp.I3Iz,tp.I3Ixy,tp.I3Iyz,tp.I3Izx,tp.I3Ex,tp.I3Ey,tp.I3Ez,tp.I3Exy,tp.I3Eyz,tp.I3Ezx,tp.dtop,tp.d0,tp.d1I,tp.d1E,tp.d2I,tp.d2E,tp.d3I,tp.d3E,tp.d4I,tp.d4E,tp.chainIx,tp.chainEx,tp.n0,tp.n1,tp.n2I,tp.n2E,tp.n3I,tp.n3E,tp.n4I,tp.n4E,tp.n5I,tp.n5E,tp.su,tp.siI,tp.siE,tp.slI,tp.slE,tp.kbuz,tp.kbizI,tp.kbizE,tp.l1,tp.l2I,tp.l2E,tp.l3I,tp.l3E,tp.kw1,tp.kw2I,tp.kw2E,tp.kw3I,tp.kw3E,tp.Y1,tp.Y2I,tp.Y2E,tp.Y3I,tp.Y3E,tp.M11,tp.M21I,tp.M21E,tp.M31I,tp.M31E)"
   ]
  },
  {
   "cell_type": "code",
   "execution_count": 44,
   "id": "032afbb8",
   "metadata": {},
   "outputs": [
    {
     "data": {
      "text/plain": [
       "(36, 60)"
      ]
     },
     "execution_count": 44,
     "metadata": {},
     "output_type": "execute_result"
    }
   ],
   "source": [
    "C.shape"
   ]
  },
  {
   "cell_type": "code",
   "execution_count": 45,
   "id": "e8aa54e2",
   "metadata": {},
   "outputs": [],
   "source": [
    "D = tpmodel.D(tp.g,tp.m1,tp.m2I,tp.m2E,tp.m3I,tp.m3E,tp.I1x,tp.I1y,tp.I1z,tp.I1xy,tp.I1yz,tp.I1zx,tp.I2Ix,tp.I2Iy,tp.I2Iz,tp.I2Ixy,tp.I2Iyz,tp.I2Izx,tp.I2Ex,tp.I2Ey,tp.I2Ez,tp.I2Exy,tp.I2Eyz,tp.I2Ezx,tp.I3Ix,tp.I3Iy,tp.I3Iz,tp.I3Ixy,tp.I3Iyz,tp.I3Izx,tp.I3Ex,tp.I3Ey,tp.I3Ez,tp.I3Exy,tp.I3Eyz,tp.I3Ezx,tp.dtop,tp.d0,tp.d1I,tp.d1E,tp.d2I,tp.d2E,tp.d3I,tp.d3E,tp.d4I,tp.d4E,tp.chainIx,tp.chainEx,tp.n0,tp.n1,tp.n2I,tp.n2E,tp.n3I,tp.n3E,tp.n4I,tp.n4E,tp.n5I,tp.n5E,tp.su,tp.siI,tp.siE,tp.slI,tp.slE,tp.kbuz,tp.kbizI,tp.kbizE,tp.l1,tp.l2I,tp.l2E,tp.l3I,tp.l3E,tp.kw1,tp.kw2I,tp.kw2E,tp.kw3I,tp.kw3E,tp.Y1,tp.Y2I,tp.Y2E,tp.Y3I,tp.Y3E,tp.M11,tp.M21I,tp.M21E,tp.M31I,tp.M31E)"
   ]
  },
  {
   "cell_type": "code",
   "execution_count": 46,
   "id": "722b6d88",
   "metadata": {},
   "outputs": [
    {
     "data": {
      "text/plain": [
       "(36, 36)"
      ]
     },
     "execution_count": 46,
     "metadata": {},
     "output_type": "execute_result"
    }
   ],
   "source": [
    "D.shape"
   ]
  },
  {
   "cell_type": "markdown",
   "id": "0875569a",
   "metadata": {},
   "source": [
    "# Modes for the default case "
   ]
  },
  {
   "cell_type": "markdown",
   "id": "f71ae012",
   "metadata": {},
   "source": [
    "## What are the default parameters?"
   ]
  },
  {
   "cell_type": "code",
   "execution_count": 132,
   "id": "3294c3bc",
   "metadata": {},
   "outputs": [
    {
     "data": {
      "text/html": [
       "<div>\n",
       "<style scoped>\n",
       "    .dataframe tbody tr th:only-of-type {\n",
       "        vertical-align: middle;\n",
       "    }\n",
       "\n",
       "    .dataframe tbody tr th {\n",
       "        vertical-align: top;\n",
       "    }\n",
       "\n",
       "    .dataframe thead th {\n",
       "        text-align: right;\n",
       "    }\n",
       "</style>\n",
       "<table border=\"1\" class=\"dataframe\">\n",
       "  <thead>\n",
       "    <tr style=\"text-align: right;\">\n",
       "      <th></th>\n",
       "      <th>Freq</th>\n",
       "      <th>DOF</th>\n",
       "      <th>Amps</th>\n",
       "      <th>Mode_vis</th>\n",
       "    </tr>\n",
       "  </thead>\n",
       "  <tbody>\n",
       "    <tr>\n",
       "      <th>0</th>\n",
       "      <td>229.787426</td>\n",
       "      <td>[roll2I, roll2E, roll3I, roll3E]</td>\n",
       "      <td>[0.5, 0.5, -0.5, -0.5]</td>\n",
       "      <td>[None, None]</td>\n",
       "    </tr>\n",
       "    <tr>\n",
       "      <th>1</th>\n",
       "      <td>229.787398</td>\n",
       "      <td>[roll2I, roll2E, roll3I, roll3E]</td>\n",
       "      <td>[0.5, -0.5, -0.5, 0.5]</td>\n",
       "      <td>[None, None]</td>\n",
       "    </tr>\n",
       "    <tr>\n",
       "      <th>2</th>\n",
       "      <td>194.577901</td>\n",
       "      <td>[z2I, z2E, z3I, z3E, pitch1]</td>\n",
       "      <td>[0.5, -0.5, -0.5, 0.5, -0.03]</td>\n",
       "      <td>[None, None]</td>\n",
       "    </tr>\n",
       "    <tr>\n",
       "      <th>3</th>\n",
       "      <td>194.577860</td>\n",
       "      <td>[z2I, z2E, z3I, z3E]</td>\n",
       "      <td>[0.5, 0.5, -0.5, -0.5]</td>\n",
       "      <td>[None, None]</td>\n",
       "    </tr>\n",
       "    <tr>\n",
       "      <th>4</th>\n",
       "      <td>33.055551</td>\n",
       "      <td>[pitch2I, pitch2E, pitch3I, pitch3E]</td>\n",
       "      <td>[-0.5, -0.5, 0.5, 0.5]</td>\n",
       "      <td>[None, None]</td>\n",
       "    </tr>\n",
       "    <tr>\n",
       "      <th>5</th>\n",
       "      <td>33.055547</td>\n",
       "      <td>[pitch2I, pitch2E, pitch3I, pitch3E]</td>\n",
       "      <td>[0.5, -0.5, -0.5, 0.5]</td>\n",
       "      <td>[None, None]</td>\n",
       "    </tr>\n",
       "    <tr>\n",
       "      <th>6</th>\n",
       "      <td>13.599913</td>\n",
       "      <td>[pitch1]</td>\n",
       "      <td>[1.0]</td>\n",
       "      <td>[None, None]</td>\n",
       "    </tr>\n",
       "    <tr>\n",
       "      <th>7</th>\n",
       "      <td>10.730440</td>\n",
       "      <td>[roll1, roll2I, roll2E, roll3I, roll3E]</td>\n",
       "      <td>[-0.97, 0.12, 0.12, 0.12, 0.12]</td>\n",
       "      <td>[-8.08, -8.08]</td>\n",
       "    </tr>\n",
       "    <tr>\n",
       "      <th>8</th>\n",
       "      <td>7.932735</td>\n",
       "      <td>[z1, z2I, z2E, z3I, z3E]</td>\n",
       "      <td>[0.95, -0.16, -0.16, -0.16, -0.16]</td>\n",
       "      <td>[-5.94, -5.94]</td>\n",
       "    </tr>\n",
       "    <tr>\n",
       "      <th>9</th>\n",
       "      <td>6.366145</td>\n",
       "      <td>[yaw1, yaw2I, yaw2E]</td>\n",
       "      <td>[-0.99, 0.09, 0.09]</td>\n",
       "      <td>[None, None]</td>\n",
       "    </tr>\n",
       "    <tr>\n",
       "      <th>10</th>\n",
       "      <td>3.686530</td>\n",
       "      <td>[roll2I, roll2E, roll3I, roll3E, yaw1]</td>\n",
       "      <td>[0.5, -0.5, 0.5, -0.5, 0.01]</td>\n",
       "      <td>[None, None]</td>\n",
       "    </tr>\n",
       "    <tr>\n",
       "      <th>11</th>\n",
       "      <td>3.025633</td>\n",
       "      <td>[roll2I, roll2E, roll3I, roll3E, roll1, y1, y2I, y2E]</td>\n",
       "      <td>[0.49, 0.49, 0.49, 0.49, 0.18, 0.05, -0.01, -0.01]</td>\n",
       "      <td>[0.37, 0.37]</td>\n",
       "    </tr>\n",
       "    <tr>\n",
       "      <th>12</th>\n",
       "      <td>2.811512</td>\n",
       "      <td>[x1, pitch3I, pitch3E, pitch2I, pitch2E, x2I, x2E, x3I, x3E]</td>\n",
       "      <td>[-0.74, 0.3, 0.3, 0.29, 0.29, 0.23, 0.23, -0.03, -0.03]</td>\n",
       "      <td>[24.67, 24.67]</td>\n",
       "    </tr>\n",
       "    <tr>\n",
       "      <th>13</th>\n",
       "      <td>2.481187</td>\n",
       "      <td>[roll2I, roll2E, roll3I, roll3E, roll1, y1, y2I, y2E]</td>\n",
       "      <td>[0.48, 0.48, 0.48, 0.48, 0.28, -0.02, 0.01, 0.01]</td>\n",
       "      <td>[0.58, 0.58]</td>\n",
       "    </tr>\n",
       "    <tr>\n",
       "      <th>14</th>\n",
       "      <td>2.338654</td>\n",
       "      <td>[yaw2I, yaw2E, yaw3I, yaw3E]</td>\n",
       "      <td>[-0.65, 0.65, 0.27, -0.27]</td>\n",
       "      <td>[None, None]</td>\n",
       "    </tr>\n",
       "    <tr>\n",
       "      <th>15</th>\n",
       "      <td>2.263119</td>\n",
       "      <td>[yaw2I, yaw2E, yaw3I, yaw3E, yaw1]</td>\n",
       "      <td>[-0.64, -0.64, 0.29, 0.29, -0.08]</td>\n",
       "      <td>[-0.28, -0.28]</td>\n",
       "    </tr>\n",
       "    <tr>\n",
       "      <th>16</th>\n",
       "      <td>1.973475</td>\n",
       "      <td>[pitch1, pitch2I, pitch2E, pitch3I, pitch3E, z2I, z2E, z3I, z3E]</td>\n",
       "      <td>[-0.96, 0.12, 0.12, 0.12, 0.12, -0.08, 0.08, -0.08, 0.08]</td>\n",
       "      <td>[-8.0, -8.0]</td>\n",
       "    </tr>\n",
       "    <tr>\n",
       "      <th>17</th>\n",
       "      <td>1.887334</td>\n",
       "      <td>[z2I, z2E, z3I, z3E, z1]</td>\n",
       "      <td>[-0.48, -0.48, -0.48, -0.48, -0.29]</td>\n",
       "      <td>[0.6, 0.6]</td>\n",
       "    </tr>\n",
       "    <tr>\n",
       "      <th>18</th>\n",
       "      <td>1.688303</td>\n",
       "      <td>[x2I, x2E, pitch2I, pitch2E, pitch3I, pitch3E, x3I, x3E]</td>\n",
       "      <td>[-0.41, 0.41, 0.39, -0.39, 0.39, -0.39, 0.17, -0.17]</td>\n",
       "      <td>[None, None]</td>\n",
       "    </tr>\n",
       "    <tr>\n",
       "      <th>19</th>\n",
       "      <td>1.591643</td>\n",
       "      <td>[yaw3I, yaw3E, yaw1, yaw2I, yaw2E, y2I, y2E, y3I, y3E, roll2I, roll2E, roll3I, roll3E]</td>\n",
       "      <td>[-0.53, -0.53, 0.48, 0.31, 0.31, -0.11, 0.11, 0.05, -0.05, 0.01, -0.01, 0.01, -0.01]</td>\n",
       "      <td>[-0.91, -0.91]</td>\n",
       "    </tr>\n",
       "    <tr>\n",
       "      <th>20</th>\n",
       "      <td>1.442143</td>\n",
       "      <td>[pitch2I, pitch2E, pitch3I, pitch3E, x2I, x2E, x1, x3I, x3E, pitch1]</td>\n",
       "      <td>[-0.5, -0.5, -0.5, -0.5, 0.05, 0.05, 0.03, -0.03, -0.03, -0.01]</td>\n",
       "      <td>[0.02, 0.02]</td>\n",
       "    </tr>\n",
       "    <tr>\n",
       "      <th>21</th>\n",
       "      <td>1.433405</td>\n",
       "      <td>[roll2I, roll2E, roll3I, roll3E, roll1, y2I, y2E, y3I, y3E, y1]</td>\n",
       "      <td>[0.44, 0.44, 0.44, 0.44, 0.38, -0.16, -0.16, 0.11, 0.11, -0.1]</td>\n",
       "      <td>[0.86, 0.86]</td>\n",
       "    </tr>\n",
       "    <tr>\n",
       "      <th>22</th>\n",
       "      <td>1.331994</td>\n",
       "      <td>[pitch2I, pitch2E, pitch3I, pitch3E]</td>\n",
       "      <td>[0.5, -0.5, 0.5, -0.5]</td>\n",
       "      <td>[None, None]</td>\n",
       "    </tr>\n",
       "    <tr>\n",
       "      <th>23</th>\n",
       "      <td>1.315396</td>\n",
       "      <td>[pitch2I, pitch2E, pitch3I, pitch3E, pitch1, x2I, x2E]</td>\n",
       "      <td>[0.5, 0.5, 0.5, 0.5, 0.01, 0.01, 0.01]</td>\n",
       "      <td>[0.02, 0.02]</td>\n",
       "    </tr>\n",
       "    <tr>\n",
       "      <th>24</th>\n",
       "      <td>0.968702</td>\n",
       "      <td>[yaw3I, yaw3E, yaw2I, yaw2E]</td>\n",
       "      <td>[0.65, -0.65, 0.27, -0.27]</td>\n",
       "      <td>[None, None]</td>\n",
       "    </tr>\n",
       "    <tr>\n",
       "      <th>25</th>\n",
       "      <td>0.932666</td>\n",
       "      <td>[yaw3I, yaw3E, yaw2I, yaw2E, yaw1]</td>\n",
       "      <td>[0.64, 0.64, 0.29, 0.29, 0.04]</td>\n",
       "      <td>[0.06, 0.06]</td>\n",
       "    </tr>\n",
       "    <tr>\n",
       "      <th>26</th>\n",
       "      <td>0.693971</td>\n",
       "      <td>[pitch2I, pitch2E, pitch3I, pitch3E, x3I, x3E, x2I, x2E]</td>\n",
       "      <td>[-0.47, 0.47, -0.47, 0.47, 0.24, -0.24, 0.1, -0.1]</td>\n",
       "      <td>[None, None]</td>\n",
       "    </tr>\n",
       "    <tr>\n",
       "      <th>27</th>\n",
       "      <td>0.647716</td>\n",
       "      <td>[yaw3I, yaw3E, yaw2I, yaw2E, yaw1, y3I, y3E, y2I, y2E, roll2I, roll2E, roll3I, roll3E]</td>\n",
       "      <td>[-0.54, -0.54, -0.4, -0.4, -0.27, 0.11, -0.11, 0.06, -0.06, 0.01, -0.01, 0.01, -0.01]</td>\n",
       "      <td>[0.5, 0.5]</td>\n",
       "    </tr>\n",
       "    <tr>\n",
       "      <th>28</th>\n",
       "      <td>0.590525</td>\n",
       "      <td>[y3I, y3E, roll1, y2I, y2E, roll2I, roll2E, roll3I, roll3E, y1]</td>\n",
       "      <td>[0.49, 0.49, -0.31, 0.29, 0.29, -0.24, -0.24, -0.24, -0.24, 0.13]</td>\n",
       "      <td>[0.27, 0.27]</td>\n",
       "    </tr>\n",
       "    <tr>\n",
       "      <th>29</th>\n",
       "      <td>0.578311</td>\n",
       "      <td>[pitch2I, pitch2E, pitch3I, pitch3E, x3I, x3E, x2I, x2E, x1, pitch1]</td>\n",
       "      <td>[-0.42, -0.42, -0.42, -0.42, 0.33, 0.33, 0.19, 0.19, 0.09, -0.02]</td>\n",
       "      <td>[0.05, 0.05]</td>\n",
       "    </tr>\n",
       "  </tbody>\n",
       "</table>\n",
       "</div>"
      ],
      "text/plain": [
       "          Freq                                                                                     DOF                                                                                   Amps        Mode_vis\n",
       "0   229.787426                                                        [roll2I, roll2E, roll3I, roll3E]                                                                 [0.5, 0.5, -0.5, -0.5]    [None, None]\n",
       "1   229.787398                                                        [roll2I, roll2E, roll3I, roll3E]                                                                 [0.5, -0.5, -0.5, 0.5]    [None, None]\n",
       "2   194.577901                                                            [z2I, z2E, z3I, z3E, pitch1]                                                          [0.5, -0.5, -0.5, 0.5, -0.03]    [None, None]\n",
       "3   194.577860                                                                    [z2I, z2E, z3I, z3E]                                                                 [0.5, 0.5, -0.5, -0.5]    [None, None]\n",
       "4    33.055551                                                    [pitch2I, pitch2E, pitch3I, pitch3E]                                                                 [-0.5, -0.5, 0.5, 0.5]    [None, None]\n",
       "5    33.055547                                                    [pitch2I, pitch2E, pitch3I, pitch3E]                                                                 [0.5, -0.5, -0.5, 0.5]    [None, None]\n",
       "6    13.599913                                                                                [pitch1]                                                                                  [1.0]    [None, None]\n",
       "7    10.730440                                                 [roll1, roll2I, roll2E, roll3I, roll3E]                                                        [-0.97, 0.12, 0.12, 0.12, 0.12]  [-8.08, -8.08]\n",
       "8     7.932735                                                                [z1, z2I, z2E, z3I, z3E]                                                     [0.95, -0.16, -0.16, -0.16, -0.16]  [-5.94, -5.94]\n",
       "9     6.366145                                                                    [yaw1, yaw2I, yaw2E]                                                                    [-0.99, 0.09, 0.09]    [None, None]\n",
       "10    3.686530                                                  [roll2I, roll2E, roll3I, roll3E, yaw1]                                                           [0.5, -0.5, 0.5, -0.5, 0.01]    [None, None]\n",
       "11    3.025633                                   [roll2I, roll2E, roll3I, roll3E, roll1, y1, y2I, y2E]                                     [0.49, 0.49, 0.49, 0.49, 0.18, 0.05, -0.01, -0.01]    [0.37, 0.37]\n",
       "12    2.811512                            [x1, pitch3I, pitch3E, pitch2I, pitch2E, x2I, x2E, x3I, x3E]                                [-0.74, 0.3, 0.3, 0.29, 0.29, 0.23, 0.23, -0.03, -0.03]  [24.67, 24.67]\n",
       "13    2.481187                                   [roll2I, roll2E, roll3I, roll3E, roll1, y1, y2I, y2E]                                      [0.48, 0.48, 0.48, 0.48, 0.28, -0.02, 0.01, 0.01]    [0.58, 0.58]\n",
       "14    2.338654                                                            [yaw2I, yaw2E, yaw3I, yaw3E]                                                             [-0.65, 0.65, 0.27, -0.27]    [None, None]\n",
       "15    2.263119                                                      [yaw2I, yaw2E, yaw3I, yaw3E, yaw1]                                                      [-0.64, -0.64, 0.29, 0.29, -0.08]  [-0.28, -0.28]\n",
       "16    1.973475                        [pitch1, pitch2I, pitch2E, pitch3I, pitch3E, z2I, z2E, z3I, z3E]                              [-0.96, 0.12, 0.12, 0.12, 0.12, -0.08, 0.08, -0.08, 0.08]    [-8.0, -8.0]\n",
       "17    1.887334                                                                [z2I, z2E, z3I, z3E, z1]                                                    [-0.48, -0.48, -0.48, -0.48, -0.29]      [0.6, 0.6]\n",
       "18    1.688303                                [x2I, x2E, pitch2I, pitch2E, pitch3I, pitch3E, x3I, x3E]                                   [-0.41, 0.41, 0.39, -0.39, 0.39, -0.39, 0.17, -0.17]    [None, None]\n",
       "19    1.591643  [yaw3I, yaw3E, yaw1, yaw2I, yaw2E, y2I, y2E, y3I, y3E, roll2I, roll2E, roll3I, roll3E]   [-0.53, -0.53, 0.48, 0.31, 0.31, -0.11, 0.11, 0.05, -0.05, 0.01, -0.01, 0.01, -0.01]  [-0.91, -0.91]\n",
       "20    1.442143                    [pitch2I, pitch2E, pitch3I, pitch3E, x2I, x2E, x1, x3I, x3E, pitch1]                        [-0.5, -0.5, -0.5, -0.5, 0.05, 0.05, 0.03, -0.03, -0.03, -0.01]    [0.02, 0.02]\n",
       "21    1.433405                         [roll2I, roll2E, roll3I, roll3E, roll1, y2I, y2E, y3I, y3E, y1]                         [0.44, 0.44, 0.44, 0.44, 0.38, -0.16, -0.16, 0.11, 0.11, -0.1]    [0.86, 0.86]\n",
       "22    1.331994                                                    [pitch2I, pitch2E, pitch3I, pitch3E]                                                                 [0.5, -0.5, 0.5, -0.5]    [None, None]\n",
       "23    1.315396                                  [pitch2I, pitch2E, pitch3I, pitch3E, pitch1, x2I, x2E]                                                 [0.5, 0.5, 0.5, 0.5, 0.01, 0.01, 0.01]    [0.02, 0.02]\n",
       "24    0.968702                                                            [yaw3I, yaw3E, yaw2I, yaw2E]                                                             [0.65, -0.65, 0.27, -0.27]    [None, None]\n",
       "25    0.932666                                                      [yaw3I, yaw3E, yaw2I, yaw2E, yaw1]                                                         [0.64, 0.64, 0.29, 0.29, 0.04]    [0.06, 0.06]\n",
       "26    0.693971                                [pitch2I, pitch2E, pitch3I, pitch3E, x3I, x3E, x2I, x2E]                                     [-0.47, 0.47, -0.47, 0.47, 0.24, -0.24, 0.1, -0.1]    [None, None]\n",
       "27    0.647716  [yaw3I, yaw3E, yaw2I, yaw2E, yaw1, y3I, y3E, y2I, y2E, roll2I, roll2E, roll3I, roll3E]  [-0.54, -0.54, -0.4, -0.4, -0.27, 0.11, -0.11, 0.06, -0.06, 0.01, -0.01, 0.01, -0.01]      [0.5, 0.5]\n",
       "28    0.590525                         [y3I, y3E, roll1, y2I, y2E, roll2I, roll2E, roll3I, roll3E, y1]                      [0.49, 0.49, -0.31, 0.29, 0.29, -0.24, -0.24, -0.24, -0.24, 0.13]    [0.27, 0.27]\n",
       "29    0.578311                    [pitch2I, pitch2E, pitch3I, pitch3E, x3I, x3E, x2I, x2E, x1, pitch1]                      [-0.42, -0.42, -0.42, -0.42, 0.33, 0.33, 0.19, 0.19, 0.09, -0.02]    [0.05, 0.05]"
      ]
     },
     "execution_count": 132,
     "metadata": {},
     "output_type": "execute_result"
    },
    {
     "data": {
      "image/png": "[encoded data removed]",
      "text/plain": [
       "<Figure size 2000x1000 with 1 Axes>"
      ]
     },
     "metadata": {},
     "output_type": "display_data"
    }
   ],
   "source": [
    "reboot_params()\n",
    "pend = tpmodel.pendSS(*[getattr(tp, coeff) for coeff in tpmodel.stdcoeffs]) # generating state space matrices \n",
    "modes = tpmodel.eigenmodes(*[getattr(tp, coeff) for coeff in tpmodel.stdcoeffs]) \n",
    "fig, ax = plt.subplots(figsize = (20,10))\n",
    "mode_forest(modes, fig, ax)\n",
    "print_modes(modes)"
   ]
  },
  {
   "cell_type": "markdown",
   "id": "a3c1d58a",
   "metadata": {},
   "source": [
    "# Increase MOI to 2x for the top mass "
   ]
  },
  {
   "cell_type": "code",
   "execution_count": 131,
   "id": "f42d9b8c-e3c7-4c01-a99c-f70eaaec1e75",
   "metadata": {},
   "outputs": [
    {
     "data": {
      "text/html": [
       "<div>\n",
       "<style scoped>\n",
       "    .dataframe tbody tr th:only-of-type {\n",
       "        vertical-align: middle;\n",
       "    }\n",
       "\n",
       "    .dataframe tbody tr th {\n",
       "        vertical-align: top;\n",
       "    }\n",
       "\n",
       "    .dataframe thead th {\n",
       "        text-align: right;\n",
       "    }\n",
       "</style>\n",
       "<table border=\"1\" class=\"dataframe\">\n",
       "  <thead>\n",
       "    <tr style=\"text-align: right;\">\n",
       "      <th></th>\n",
       "      <th>Freq</th>\n",
       "      <th>DOF</th>\n",
       "      <th>Amps</th>\n",
       "      <th>Mode_vis</th>\n",
       "    </tr>\n",
       "  </thead>\n",
       "  <tbody>\n",
       "    <tr>\n",
       "      <th>0</th>\n",
       "      <td>229.785101</td>\n",
       "      <td>[roll2I, roll2E, roll3I, roll3E]</td>\n",
       "      <td>[0.5, 0.5, -0.5, -0.5]</td>\n",
       "      <td>[None, None]</td>\n",
       "    </tr>\n",
       "    <tr>\n",
       "      <th>1</th>\n",
       "      <td>229.785088</td>\n",
       "      <td>[roll2I, roll2E, roll3I, roll3E]</td>\n",
       "      <td>[0.5, -0.5, -0.5, 0.5]</td>\n",
       "      <td>[None, None]</td>\n",
       "    </tr>\n",
       "    <tr>\n",
       "      <th>2</th>\n",
       "      <td>194.577871</td>\n",
       "      <td>[z2I, z2E, z3I, z3E, pitch1]</td>\n",
       "      <td>[0.5, -0.5, -0.5, 0.5, -0.01]</td>\n",
       "      <td>[None, None]</td>\n",
       "    </tr>\n",
       "    <tr>\n",
       "      <th>3</th>\n",
       "      <td>194.577862</td>\n",
       "      <td>[z2I, z2E, z3I, z3E]</td>\n",
       "      <td>[-0.5, -0.5, 0.5, 0.5]</td>\n",
       "      <td>[None, None]</td>\n",
       "    </tr>\n",
       "    <tr>\n",
       "      <th>4</th>\n",
       "      <td>33.033764</td>\n",
       "      <td>[pitch2I, pitch2E, pitch3I, pitch3E]</td>\n",
       "      <td>[-0.5, -0.5, 0.5, 0.5]</td>\n",
       "      <td>[None, None]</td>\n",
       "    </tr>\n",
       "    <tr>\n",
       "      <th>5</th>\n",
       "      <td>33.033762</td>\n",
       "      <td>[pitch2I, pitch2E, pitch3I, pitch3E]</td>\n",
       "      <td>[0.5, -0.5, -0.5, 0.5]</td>\n",
       "      <td>[None, None]</td>\n",
       "    </tr>\n",
       "    <tr>\n",
       "      <th>6</th>\n",
       "      <td>9.919547</td>\n",
       "      <td>[pitch1, z3I, z3E]</td>\n",
       "      <td>[1.0, -0.01, 0.01]</td>\n",
       "      <td>[None, None]</td>\n",
       "    </tr>\n",
       "    <tr>\n",
       "      <th>7</th>\n",
       "      <td>8.279115</td>\n",
       "      <td>[z1, z2I, z2E, z3I, z3E]</td>\n",
       "      <td>[-0.96, 0.14, 0.14, 0.14, 0.14]</td>\n",
       "      <td>[-6.86, -6.86]</td>\n",
       "    </tr>\n",
       "    <tr>\n",
       "      <th>8</th>\n",
       "      <td>7.542701</td>\n",
       "      <td>[roll1, roll3I, roll3E, roll2I, roll2E]</td>\n",
       "      <td>[-0.87, 0.25, 0.25, 0.24, 0.24]</td>\n",
       "      <td>[-3.48, -3.48]</td>\n",
       "    </tr>\n",
       "    <tr>\n",
       "      <th>9</th>\n",
       "      <td>5.032430</td>\n",
       "      <td>[yaw1, yaw2I, yaw2E, yaw3I, yaw3E]</td>\n",
       "      <td>[-0.98, 0.15, 0.15, -0.01, -0.01]</td>\n",
       "      <td>[98.0, 98.0]</td>\n",
       "    </tr>\n",
       "    <tr>\n",
       "      <th>10</th>\n",
       "      <td>3.538450</td>\n",
       "      <td>[roll2I, roll2E, roll3I, roll3E]</td>\n",
       "      <td>[0.5, -0.5, 0.5, -0.5]</td>\n",
       "      <td>[None, None]</td>\n",
       "    </tr>\n",
       "    <tr>\n",
       "      <th>11</th>\n",
       "      <td>3.071085</td>\n",
       "      <td>[roll2I, roll2E, roll3I, roll3E, roll1, y1, y2I, y2E]</td>\n",
       "      <td>[-0.49, -0.49, -0.49, -0.49, -0.12, -0.09, 0.02, 0.02]</td>\n",
       "      <td>[0.24, 0.24]</td>\n",
       "    </tr>\n",
       "    <tr>\n",
       "      <th>12</th>\n",
       "      <td>2.913524</td>\n",
       "      <td>[x1, x2I, x2E, x3I, x3E, pitch2I, pitch2E, pitch3I, pitch3E]</td>\n",
       "      <td>[-0.93, 0.26, 0.26, -0.03, -0.03, 0.01, 0.01, 0.01, 0.01]</td>\n",
       "      <td>[31.0, 31.0]</td>\n",
       "    </tr>\n",
       "    <tr>\n",
       "      <th>13</th>\n",
       "      <td>2.338654</td>\n",
       "      <td>[yaw2I, yaw2E, yaw3I, yaw3E]</td>\n",
       "      <td>[0.65, -0.65, -0.27, 0.27]</td>\n",
       "      <td>[None, None]</td>\n",
       "    </tr>\n",
       "    <tr>\n",
       "      <th>14</th>\n",
       "      <td>2.257808</td>\n",
       "      <td>[roll2I, roll2E, roll3I, roll3E, roll1, y1, y2I, y2E]</td>\n",
       "      <td>[0.48, 0.48, 0.48, 0.48, 0.29, -0.01, 0.01, 0.01]</td>\n",
       "      <td>[0.6, 0.6]</td>\n",
       "    </tr>\n",
       "    <tr>\n",
       "      <th>15</th>\n",
       "      <td>2.255956</td>\n",
       "      <td>[yaw2I, yaw2E, yaw3I, yaw3E, yaw1]</td>\n",
       "      <td>[0.64, 0.64, -0.29, -0.29, 0.09]</td>\n",
       "      <td>[-0.31, -0.31]</td>\n",
       "    </tr>\n",
       "    <tr>\n",
       "      <th>16</th>\n",
       "      <td>1.947387</td>\n",
       "      <td>[pitch1, z2I, z2E, z3I, z3E, pitch2I, pitch2E, pitch3I, pitch3E]</td>\n",
       "      <td>[0.97, 0.08, -0.08, 0.08, -0.08, -0.07, -0.07, -0.07, -0.07]</td>\n",
       "      <td>[-13.86, -13.86]</td>\n",
       "    </tr>\n",
       "    <tr>\n",
       "      <th>17</th>\n",
       "      <td>1.894986</td>\n",
       "      <td>[z2I, z2E, z3I, z3E, z1]</td>\n",
       "      <td>[0.48, 0.48, 0.48, 0.48, 0.29]</td>\n",
       "      <td>[0.6, 0.6]</td>\n",
       "    </tr>\n",
       "    <tr>\n",
       "      <th>18</th>\n",
       "      <td>1.687888</td>\n",
       "      <td>[x2I, x2E, x3I, x3E]</td>\n",
       "      <td>[0.65, -0.65, -0.27, 0.27]</td>\n",
       "      <td>[None, None]</td>\n",
       "    </tr>\n",
       "    <tr>\n",
       "      <th>19</th>\n",
       "      <td>1.585919</td>\n",
       "      <td>[yaw3I, yaw3E, yaw1, yaw2I, yaw2E, y2I, y2E, y3I, y3E]</td>\n",
       "      <td>[0.53, 0.53, -0.48, -0.3, -0.3, 0.1, -0.1, -0.05, 0.05]</td>\n",
       "      <td>[-0.91, -0.91]</td>\n",
       "    </tr>\n",
       "    <tr>\n",
       "      <th>20</th>\n",
       "      <td>1.438157</td>\n",
       "      <td>[roll3I, roll3E, roll2I, roll2E, roll1, y2I, y2E, y3I, y3E, y1]</td>\n",
       "      <td>[-0.45, -0.45, -0.44, -0.44, -0.37, 0.15, 0.15, -0.1, -0.1, 0.09]</td>\n",
       "      <td>[0.82, 0.82]</td>\n",
       "    </tr>\n",
       "    <tr>\n",
       "      <th>21</th>\n",
       "      <td>1.435028</td>\n",
       "      <td>[x2I, x2E, x3I, x3E, x1, pitch1, pitch2I, pitch2E, pitch3I, pitch3E]</td>\n",
       "      <td>[0.55, 0.55, -0.37, -0.37, 0.33, -0.06, -0.03, -0.03, -0.03, -0.03]</td>\n",
       "      <td>[-0.89, -0.89]</td>\n",
       "    </tr>\n",
       "    <tr>\n",
       "      <th>22</th>\n",
       "      <td>0.968702</td>\n",
       "      <td>[yaw3I, yaw3E, yaw2I, yaw2E]</td>\n",
       "      <td>[0.65, -0.65, 0.27, -0.27]</td>\n",
       "      <td>[None, None]</td>\n",
       "    </tr>\n",
       "    <tr>\n",
       "      <th>23</th>\n",
       "      <td>0.931645</td>\n",
       "      <td>[yaw3I, yaw3E, yaw2I, yaw2E, yaw1]</td>\n",
       "      <td>[-0.64, -0.64, -0.29, -0.29, -0.04]</td>\n",
       "      <td>[0.06, 0.06]</td>\n",
       "    </tr>\n",
       "    <tr>\n",
       "      <th>24</th>\n",
       "      <td>0.699205</td>\n",
       "      <td>[x3I, x3E, pitch2I, pitch2E, pitch3I, pitch3E, x2I, x2E]</td>\n",
       "      <td>[0.52, -0.52, 0.3, -0.3, 0.3, -0.3, 0.22, -0.22]</td>\n",
       "      <td>[None, None]</td>\n",
       "    </tr>\n",
       "    <tr>\n",
       "      <th>25</th>\n",
       "      <td>0.646574</td>\n",
       "      <td>[yaw3I, yaw3E, yaw2I, yaw2E, yaw1, y3I, y3E, y2I, y2E]</td>\n",
       "      <td>[-0.54, -0.54, -0.4, -0.4, -0.28, 0.11, -0.11, 0.06, -0.06]</td>\n",
       "      <td>[0.52, 0.52]</td>\n",
       "    </tr>\n",
       "    <tr>\n",
       "      <th>26</th>\n",
       "      <td>0.586219</td>\n",
       "      <td>[y3I, y3E, roll1, roll2I, roll2E, roll3I, roll3E, y2I, y2E, y1]</td>\n",
       "      <td>[-0.4, -0.4, 0.33, 0.33, 0.33, 0.33, 0.33, -0.24, -0.24, -0.11]</td>\n",
       "      <td>[0.27, 0.27]</td>\n",
       "    </tr>\n",
       "    <tr>\n",
       "      <th>27</th>\n",
       "      <td>0.579982</td>\n",
       "      <td>[pitch2I, pitch2E, pitch3I, pitch3E, x3I, x3E, x2I, x2E, x1]</td>\n",
       "      <td>[0.49, 0.49, 0.49, 0.49, 0.13, 0.13, 0.08, 0.08, 0.04]</td>\n",
       "      <td>[None, None]</td>\n",
       "    </tr>\n",
       "    <tr>\n",
       "      <th>28</th>\n",
       "      <td>0.563357</td>\n",
       "      <td>[pitch2I, pitch2E, pitch3I, pitch3E]</td>\n",
       "      <td>[0.5, -0.5, 0.5, -0.5]</td>\n",
       "      <td>[None, None]</td>\n",
       "    </tr>\n",
       "    <tr>\n",
       "      <th>29</th>\n",
       "      <td>0.560106</td>\n",
       "      <td>[pitch2I, pitch2E, pitch3I, pitch3E, pitch1]</td>\n",
       "      <td>[0.5, 0.5, 0.5, 0.5, 0.01]</td>\n",
       "      <td>[0.02, 0.02]</td>\n",
       "    </tr>\n",
       "  </tbody>\n",
       "</table>\n",
       "</div>"
      ],
      "text/plain": [
       "          Freq                                                                   DOF                                                                 Amps          Mode_vis\n",
       "0   229.785101                                      [roll2I, roll2E, roll3I, roll3E]                                               [0.5, 0.5, -0.5, -0.5]      [None, None]\n",
       "1   229.785088                                      [roll2I, roll2E, roll3I, roll3E]                                               [0.5, -0.5, -0.5, 0.5]      [None, None]\n",
       "2   194.577871                                          [z2I, z2E, z3I, z3E, pitch1]                                        [0.5, -0.5, -0.5, 0.5, -0.01]      [None, None]\n",
       "3   194.577862                                                  [z2I, z2E, z3I, z3E]                                               [-0.5, -0.5, 0.5, 0.5]      [None, None]\n",
       "4    33.033764                                  [pitch2I, pitch2E, pitch3I, pitch3E]                                               [-0.5, -0.5, 0.5, 0.5]      [None, None]\n",
       "5    33.033762                                  [pitch2I, pitch2E, pitch3I, pitch3E]                                               [0.5, -0.5, -0.5, 0.5]      [None, None]\n",
       "6     9.919547                                                    [pitch1, z3I, z3E]                                                   [1.0, -0.01, 0.01]      [None, None]\n",
       "7     8.279115                                              [z1, z2I, z2E, z3I, z3E]                                      [-0.96, 0.14, 0.14, 0.14, 0.14]    [-6.86, -6.86]\n",
       "8     7.542701                               [roll1, roll3I, roll3E, roll2I, roll2E]                                      [-0.87, 0.25, 0.25, 0.24, 0.24]    [-3.48, -3.48]\n",
       "9     5.032430                                    [yaw1, yaw2I, yaw2E, yaw3I, yaw3E]                                    [-0.98, 0.15, 0.15, -0.01, -0.01]      [98.0, 98.0]\n",
       "10    3.538450                                      [roll2I, roll2E, roll3I, roll3E]                                               [0.5, -0.5, 0.5, -0.5]      [None, None]\n",
       "11    3.071085                 [roll2I, roll2E, roll3I, roll3E, roll1, y1, y2I, y2E]               [-0.49, -0.49, -0.49, -0.49, -0.12, -0.09, 0.02, 0.02]      [0.24, 0.24]\n",
       "12    2.913524          [x1, x2I, x2E, x3I, x3E, pitch2I, pitch2E, pitch3I, pitch3E]            [-0.93, 0.26, 0.26, -0.03, -0.03, 0.01, 0.01, 0.01, 0.01]      [31.0, 31.0]\n",
       "13    2.338654                                          [yaw2I, yaw2E, yaw3I, yaw3E]                                           [0.65, -0.65, -0.27, 0.27]      [None, None]\n",
       "14    2.257808                 [roll2I, roll2E, roll3I, roll3E, roll1, y1, y2I, y2E]                    [0.48, 0.48, 0.48, 0.48, 0.29, -0.01, 0.01, 0.01]        [0.6, 0.6]\n",
       "15    2.255956                                    [yaw2I, yaw2E, yaw3I, yaw3E, yaw1]                                     [0.64, 0.64, -0.29, -0.29, 0.09]    [-0.31, -0.31]\n",
       "16    1.947387      [pitch1, z2I, z2E, z3I, z3E, pitch2I, pitch2E, pitch3I, pitch3E]         [0.97, 0.08, -0.08, 0.08, -0.08, -0.07, -0.07, -0.07, -0.07]  [-13.86, -13.86]\n",
       "17    1.894986                                              [z2I, z2E, z3I, z3E, z1]                                       [0.48, 0.48, 0.48, 0.48, 0.29]        [0.6, 0.6]\n",
       "18    1.687888                                                  [x2I, x2E, x3I, x3E]                                           [0.65, -0.65, -0.27, 0.27]      [None, None]\n",
       "19    1.585919                [yaw3I, yaw3E, yaw1, yaw2I, yaw2E, y2I, y2E, y3I, y3E]              [0.53, 0.53, -0.48, -0.3, -0.3, 0.1, -0.1, -0.05, 0.05]    [-0.91, -0.91]\n",
       "20    1.438157       [roll3I, roll3E, roll2I, roll2E, roll1, y2I, y2E, y3I, y3E, y1]    [-0.45, -0.45, -0.44, -0.44, -0.37, 0.15, 0.15, -0.1, -0.1, 0.09]      [0.82, 0.82]\n",
       "21    1.435028  [x2I, x2E, x3I, x3E, x1, pitch1, pitch2I, pitch2E, pitch3I, pitch3E]  [0.55, 0.55, -0.37, -0.37, 0.33, -0.06, -0.03, -0.03, -0.03, -0.03]    [-0.89, -0.89]\n",
       "22    0.968702                                          [yaw3I, yaw3E, yaw2I, yaw2E]                                           [0.65, -0.65, 0.27, -0.27]      [None, None]\n",
       "23    0.931645                                    [yaw3I, yaw3E, yaw2I, yaw2E, yaw1]                                  [-0.64, -0.64, -0.29, -0.29, -0.04]      [0.06, 0.06]\n",
       "24    0.699205              [x3I, x3E, pitch2I, pitch2E, pitch3I, pitch3E, x2I, x2E]                     [0.52, -0.52, 0.3, -0.3, 0.3, -0.3, 0.22, -0.22]      [None, None]\n",
       "25    0.646574                [yaw3I, yaw3E, yaw2I, yaw2E, yaw1, y3I, y3E, y2I, y2E]          [-0.54, -0.54, -0.4, -0.4, -0.28, 0.11, -0.11, 0.06, -0.06]      [0.52, 0.52]\n",
       "26    0.586219       [y3I, y3E, roll1, roll2I, roll2E, roll3I, roll3E, y2I, y2E, y1]      [-0.4, -0.4, 0.33, 0.33, 0.33, 0.33, 0.33, -0.24, -0.24, -0.11]      [0.27, 0.27]\n",
       "27    0.579982          [pitch2I, pitch2E, pitch3I, pitch3E, x3I, x3E, x2I, x2E, x1]               [0.49, 0.49, 0.49, 0.49, 0.13, 0.13, 0.08, 0.08, 0.04]      [None, None]\n",
       "28    0.563357                                  [pitch2I, pitch2E, pitch3I, pitch3E]                                               [0.5, -0.5, 0.5, -0.5]      [None, None]\n",
       "29    0.560106                          [pitch2I, pitch2E, pitch3I, pitch3E, pitch1]                                           [0.5, 0.5, 0.5, 0.5, 0.01]      [0.02, 0.02]"
      ]
     },
     "metadata": {},
     "output_type": "display_data"
    },
    {
     "data": {
      "text/plain": [
       "(<Figure size 2000x1000 with 1 Axes>,\n",
       " <Axes: xlabel='Freq (Hz)', ylabel='Modes'>)"
      ]
     },
     "execution_count": 131,
     "metadata": {},
     "output_type": "execute_result"
    },
    {
     "data": {
      "image/png": "[encoded data removed]",
      "text/plain": [
       "<Figure size 2000x1000 with 1 Axes>"
      ]
     },
     "metadata": {},
     "output_type": "display_data"
    }
   ],
   "source": [
    "Case1 = pd.DataFrame(data={\"Parameters\":[\"I1x\",\"I1y\",\"I1z\", \"d0\", \"d2I\", \"d2E\", \"d3I\",\"d3E\", \"d4I\",\"d4E\", \"m1\"], \"Values\":[0.00235,0.00173,0.00173,0.001,0,0,0,0,0,0,1]})\n",
    "pend1, modes1 = changes(Case1)\n",
    "\n",
    "# ax.set_ylabel(\"Modes\", fontsize = 20)\n",
    "# ax.set_xlabel(\"Freq (Hz)\", fontsize = 20)\n",
    "# ax.tick_params(axis = \"both\", labelsize = 15)\n",
    "df = print_modes(modes1)\n",
    "\n",
    "display(df)\n",
    "\n",
    "fig, ax = plt.subplots(figsize = (20,10))\n",
    "mode_forest(modes1, fig, ax)\n"
   ]
  },
  {
   "cell_type": "code",
   "execution_count": null,
   "id": "d03f39c0",
   "metadata": {},
   "outputs": [
    {
     "name": "stdout",
     "output_type": "stream",
     "text": [
      "0.405\n"
     ]
    }
   ],
   "source": []
  },
  {
   "cell_type": "markdown",
   "id": "0674e813",
   "metadata": {},
   "source": [
    "# Common Mode Rejection"
   ]
  },
  {
   "cell_type": "code",
   "execution_count": 198,
   "id": "1c5d44f6",
   "metadata": {},
   "outputs": [
    {
     "data": {
      "text/plain": [
       "[<matplotlib.lines.Line2D at 0x176392b70>]"
      ]
     },
     "execution_count": 198,
     "metadata": {},
     "output_type": "execute_result"
    },
    {
     "data": {
      "image/png": "[encoded data removed]",
      "text/plain": [
       "<Figure size 2000x1000 with 1 Axes>"
      ]
     },
     "metadata": {},
     "output_type": "display_data"
    }
   ],
   "source": [
    "tf_plat_optI = tpmodel.trimio(pend1,[\"x00\"],[\"x3I\"])\n",
    "\n",
    "tf_plat_optE = tpmodel.trimio(pend1,[\"x00\"],[\"x3E\"])\n",
    "\n",
    "omega = np.logspace(np.log10(2 * pi * 0.1), np.log10(2 * pi * 1000), num=9000)\n",
    "\n",
    "\n",
    "mag_diff, _, omega = ct.frequency_response(tf_plat_optI-tf_plat_optE,omega, Hz = False)\n",
    "mag_optE, _, omega = ct.frequency_response(tf_plat_optE,omega, Hz = False)\n",
    "freq = np.array(omega)/(2*np.pi)\n",
    "fig,ax= plt.subplots(figsize = (20,10))\n",
    "# 0.1 in the denominator corresponds to \n",
    "# ax.loglog(freq,MirrorLong_CryoVert*1e-6*np.sqrt(2),\"-b\", label=\"Length Noise due to vertical Cryocooler noise\")\n",
    "ax.loglog(freq,mag_diff,\"-r\", label=\"Cav motion\")\n",
    "ax.loglog(freq,mag_optE,\"-b\", label=\"End mass motion\")\n"
   ]
  },
  {
   "cell_type": "code",
   "execution_count": null,
   "id": "67929fdf",
   "metadata": {},
   "outputs": [
    {
     "data": {
      "text/plain": [
       "'x3I'"
      ]
     },
     "execution_count": 136,
     "metadata": {},
     "output_type": "execute_result"
    }
   ],
   "source": []
  },
  {
   "cell_type": "code",
   "execution_count": null,
   "id": "3cadda4b",
   "metadata": {},
   "outputs": [
    {
     "name": "stdout",
     "output_type": "stream",
     "text": [
      "<LinearICSystem>: sys[142]\n",
      "Inputs (1): ['r']\n",
      "Outputs (1): ['y']\n",
      "States (2): ['sys[137]_x[0]', 'sys[138]_x[0]']\n",
      "\n",
      "A = [[ 0. 10.]\n",
      "     [-1. -1.]]\n",
      "\n",
      "B = [[0.]\n",
      "     [1.]]\n",
      "\n",
      "C = [[1. 0.]]\n",
      "\n",
      "D = [[0.]]\n",
      "\n"
     ]
    }
   ],
   "source": [
    "P = ct.tf(1, [1, 0], inputs='u', outputs='y')\n",
    "C = ct.tf(10, [1, 1], inputs='e', outputs='u')\n",
    "sumblk = ct.summing_junction(inputs=['r', '-y'], output='e')\n",
    "T = ct.interconnect([P, C, sumblk], inputs='r', outputs='y')\n",
    "print (T)"
   ]
  },
  {
   "cell_type": "code",
   "execution_count": 163,
   "id": "4d5950ef",
   "metadata": {},
   "outputs": [
    {
     "name": "stdout",
     "output_type": "stream",
     "text": [
      "<TransferFunction>: sys[107]\n",
      "Inputs (1): ['u']\n",
      "Outputs (1): ['y']\n",
      "\n",
      "\n",
      "1\n",
      "-\n",
      "s\n",
      "\n"
     ]
    }
   ],
   "source": [
    "print (P)"
   ]
  },
  {
   "cell_type": "code",
   "execution_count": 169,
   "id": "80a3e74f",
   "metadata": {},
   "outputs": [
    {
     "ename": "ValueError",
     "evalue": "couldn't find system 'tf_plat_optI'",
     "output_type": "error",
     "traceback": [
      "\u001b[0;31m---------------------------------------------------------------------------\u001b[0m",
      "\u001b[0;31mValueError\u001b[0m                                Traceback (most recent call last)",
      "Cell \u001b[0;32mIn[169], line 10\u001b[0m\n\u001b[1;32m      7\u001b[0m sumblk \u001b[38;5;241m=\u001b[39m ct\u001b[38;5;241m.\u001b[39msumming_junction(inputs\u001b[38;5;241m=\u001b[39m[\u001b[38;5;124m'\u001b[39m\u001b[38;5;124mr\u001b[39m\u001b[38;5;124m'\u001b[39m, \u001b[38;5;124m'\u001b[39m\u001b[38;5;124m-y_fb\u001b[39m\u001b[38;5;124m'\u001b[39m], output\u001b[38;5;241m=\u001b[39m\u001b[38;5;124m'\u001b[39m\u001b[38;5;124me\u001b[39m\u001b[38;5;124m'\u001b[39m)\n\u001b[1;32m      9\u001b[0m \u001b[38;5;66;03m# Define the interconnection system with negative feedback\u001b[39;00m\n\u001b[0;32m---> 10\u001b[0m T_feedback \u001b[38;5;241m=\u001b[39m ct\u001b[38;5;241m.\u001b[39minterconnect(\n\u001b[1;32m     11\u001b[0m     [tf_plat_optI, tf_plat_optE, sumblk],  \u001b[38;5;66;03m# List of components\u001b[39;00m\n\u001b[1;32m     12\u001b[0m     inputs\u001b[38;5;241m=\u001b[39m\u001b[38;5;124m'\u001b[39m\u001b[38;5;124mr\u001b[39m\u001b[38;5;124m'\u001b[39m,                            \u001b[38;5;66;03m# Input to the system is 'r'\u001b[39;00m\n\u001b[1;32m     13\u001b[0m     outputs\u001b[38;5;241m=\u001b[39m\u001b[38;5;124m'\u001b[39m\u001b[38;5;124my\u001b[39m\u001b[38;5;124m'\u001b[39m,                           \u001b[38;5;66;03m# Output of the system is 'y'\u001b[39;00m\n\u001b[1;32m     14\u001b[0m     connections\u001b[38;5;241m=\u001b[39m[\n\u001b[1;32m     15\u001b[0m         [\u001b[38;5;124m'\u001b[39m\u001b[38;5;124mtf_plat_optI.u\u001b[39m\u001b[38;5;124m'\u001b[39m, \u001b[38;5;124m'\u001b[39m\u001b[38;5;124msumblk.e\u001b[39m\u001b[38;5;124m'\u001b[39m],    \u001b[38;5;66;03m# Connect the summing junction output to tf_plat_optI input\u001b[39;00m\n\u001b[1;32m     16\u001b[0m         [\u001b[38;5;124m'\u001b[39m\u001b[38;5;124mtf_plat_optE.u\u001b[39m\u001b[38;5;124m'\u001b[39m, \u001b[38;5;124m'\u001b[39m\u001b[38;5;124mtf_plat_optI.y\u001b[39m\u001b[38;5;124m'\u001b[39m], \u001b[38;5;66;03m# Connect the output of tf_plat_optI to tf_plat_optE input\u001b[39;00m\n\u001b[1;32m     17\u001b[0m         [\u001b[38;5;124m'\u001b[39m\u001b[38;5;124msumblk.y_fb\u001b[39m\u001b[38;5;124m'\u001b[39m, \u001b[38;5;124m'\u001b[39m\u001b[38;5;124mtf_plat_optE.y\u001b[39m\u001b[38;5;124m'\u001b[39m]  \u001b[38;5;66;03m# Feedback the output of tf_plat_optE to summing junction as '-y_fb'\u001b[39;00m\n\u001b[1;32m     18\u001b[0m     ]\n\u001b[1;32m     19\u001b[0m )\n\u001b[1;32m     21\u001b[0m \u001b[38;5;66;03m# Print the resulting system properties\u001b[39;00m\n\u001b[1;32m     22\u001b[0m \u001b[38;5;28mprint\u001b[39m(\u001b[38;5;124m\"\u001b[39m\u001b[38;5;124mNumber of inputs:\u001b[39m\u001b[38;5;124m\"\u001b[39m, T_feedback\u001b[38;5;241m.\u001b[39mninputs)\n",
      "File \u001b[0;32m/opt/anaconda3/lib/python3.12/site-packages/control/nlsys.py:2318\u001b[0m, in \u001b[0;36minterconnect\u001b[0;34m(syslist, connections, inplist, outlist, params, check_unused, add_unused, ignore_inputs, ignore_outputs, warn_duplicate, debug, **kwargs)\u001b[0m\n\u001b[1;32m   2315\u001b[0m     \u001b[38;5;28;01mraise\u001b[39;00m \u001b[38;5;167;01mValueError\u001b[39;00m(\n\u001b[1;32m   2316\u001b[0m         \u001b[38;5;124mf\u001b[39m\u001b[38;5;124m\"\u001b[39m\u001b[38;5;124minvalid connection \u001b[39m\u001b[38;5;132;01m{\u001b[39;00mconnection\u001b[38;5;132;01m}\u001b[39;00m\u001b[38;5;124m: should be a list\u001b[39m\u001b[38;5;124m\"\u001b[39m)\n\u001b[1;32m   2317\u001b[0m \u001b[38;5;66;03m# Parse and expand the input specification\u001b[39;00m\n\u001b[0;32m-> 2318\u001b[0m input_spec \u001b[38;5;241m=\u001b[39m _parse_spec(syslist, connection[\u001b[38;5;241m0\u001b[39m], \u001b[38;5;124m'\u001b[39m\u001b[38;5;124minput\u001b[39m\u001b[38;5;124m'\u001b[39m)\n\u001b[1;32m   2319\u001b[0m input_spec_list \u001b[38;5;241m=\u001b[39m [input_spec]\n\u001b[1;32m   2321\u001b[0m \u001b[38;5;66;03m# Parse and expand the output specifications\u001b[39;00m\n",
      "File \u001b[0;32m/opt/anaconda3/lib/python3.12/site-packages/control/iosys.py:932\u001b[0m, in \u001b[0;36m_parse_spec\u001b[0;34m(syslist, spec, signame, dictname)\u001b[0m\n\u001b[1;32m    930\u001b[0m     system_index \u001b[38;5;241m=\u001b[39m syslist_index\u001b[38;5;241m.\u001b[39mget(system_spec, \u001b[38;5;28;01mNone\u001b[39;00m)\n\u001b[1;32m    931\u001b[0m     \u001b[38;5;28;01mif\u001b[39;00m system_index \u001b[38;5;129;01mis\u001b[39;00m \u001b[38;5;28;01mNone\u001b[39;00m:\n\u001b[0;32m--> 932\u001b[0m         \u001b[38;5;28;01mraise\u001b[39;00m \u001b[38;5;167;01mValueError\u001b[39;00m(\u001b[38;5;124mf\u001b[39m\u001b[38;5;124m\"\u001b[39m\u001b[38;5;124mcouldn\u001b[39m\u001b[38;5;124m'\u001b[39m\u001b[38;5;124mt find system \u001b[39m\u001b[38;5;124m'\u001b[39m\u001b[38;5;132;01m{\u001b[39;00msystem_spec\u001b[38;5;132;01m}\u001b[39;00m\u001b[38;5;124m'\u001b[39m\u001b[38;5;124m\"\u001b[39m)\n\u001b[1;32m    933\u001b[0m \u001b[38;5;28;01melse\u001b[39;00m:\n\u001b[1;32m    934\u001b[0m     \u001b[38;5;28;01mraise\u001b[39;00m \u001b[38;5;167;01mValueError\u001b[39;00m(\u001b[38;5;124mf\u001b[39m\u001b[38;5;124m\"\u001b[39m\u001b[38;5;124munknown system spec \u001b[39m\u001b[38;5;124m'\u001b[39m\u001b[38;5;132;01m{\u001b[39;00msystem_spec\u001b[38;5;132;01m}\u001b[39;00m\u001b[38;5;124m'\u001b[39m\u001b[38;5;124m\"\u001b[39m)\n",
      "\u001b[0;31mValueError\u001b[0m: couldn't find system 'tf_plat_optI'"
     ]
    }
   ],
   "source": [
    "# Assuming tf_plat_optI and tf_plat_optE are defined as transfer functions\n",
    "# Replace trimio_tf(pend1, [\"x00\"], [\"x3I\"]) and trimio_tf(pend1, [\"x00\"], [\"x3E\"]) with the actual functions\n",
    "tf_plat_optI = trimio_tf(pend1, [\"x00\"], [\"x3I\"])  # This is your main system\n",
    "tf_plat_optE = trimio_tf(pend1, [\"x00\"], [\"x3E\"])  # This is the feedback transfer function\n",
    "\n",
    "# Define the summing junction for the negative feedback\n",
    "sumblk = ct.summing_junction(inputs=['r', '-y_fb'], output='e')\n",
    "\n",
    "# Define the interconnection system with negative feedback\n",
    "T_feedback = ct.interconnect(\n",
    "    [tf_plat_optI, tf_plat_optE, sumblk],  # List of components\n",
    "    inputs='r',                            # Input to the system is 'r'\n",
    "    outputs='y',                           # Output of the system is 'y'\n",
    "    connections=[\n",
    "        ['tf_plat_optI.u', 'sumblk.e'],    # Connect the summing junction output to tf_plat_optI input\n",
    "        ['tf_plat_optE.u', 'tf_plat_optI.y'], # Connect the output of tf_plat_optI to tf_plat_optE input\n",
    "        ['sumblk.y_fb', 'tf_plat_optE.y']  # Feedback the output of tf_plat_optE to summing junction as '-y_fb'\n",
    "    ]\n",
    ")\n",
    "\n",
    "# Print the resulting system properties\n",
    "print(\"Number of inputs:\", T_feedback.ninputs)\n",
    "print(\"Number of outputs:\", T_feedback.noutputs)\n",
    "print(\"Number of states:\", T_feedback.nstates)"
   ]
  },
  {
   "cell_type": "code",
   "execution_count": 176,
   "id": "f4f01966",
   "metadata": {},
   "outputs": [
    {
     "ename": "ControlMIMONotImplemented",
     "evalue": "Not implemented for MIMO systems without slycot.",
     "output_type": "error",
     "traceback": [
      "\u001b[0;31m---------------------------------------------------------------------------\u001b[0m",
      "\u001b[0;31mModuleNotFoundError\u001b[0m                       Traceback (most recent call last)",
      "File \u001b[0;32m/opt/anaconda3/lib/python3.12/site-packages/control/xferfcn.py:1492\u001b[0m, in \u001b[0;36m_convert_to_transfer_function\u001b[0;34m(sys, inputs, outputs, use_prefix_suffix)\u001b[0m\n\u001b[1;32m   1489\u001b[0m \u001b[38;5;28;01mtry\u001b[39;00m:\n\u001b[1;32m   1490\u001b[0m     \u001b[38;5;66;03m# Use Slycot to make the transformation\u001b[39;00m\n\u001b[1;32m   1491\u001b[0m     \u001b[38;5;66;03m# Make sure to convert system matrices to numpy arrays\u001b[39;00m\n\u001b[0;32m-> 1492\u001b[0m     \u001b[38;5;28;01mfrom\u001b[39;00m \u001b[38;5;21;01mslycot\u001b[39;00m \u001b[38;5;28;01mimport\u001b[39;00m tb04ad\n\u001b[1;32m   1493\u001b[0m     tfout \u001b[38;5;241m=\u001b[39m tb04ad(\n\u001b[1;32m   1494\u001b[0m         sys\u001b[38;5;241m.\u001b[39mnstates, sys\u001b[38;5;241m.\u001b[39mninputs, sys\u001b[38;5;241m.\u001b[39mnoutputs, array(sys\u001b[38;5;241m.\u001b[39mA),\n\u001b[1;32m   1495\u001b[0m         array(sys\u001b[38;5;241m.\u001b[39mB), array(sys\u001b[38;5;241m.\u001b[39mC), array(sys\u001b[38;5;241m.\u001b[39mD), tol1\u001b[38;5;241m=\u001b[39m\u001b[38;5;241m0.0\u001b[39m)\n",
      "\u001b[0;31mModuleNotFoundError\u001b[0m: No module named 'slycot'",
      "\nDuring handling of the above exception, another exception occurred:\n",
      "\u001b[0;31mControlMIMONotImplemented\u001b[0m                 Traceback (most recent call last)",
      "Cell \u001b[0;32mIn[176], line 1\u001b[0m\n\u001b[0;32m----> 1\u001b[0m ct\u001b[38;5;241m.\u001b[39mss2tf(pend1\u001b[38;5;241m.\u001b[39mA,pend1\u001b[38;5;241m.\u001b[39mB,pend1\u001b[38;5;241m.\u001b[39mC,pend1\u001b[38;5;241m.\u001b[39mD)\n",
      "File \u001b[0;32m/opt/anaconda3/lib/python3.12/site-packages/control/xferfcn.py:1816\u001b[0m, in \u001b[0;36mss2tf\u001b[0;34m(*args, **kwargs)\u001b[0m\n\u001b[1;32m   1813\u001b[0m \u001b[38;5;28;01mfrom\u001b[39;00m \u001b[38;5;21;01m.\u001b[39;00m\u001b[38;5;21;01mstatesp\u001b[39;00m \u001b[38;5;28;01mimport\u001b[39;00m StateSpace\n\u001b[1;32m   1814\u001b[0m \u001b[38;5;28;01mif\u001b[39;00m \u001b[38;5;28mlen\u001b[39m(args) \u001b[38;5;241m==\u001b[39m \u001b[38;5;241m4\u001b[39m \u001b[38;5;129;01mor\u001b[39;00m \u001b[38;5;28mlen\u001b[39m(args) \u001b[38;5;241m==\u001b[39m \u001b[38;5;241m5\u001b[39m:\n\u001b[1;32m   1815\u001b[0m     \u001b[38;5;66;03m# Assume we were given the A, B, C, D matrix and (optional) dt\u001b[39;00m\n\u001b[0;32m-> 1816\u001b[0m     \u001b[38;5;28;01mreturn\u001b[39;00m _convert_to_transfer_function(StateSpace(\u001b[38;5;241m*\u001b[39margs, \u001b[38;5;241m*\u001b[39m\u001b[38;5;241m*\u001b[39mkwargs))\n\u001b[1;32m   1818\u001b[0m \u001b[38;5;28;01mif\u001b[39;00m \u001b[38;5;28mlen\u001b[39m(args) \u001b[38;5;241m==\u001b[39m \u001b[38;5;241m1\u001b[39m:\n\u001b[1;32m   1819\u001b[0m     sys \u001b[38;5;241m=\u001b[39m args[\u001b[38;5;241m0\u001b[39m]\n",
      "File \u001b[0;32m/opt/anaconda3/lib/python3.12/site-packages/control/xferfcn.py:1513\u001b[0m, in \u001b[0;36m_convert_to_transfer_function\u001b[0;34m(sys, inputs, outputs, use_prefix_suffix)\u001b[0m\n\u001b[1;32m   1510\u001b[0m \u001b[38;5;28;01mexcept\u001b[39;00m \u001b[38;5;167;01mImportError\u001b[39;00m:\n\u001b[1;32m   1511\u001b[0m     \u001b[38;5;66;03m# If slycot is not available, use signal.lti (SISO only)\u001b[39;00m\n\u001b[1;32m   1512\u001b[0m     \u001b[38;5;28;01mif\u001b[39;00m sys\u001b[38;5;241m.\u001b[39mninputs \u001b[38;5;241m!=\u001b[39m \u001b[38;5;241m1\u001b[39m \u001b[38;5;129;01mor\u001b[39;00m sys\u001b[38;5;241m.\u001b[39mnoutputs \u001b[38;5;241m!=\u001b[39m \u001b[38;5;241m1\u001b[39m:\n\u001b[0;32m-> 1513\u001b[0m         \u001b[38;5;28;01mraise\u001b[39;00m ControlMIMONotImplemented(\u001b[38;5;124m\"\u001b[39m\u001b[38;5;124mNot implemented for \u001b[39m\u001b[38;5;124m\"\u001b[39m \u001b[38;5;241m+\u001b[39m\n\u001b[1;32m   1514\u001b[0m             \u001b[38;5;124m\"\u001b[39m\u001b[38;5;124mMIMO systems without slycot.\u001b[39m\u001b[38;5;124m\"\u001b[39m)\n\u001b[1;32m   1516\u001b[0m     \u001b[38;5;66;03m# Do the conversion using sp.signal.ss2tf\u001b[39;00m\n\u001b[1;32m   1517\u001b[0m     \u001b[38;5;66;03m# Note that this returns a 2D array for the numerator\u001b[39;00m\n\u001b[1;32m   1518\u001b[0m     num, den \u001b[38;5;241m=\u001b[39m sp\u001b[38;5;241m.\u001b[39msignal\u001b[38;5;241m.\u001b[39mss2tf(sys\u001b[38;5;241m.\u001b[39mA, sys\u001b[38;5;241m.\u001b[39mB, sys\u001b[38;5;241m.\u001b[39mC, sys\u001b[38;5;241m.\u001b[39mD)\n",
      "\u001b[0;31mControlMIMONotImplemented\u001b[0m: Not implemented for MIMO systems without slycot."
     ]
    }
   ],
   "source": [
    "ct.ss2tf(pend1.A,pend1.B,pend1.C,pend1.D)"
   ]
  },
  {
   "cell_type": "code",
   "execution_count": null,
   "id": "b0111e8b",
   "metadata": {},
   "outputs": [],
   "source": []
  }
 ],
 "metadata": {
  "kernelspec": {
   "display_name": "base",
   "language": "python",
   "name": "python3"
  },
  "language_info": {
   "codemirror_mode": {
    "name": "ipython",
    "version": 3
   },
   "file_extension": ".py",
   "mimetype": "text/x-python",
   "name": "python",
   "nbconvert_exporter": "python",
   "pygments_lexer": "ipython3",
   "version": "3.12.7"
  }
 },
 "nbformat": 4,
 "nbformat_minor": 5
}
