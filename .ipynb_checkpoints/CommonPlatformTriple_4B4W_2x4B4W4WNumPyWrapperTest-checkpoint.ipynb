{
 "cells": [
  {
   "cell_type": "markdown",
   "id": "bcdb472a",
   "metadata": {},
   "source": [
    "#### Test of stuff exported from Mathematica for case \"MatrixElementExport\" of CommonPlatformTriple_4B4W_2x4B4W4W"
   ]
  },
  {
   "cell_type": "markdown",
   "id": "6df30bda",
   "metadata": {},
   "source": [
    "## Preliminaries"
   ]
  },
  {
   "cell_type": "raw",
   "id": "e391d0cf",
   "metadata": {},
   "source": [
    "NOTE: Edit the hardcoded path in the cell below to point to where CommonPlatformTriple_4B4W_2x4B4W4W_MatrixElementExport_cptriple.py and symbexportCommonPlatformTriple_4B4W_2x4B4W4Wfull.py are located"
   ]
  },
  {
   "cell_type": "code",
   "execution_count": 14,
   "id": "9b65addb",
   "metadata": {},
   "outputs": [],
   "source": [
    "import sys\n",
    "sys.path.append('/Users/t.seetharamu.1/Documents/svn/GCIF/GCIF planning/Infrastructure cryogenics/CommonPlatformTriple_4B4W_2x4B4W4W/MatrixElementExport')"
   ]
  },
  {
   "cell_type": "markdown",
   "id": "097ccdf2",
   "metadata": {},
   "source": [
    "### Other system dependencies"
   ]
  },
  {
   "cell_type": "code",
   "execution_count": 16,
   "id": "db82d514",
   "metadata": {},
   "outputs": [],
   "source": [
    "import os"
   ]
  },
  {
   "cell_type": "code",
   "execution_count": 17,
   "id": "bf3d1178",
   "metadata": {},
   "outputs": [],
   "source": [
    "from math import pi,sqrt"
   ]
  },
  {
   "cell_type": "code",
   "execution_count": 18,
   "id": "9454cdc5",
   "metadata": {},
   "outputs": [],
   "source": [
    "import numpy as np"
   ]
  },
  {
   "cell_type": "code",
   "execution_count": 19,
   "id": "61b339f9",
   "metadata": {},
   "outputs": [],
   "source": [
    "# import scipy.linalg"
   ]
  },
  {
   "cell_type": "code",
   "execution_count": 20,
   "id": "b3a50e01",
   "metadata": {},
   "outputs": [],
   "source": [
    "import control as ct"
   ]
  },
  {
   "cell_type": "code",
   "execution_count": 21,
   "id": "d214a6c0",
   "metadata": {},
   "outputs": [],
   "source": [
    "import matplotlib.pyplot as plt"
   ]
  },
  {
   "cell_type": "code",
   "execution_count": 22,
   "id": "bf5e9ecb-0780-4aea-9631-c61820fc75c5",
   "metadata": {},
   "outputs": [],
   "source": [
    "import os\n",
    "import pandas as pd\n",
    "import inspect\n",
    "from math import pi,sqrt\n",
    "from decimal import Decimal\n",
    "\n",
    "import numpy as np\n",
    "\n",
    "# import scipy.linalg\n",
    "from matplotlib.ticker import MultipleLocator\n",
    "import control as ct\n",
    "\n",
    "import matplotlib.pyplot as plt\n",
    "import importlib\n",
    "\n",
    "import matplotlib\n",
    "matplotlib.rcParams['font.sans-serif'] = \"Comic Sans MS\"\n",
    "# Then, \"ALWAYS use sans-serif fonts\"\n",
    "matplotlib.rcParams['font.family'] = \"sans-serif\"\n",
    "plt.rcParams['font.size'] = 18          # Default font size for text\n",
    "plt.rcParams['axes.titlesize'] = 22     # Font size for axes titles\n",
    "plt.rcParams['axes.labelsize'] = 18     # Font size for axes labels\n",
    "plt.rcParams['xtick.labelsize'] = 14    # Font size for x-axis tick labels\n",
    "plt.rcParams['ytick.labelsize'] = 14    # Font size for y-axis tick labels\n",
    "plt.rcParams['legend.fontsize'] = 15    # Font size for legend\n"
   ]
  },
  {
   "cell_type": "markdown",
   "id": "6b9bb7a6",
   "metadata": {},
   "source": [
    "### CryoTriple2B2W4B4W4B4W model definition data and matrix element functions exported from Mathematica "
   ]
  },
  {
   "cell_type": "code",
   "execution_count": 24,
   "id": "853069d5",
   "metadata": {},
   "outputs": [],
   "source": [
    "import symbexportCommonPlatformTriple_4B4W_2x4B4W4Wfull as tpmodel"
   ]
  },
  {
   "cell_type": "markdown",
   "id": "53c1d462",
   "metadata": {},
   "source": [
    "### Parameters exported from Mathematica"
   ]
  },
  {
   "cell_type": "raw",
   "id": "237f23f4",
   "metadata": {},
   "source": [
    "NOTE: The \"MatrixElementExport\" part of the following line (i.e., between the underscores) is the Mathematica case name, and will need to be edited to use parameters from realistic cases."
   ]
  },
  {
   "cell_type": "code",
   "execution_count": 26,
   "id": "fd9feea1",
   "metadata": {},
   "outputs": [],
   "source": [
    "import CommonPlatformTriple_4B4W_2x4B4W4W_MatrixElementExport_cptriple as tp"
   ]
  },
  {
   "cell_type": "code",
   "execution_count": 27,
   "id": "510dae5d-9dd3-4522-92d0-2cc9be690e33",
   "metadata": {},
   "outputs": [],
   "source": [
    "n3 = 0.0405\n",
    "def reboot_params():\n",
    "    importlib.reload(tp)\n",
    "    tp.n3 = 0.0405\n",
    "    tp.n4 = n3\n",
    "    tp.n5 = n3\n",
    "    revised_sus_length = 0.298\n",
    "    tp.kw1= 1396.07\n",
    "    tp.kw2=tp.kw1\n",
    "    tp.kw3=70520.4\n",
    "    tp.l1 = revised_sus_length\n",
    "    tp.l2 = revised_sus_length\n",
    "    tp.l3 = revised_sus_length"
   ]
  },
  {
   "cell_type": "code",
   "execution_count": 28,
   "id": "52fa6725-8b30-489c-8bcb-efcc5b9883c5",
   "metadata": {},
   "outputs": [],
   "source": [
    "def original_params():\n",
    "    importlib.reload(tp)\n",
    "    revised_sus_length = 0.298\n",
    "\n",
    "\n",
    "    data =     [[\"Masses\", \"m1 / m2 / m3\", [round(tp.m1,2) ,round(tp.m2,2) ,round(tp.m3,2)]],\n",
    "\n",
    "    [\"Roll Moment of Inertia\", \"I1,x / I2,x / I3,x\",  [round(i,5) for i in [tp.I1x, tp.I2x , tp.I3x]]],\n",
    "\n",
    "    [\"Pitch Moment of Inertia\", \"I1,y / I2,y / I3,y\",  [round(i,5) for i in [tp.I1y, tp.I2y , tp.I3y]]],\n",
    "\n",
    "    [\"Yaw Moment of Inertia\", \"I1,z / I2,z / I3,z\", [round(i,5) for i in [tp.I1z, tp.I2z , tp.I3z]]],\n",
    "    \n",
    "            [\"Stretched wire lengths\", \"l1 / l2 / l3\", [tp.l1 , tp.l2, tp.l3]], \n",
    "            [\"Upper end wire vertical attachment distance\", \"dtop / d1/ d3 \" , [round(i,3) for i in [tp.dtop, tp.d1 , tp.d3]]],\n",
    "            [\"Bottom end wire vertical attachment distance\", \"d0 / d2 / d4\" , [round(i,3) for i in [tp.d0 , tp.d2, tp.d4]]],\n",
    "            \n",
    "            [\"Longitudinal wire separation\" , \"su / si / sl\", [tp.su, tp.si , tp.sl]],\n",
    "            [\"Upper transverse wire separation\", \"n0 / n2 / n4 \", [tp.n0, tp.n2 , tp.n4]],\n",
    "            [\"Bottom transverse wire separation\", \"n1 / n3 / n5 \", [tp.n1, tp.n3 , tp.n5]],\n",
    "            [\"Vertical Spring stiffness\", \"kbuz / kbiz / kblz\", [tp.kbuz, \"NA\", tp.kblz]],\n",
    "            [\"Wire Lengths\", \"l1 / l2 / l3\", [tp.l1 , tp.l2 , tp.l3]],\n",
    "            [\"Youngs Moduli of the wires\", \"Y1 / Y2 / Y3\", ['%.5E' % Decimal(tp.Y1), '%.5E' % Decimal(tp.Y2), '%.5E' % Decimal(tp.Y3)]]]\n",
    "\n",
    "\n",
    "\n",
    "    params = pd.DataFrame(data, columns = [\"Description\", \"Parameter\",\"Values\"])\n",
    "    # Setting display options\n",
    "    pd.set_option('display.width', 1000)  # Set width to a large value to prevent wrapping\n",
    "    pd.set_option('display.max_colwidth', None)  # Display full contents of each cell without truncation\n",
    "    print(params)"
   ]
  },
  {
   "cell_type": "code",
   "execution_count": 78,
   "id": "611c110d-b6cc-41bd-8842-18bd52fda87a",
   "metadata": {},
   "outputs": [],
   "source": [
    "def print_modes(eigens):\n",
    "    Hz = eigens[0]\n",
    "    evecs = eigens[1]\n",
    "    dofs = []\n",
    "    dof_amps = []\n",
    "    for j in range(0,18): \n",
    "        df =pd.DataFrame(np.array(list(zip(tpmodel.allvars,list(evecs[j])))), columns=[\"DOF\",\"Amp\"])\n",
    "        df[\"Amp\"] = [(round(float(i),2)) for i in list(df[\"Amp\"])] \n",
    "        df = (df[df[\"Amp\"]!=0])\n",
    "        df = df.sort_values(by='Amp', ascending=False, key=abs)\n",
    "        dofs.append(np.array(df[\"DOF\"]))\n",
    "        dof_amps.append(np.array(df[\"Amp\"]))\n",
    "    print (dofs)\n",
    "    print (Hz)\n",
    "    print (dof_amps)\n",
    "    modes = pd.DataFrame({\"Freq\":Hz, \"DOF\":dofs, \"Amps\":dof_amps})\n",
    "    \n",
    "    def calculate_ratio(row):\n",
    "        dof = row['DOF']\n",
    "        amps = row['Amps']\n",
    "        \n",
    "        # Identify the mode type from the first entry\n",
    "        mode = dof[0].rstrip('123')\n",
    "        \n",
    "        # Find indices of first and third occurrences for the identified mode\n",
    "        first_idx = next((i for i, d in enumerate(dof) if d.startswith(mode + '1')), None)\n",
    "        third_idx = next((i for i, d in enumerate(dof) if d.startswith(mode + '3')), None)\n",
    "        \n",
    "        # Calculate the ratio if both indices are found\n",
    "        if first_idx is not None and third_idx is not None:\n",
    "            return amps[first_idx] / amps[third_idx] if amps[third_idx] != 0 else None\n",
    "        return None\n",
    "\n",
    "    # Apply the function and create a new column\n",
    "    modes['Mode_vis'] = modes.apply(calculate_ratio, axis=1)\n",
    "\n",
    "# # Display the updated dataframe\n",
    "# display(df)\n",
    "    return modes"
   ]
  },
  {
   "cell_type": "code",
   "execution_count": 80,
   "id": "6497222d-4bf8-4477-87ab-933aa36bc9e8",
   "metadata": {},
   "outputs": [],
   "source": [
    "def mode_forest(mode_amp, fig=None, ax = None):\n",
    "    Hz = mode_amp[0]\n",
    "    evecs = mode_amp[1]\n",
    "    dofs = []\n",
    "    dof_amps = []\n",
    "    for j in range(0,18): \n",
    "        df =pd.DataFrame(np.array(list(zip(tpmodel.allvars,list(evecs[j])))), columns=[\"DOF\",\"Amp\"])\n",
    "        df[\"Amp\"] = [np.abs(round(float(i),2)) for i in list(df[\"Amp\"])] \n",
    "        df = (df[df[\"Amp\"]!=0])\n",
    "        df = df.sort_values(by='Amp', ascending=False)\n",
    "        dofs.append(np.array(df[\"DOF\"]))\n",
    "        dof_amps.append(np.array(df[\"Amp\"]))\n",
    "        \n",
    "    \n",
    "    \n",
    "        if any(df[\"DOF\"].iloc[i] in [\"x1\", \"x2\", \"x3\", \"pitch1\", \"pitch2\", \"pitch3\"] and df[\"Amp\"].iloc[i] > 0.1 for i in range(len(df))):\n",
    "            ax.scatter(Hz[j],\"Long-pitch Mode\", c= \"red\")\n",
    "            ax.text(Hz[j] + 0.1,\"Long-pitch Mode\", str(round(Hz[j],3)), fontsize=10)  # Adjust 0.1 to position the text appropriately\n",
    "        elif any(df[\"DOF\"].iloc[j] in [\"y1\", \"y2\", \"y3\",\"roll1\", \"roll2\", \"roll3\"] and df[\"Amp\"].iloc[j] > 0.1 for j in range(len(df))):\n",
    "            ax.scatter(Hz[j],\"Trans-roll Mode\", c = \"blue\")\n",
    "            ax.text(Hz[j] + 0.1,\"Trans-roll Mode\", str(round(Hz[j],3)), fontsize=15)\n",
    "        elif any(df[\"DOF\"].iloc[j] in [\"z1\", \"z2\", \"z3\"] and df[\"Amp\"].iloc[j] > 0.1 for j in range(len(df))):\n",
    "            ax.scatter(Hz[j],\"Bounce Mode\", c = \"black\")    \n",
    "            ax.text(Hz[j] + 0.1,\"Bounce Mode\", str(round(Hz[j],3)), fontsize=15)\n",
    "        elif any(df[\"DOF\"].iloc[j] in [\"yaw1\", \"yaw2\", \"yaw3\"] and df[\"Amp\"].iloc[j] > 0.1 for j in range(len(df))):\n",
    "            ax.scatter(Hz[j],\"Yaw Mode\", c = \"green\")    \n",
    "            ax.text(Hz[j] + 0.1,\"Yaw Mode\", str(round(Hz[j],3)), fontsize=15)\n",
    "#         elif any(df[\"DOF\"].iloc[j] in [\"pitch1\", \"pitch2\", \"pitch3\"] and df[\"Amp\"].iloc[j] > 0.5 for j in range(len(df))):\n",
    "#             ax.scatter(Hz[j],\"Pitch\", c = \"cyan\")\n",
    "#             ax.text(Hz[j] + 0.1,\"Pitch\", str(round(Hz[j],3)), fontsize=15)\n",
    "#         elif any(df[\"DOF\"].iloc[j] in [\"roll1\", \"roll2\", \"roll3\"] and df[\"Amp\"].iloc[j] > 0.5 for j in range(len(df))):\n",
    "#             ax.scatter(Hz[j],\"Roll\", c = \"brown\")\n",
    "#             ax.text(Hz[j] + 0.1,\"Roll\", str(round(Hz[j],3)), fontsize=15)\n",
    "        ax.grid()\n",
    "        ax.set_ylabel(\"Modes\", fontsize = 20)\n",
    "        ax.set_xlabel(\"Freq (Hz)\", fontsize = 20)\n",
    "        ax.tick_params(axis = \"both\", labelsize = 15)\n",
    "        ax.xaxis.set_minor_locator(MultipleLocator(10))\n",
    "        \n",
    "    modes = pd.DataFrame({\"Freq\":Hz, \"DOF\":dofs, \"Amps\":dof_amps})\n",
    "        \n",
    "    return fig, ax\n",
    "         "
   ]
  },
  {
   "cell_type": "code",
   "execution_count": 82,
   "id": "4d233f0a-0159-4702-8858-c98f0424af04",
   "metadata": {},
   "outputs": [],
   "source": [
    "def changes(mutation):\n",
    "    reboot_params()\n",
    "    for name, value in zip(mutation.iloc[:, 0], mutation.iloc[:, 1]):\n",
    "        locals()[name] = value\n",
    "    # print(mutation)\n",
    "    # print(d2)\n",
    "    revised_sus_length = 0.298\n",
    "    tp.kw1= 1396.07\n",
    "    tp.kw2=tp.kw1\n",
    "    tp.kw3=70520.4\n",
    "    tp.l1 = revised_sus_length\n",
    "    tp.l2 = revised_sus_length\n",
    "    tp.l3 = revised_sus_length\n",
    "    #Some constraints \n",
    "    global n3\n",
    "    n3 = 0.0405\n",
    "    n4 = n3\n",
    "    n5 = n3\n",
    "\n",
    "        \n",
    "    def assign_to_tp(mutation, tp):\n",
    "        for index, row in mutation.iterrows():\n",
    "            string = row['Parameters']\n",
    "            value = row['Values']\n",
    "            # Dynamically set the attribute to the corresponding value\n",
    "            setattr(tp, string, value)\n",
    "\n",
    "# Call the function\n",
    "    assign_to_tp(mutation, tp)\n",
    "    # this seems to have a global imapct and i am not able to print out the original parameters again \n",
    "    # tp.d0 = d0  \n",
    "    # tp.d1 = d1\n",
    "    # tp.d2 = d2\n",
    "    # tp.d3 = d3\n",
    "    # tp.d4 = d4\n",
    "    # tp.n0 = n0 \n",
    "    # tp.n1 = n1 \n",
    "    # tp.n2 = n2\n",
    "    # tp.su = su\n",
    "    # tp.si = si\n",
    "    # tp.sl = sl\n",
    "    # tp.n3 = n3\n",
    "    # tp.n4 = n4\n",
    "    # tp.n5 = n3 \n",
    "    \n",
    "    \n",
    "    \n",
    "    pend = tpmodel.pendSS(*[getattr(tp, coeff) for coeff in tpmodel.stdcoeffs])\n",
    "    (Hz,evecs) = tpmodel.eigenmodes(*[getattr(tp, coeff) for coeff in tpmodel.stdcoeffs])\n",
    "    mode_amp = (Hz,evecs)\n",
    "    \n",
    "    data =     [[\"Masses\", \"m1 / m2 / m3\", [round(tp.m1,2) ,round(tp.m2,2) ,round(tp.m3,2)]],\n",
    "\n",
    "    [\"Roll Moment of Inertia\", \"I1,x / I2,x / I3,x\",[round(i,5) for i in [tp.I1x, tp.I2x , tp.I3x]]],\n",
    "\n",
    "    [\"Pitch Moment of Inertia\", \"I1,y / I2,y / I3,y\", [round(i,5) for i in [tp.I1y, tp.I2y , tp.I3y]]],\n",
    "\n",
    "    [\"Yaw Moment of Inertia\", \"I1,z / I2,z / I3,z\",  [round(i,5) for i in [tp.I1z, tp.I2z , tp.I3z]]],\n",
    "    \n",
    "            [\"Stretched wire lengths\", \"l1 / l2 / l3\", [tp.l1 , tp.l2, tp.l3]], \n",
    "            [\"Upper end wire vertical attachment distance\", \"dtop / d1/ d3 \" , [round(i,3) for i in [tp.dtop, tp.d1 , tp.d3]]],\n",
    "            [\"Bottom end wire vertical attachment distance\", \"d0 / d2 / d4\" , [round(i,3) for i in [tp.d0 , tp.d2, tp.d4]]],\n",
    "            \n",
    "            [\"Longitudinal wire separation\" , \"su / si / sl\", [tp.su, tp.si , tp.sl]],\n",
    "            [\"Upper transverse wire separation\", \"n0 / n2 / n4 \", [tp.n0, tp.n2 , tp.n4]],\n",
    "            [\"Bottom transverse wire separation\", \"n1 / n3 / n5 \", [tp.n1, tp.n3 , tp.n5]],\n",
    "            [\"Vertical Spring stiffness\", \"kbuz / kbiz / kblz\", [tp.kbuz, \"NA\", tp.kblz]],\n",
    "            [\"Wire Lengths\", \"l1 / l2 / l3\", [tp.l1 , tp.l2 , tp.l3]],\n",
    "            [\"Youngs Moduli of the wires\", \"Y1 / Y2 / Y3\", ['%.5E' % Decimal(tp.Y1), '%.5E' % Decimal(tp.Y2), '%.5E' % Decimal(tp.Y3)]]]\n",
    "\n",
    "\n",
    "    params = pd.DataFrame(data, columns = [\"Description\", \"Parameter\",\"Values\"])\n",
    "    # Setting display options\n",
    "    pd.set_option('display.width', 1000)  # Set width to a large value to prevent wrapping\n",
    "    pd.set_option('display.max_colwidth', None)  # Display full contents of each cell without truncation\n",
    "    return params, pend, mode_amp\n",
    "\n",
    "# def new_pend(d0,d1,d2,d3,d4,n0,n1,n2,su,si,sl):\n",
    "#     #Some constraints \n",
    "#     global n3\n",
    "#     n3 = 0.0405\n",
    "#     n4 = n3\n",
    "#     n5 = n3\n",
    "#     d = [d2, d3 , d4]\n",
    "#     s = [su, si, sl]\n",
    "#     if any(i>26.5e-3 for i in d)==True:\n",
    "#         print (\"d is not practical\")\n",
    "#     if any(i>28.5e-3 for i in s)== True:\n",
    "#         print (\"s is not practical\")\n",
    "#     tp.d0 = d0  \n",
    "#     tp.d1 = d1\n",
    "#     tp.d2 = d2\n",
    "#     tp.d3 = d3\n",
    "#     tp.d4 = d4\n",
    "#     tp.n0 = n0 \n",
    "#     tp.n1 = n1 \n",
    "#     tp.n2 = n2\n",
    "#     tp.su = su\n",
    "#     tp.si = si\n",
    "#     tp.sl = sl\n",
    "#     tp.n3 = n3\n",
    "#     tp.n4 = n4\n",
    "#     tp.n5 = n3 \n",
    "    \n",
    "    \n",
    "#     return tpmodel.pendSS(tp.g,tp.m1,tp.m2,tp.m3,tp.I1x,tp.I1y,tp.I1z,tp.I1xy,tp.I1yz,tp.I1zx,tp.I2x,tp.I2y,tp.I2z,tp.I2xy,tp.I2yz,tp.I2zx,tp.I3x,tp.I3y,tp.I3z,tp.I3xy,tp.I3yz,tp.I3zx,tp.dtop,tp.d0,tp.d1,tp.d2,tp.d3,tp.d4,tp.n0,tp.n1,tp.n2,tp.n3,tp.n4,tp.n5,tp.su,tp.si,tp.sl,tp.kbuz,tp.kbiz,tp.kblz,tp.l1,tp.l2,tp.l3,tp.kw1,tp.kw2,tp.kw3,tp.Y1,tp.Y2,tp.Y3,tp.M11,tp.M21,tp.M31)"
   ]
  },
  {
   "cell_type": "code",
   "execution_count": 32,
   "id": "dc30afbd-ef03-49cf-a94d-d6068e1e56df",
   "metadata": {},
   "outputs": [],
   "source": [
    "def trimio_tf(pend, newinputs, newoutputs):\n",
    "\t'''A function to trim a state space object to have only the specified subsets of inputs and output.'''\n",
    "\tA=pend.A\n",
    "\tB=pend.B\n",
    "\tC=pend.C\n",
    "\tD=pend.D\n",
    "\toldinputs=pend.input_index\n",
    "\toldoutputs=pend.output_index\n",
    "\toldstates=pend.state_index\n",
    "\tnewinputlist = []\n",
    "\tfor i in range(len(newinputs)):\n",
    "\t\t\tnewinputlist.append(oldinputs.get(newinputs[i],0))\n",
    "\tnewoutputlist = []\n",
    "\tfor i in range(len(newoutputs)):\n",
    "\t\t\tnewoutputlist.append(oldoutputs.get(newoutputs[i],0))\n",
    "\tBB=B[range(len(oldstates))][...,newinputlist]\n",
    "\tCC=C[newoutputlist]\n",
    "\tDD=D[newoutputlist][...,newinputlist]\n",
    "\treturn ct.ss2tf(A,BB,CC,DD)"
   ]
  },
  {
   "cell_type": "markdown",
   "id": "7ce81973",
   "metadata": {},
   "source": [
    "### The stiffness matrix for the floats"
   ]
  },
  {
   "cell_type": "code",
   "execution_count": 34,
   "id": "c2715c9b",
   "metadata": {},
   "outputs": [],
   "source": [
    "qm = tpmodel.qm(tp.g,tp.m1,tp.m2I,tp.m2E,tp.m3I,tp.m3E,tp.I1x,tp.I1y,tp.I1z,tp.I1xy,tp.I1yz,tp.I1zx,tp.I2Ix,tp.I2Iy,tp.I2Iz,tp.I2Ixy,tp.I2Iyz,tp.I2Izx,tp.I2Ex,tp.I2Ey,tp.I2Ez,tp.I2Exy,tp.I2Eyz,tp.I2Ezx,tp.I3Ix,tp.I3Iy,tp.I3Iz,tp.I3Ixy,tp.I3Iyz,tp.I3Izx,tp.I3Ex,tp.I3Ey,tp.I3Ez,tp.I3Exy,tp.I3Eyz,tp.I3Ezx,tp.dtop,tp.d0,tp.d1I,tp.d1E,tp.d2I,tp.d2E,tp.d3I,tp.d3E,tp.d4I,tp.d4E,tp.chainIx,tp.chainEx,tp.n0,tp.n1,tp.n2I,tp.n2E,tp.n3I,tp.n3E,tp.n4I,tp.n4E,tp.n5I,tp.n5E,tp.su,tp.siI,tp.siE,tp.slI,tp.slE,tp.kbuz,tp.kbizI,tp.kbizE,tp.l1,tp.l2I,tp.l2E,tp.l3I,tp.l3E,tp.kw1,tp.kw2I,tp.kw2E,tp.kw3I,tp.kw3E,tp.Y1,tp.Y2I,tp.Y2E,tp.Y3I,tp.Y3E,tp.M11,tp.M21I,tp.M21E,tp.M31I,tp.M31E)"
   ]
  },
  {
   "cell_type": "code",
   "execution_count": 35,
   "id": "4c0a9485",
   "metadata": {},
   "outputs": [
    {
     "data": {
      "text/plain": [
       "(12, 12)"
      ]
     },
     "execution_count": 35,
     "metadata": {},
     "output_type": "execute_result"
    }
   ],
   "source": [
    "qm.shape"
   ]
  },
  {
   "cell_type": "markdown",
   "id": "22edc6bb",
   "metadata": {},
   "source": [
    "### The coupling matrix between floats and params"
   ]
  },
  {
   "cell_type": "code",
   "execution_count": 37,
   "id": "ed7020cb",
   "metadata": {},
   "outputs": [],
   "source": [
    "cqsm = tpmodel.cqsm(tp.g,tp.m1,tp.m2I,tp.m2E,tp.m3I,tp.m3E,tp.I1x,tp.I1y,tp.I1z,tp.I1xy,tp.I1yz,tp.I1zx,tp.I2Ix,tp.I2Iy,tp.I2Iz,tp.I2Ixy,tp.I2Iyz,tp.I2Izx,tp.I2Ex,tp.I2Ey,tp.I2Ez,tp.I2Exy,tp.I2Eyz,tp.I2Ezx,tp.I3Ix,tp.I3Iy,tp.I3Iz,tp.I3Ixy,tp.I3Iyz,tp.I3Izx,tp.I3Ex,tp.I3Ey,tp.I3Ez,tp.I3Exy,tp.I3Eyz,tp.I3Ezx,tp.dtop,tp.d0,tp.d1I,tp.d1E,tp.d2I,tp.d2E,tp.d3I,tp.d3E,tp.d4I,tp.d4E,tp.chainIx,tp.chainEx,tp.n0,tp.n1,tp.n2I,tp.n2E,tp.n3I,tp.n3E,tp.n4I,tp.n4E,tp.n5I,tp.n5E,tp.su,tp.siI,tp.siE,tp.slI,tp.slE,tp.kbuz,tp.kbizI,tp.kbizE,tp.l1,tp.l2I,tp.l2E,tp.l3I,tp.l3E,tp.kw1,tp.kw2I,tp.kw2E,tp.kw3I,tp.kw3E,tp.Y1,tp.Y2I,tp.Y2E,tp.Y3I,tp.Y3E,tp.M11,tp.M21I,tp.M21E,tp.M31I,tp.M31E)"
   ]
  },
  {
   "cell_type": "code",
   "execution_count": 38,
   "id": "110321c7",
   "metadata": {
    "scrolled": true
   },
   "outputs": [
    {
     "data": {
      "text/plain": [
       "(12, 6)"
      ]
     },
     "execution_count": 38,
     "metadata": {},
     "output_type": "execute_result"
    }
   ],
   "source": [
    "cqsm.shape"
   ]
  },
  {
   "cell_type": "markdown",
   "id": "2111ead1",
   "metadata": {},
   "source": [
    "### The coupling matrix between floats and vars"
   ]
  },
  {
   "cell_type": "code",
   "execution_count": 40,
   "id": "b3bfab24",
   "metadata": {},
   "outputs": [],
   "source": [
    "cqxm = tpmodel.cqxm(tp.g,tp.m1,tp.m2I,tp.m2E,tp.m3I,tp.m3E,tp.I1x,tp.I1y,tp.I1z,tp.I1xy,tp.I1yz,tp.I1zx,tp.I2Ix,tp.I2Iy,tp.I2Iz,tp.I2Ixy,tp.I2Iyz,tp.I2Izx,tp.I2Ex,tp.I2Ey,tp.I2Ez,tp.I2Exy,tp.I2Eyz,tp.I2Ezx,tp.I3Ix,tp.I3Iy,tp.I3Iz,tp.I3Ixy,tp.I3Iyz,tp.I3Izx,tp.I3Ex,tp.I3Ey,tp.I3Ez,tp.I3Exy,tp.I3Eyz,tp.I3Ezx,tp.dtop,tp.d0,tp.d1I,tp.d1E,tp.d2I,tp.d2E,tp.d3I,tp.d3E,tp.d4I,tp.d4E,tp.chainIx,tp.chainEx,tp.n0,tp.n1,tp.n2I,tp.n2E,tp.n3I,tp.n3E,tp.n4I,tp.n4E,tp.n5I,tp.n5E,tp.su,tp.siI,tp.siE,tp.slI,tp.slE,tp.kbuz,tp.kbizI,tp.kbizE,tp.l1,tp.l2I,tp.l2E,tp.l3I,tp.l3E,tp.kw1,tp.kw2I,tp.kw2E,tp.kw3I,tp.kw3E,tp.Y1,tp.Y2I,tp.Y2E,tp.Y3I,tp.Y3E,tp.M11,tp.M21I,tp.M21E,tp.M31I,tp.M31E)"
   ]
  },
  {
   "cell_type": "code",
   "execution_count": 41,
   "id": "74b359cb",
   "metadata": {},
   "outputs": [
    {
     "data": {
      "text/plain": [
       "(12, 30)"
      ]
     },
     "execution_count": 41,
     "metadata": {},
     "output_type": "execute_result"
    }
   ],
   "source": [
    "cqxm.shape"
   ]
  },
  {
   "cell_type": "markdown",
   "id": "0b6a2302",
   "metadata": {},
   "source": [
    "### The stiffness matrix for the params (raw, then effective)"
   ]
  },
  {
   "cell_type": "code",
   "execution_count": 43,
   "id": "5a37b0dd",
   "metadata": {},
   "outputs": [],
   "source": [
    "sm = tpmodel.sm(tp.g,tp.m1,tp.m2I,tp.m2E,tp.m3I,tp.m3E,tp.I1x,tp.I1y,tp.I1z,tp.I1xy,tp.I1yz,tp.I1zx,tp.I2Ix,tp.I2Iy,tp.I2Iz,tp.I2Ixy,tp.I2Iyz,tp.I2Izx,tp.I2Ex,tp.I2Ey,tp.I2Ez,tp.I2Exy,tp.I2Eyz,tp.I2Ezx,tp.I3Ix,tp.I3Iy,tp.I3Iz,tp.I3Ixy,tp.I3Iyz,tp.I3Izx,tp.I3Ex,tp.I3Ey,tp.I3Ez,tp.I3Exy,tp.I3Eyz,tp.I3Ezx,tp.dtop,tp.d0,tp.d1I,tp.d1E,tp.d2I,tp.d2E,tp.d3I,tp.d3E,tp.d4I,tp.d4E,tp.chainIx,tp.chainEx,tp.n0,tp.n1,tp.n2I,tp.n2E,tp.n3I,tp.n3E,tp.n4I,tp.n4E,tp.n5I,tp.n5E,tp.su,tp.siI,tp.siE,tp.slI,tp.slE,tp.kbuz,tp.kbizI,tp.kbizE,tp.l1,tp.l2I,tp.l2E,tp.l3I,tp.l3E,tp.kw1,tp.kw2I,tp.kw2E,tp.kw3I,tp.kw3E,tp.Y1,tp.Y2I,tp.Y2E,tp.Y3I,tp.Y3E,tp.M11,tp.M21I,tp.M21E,tp.M31I,tp.M31E)"
   ]
  },
  {
   "cell_type": "code",
   "execution_count": 44,
   "id": "5c187c21",
   "metadata": {},
   "outputs": [
    {
     "data": {
      "text/plain": [
       "(6, 6)"
      ]
     },
     "execution_count": 44,
     "metadata": {},
     "output_type": "execute_result"
    }
   ],
   "source": [
    "sm.shape"
   ]
  },
  {
   "cell_type": "code",
   "execution_count": 45,
   "id": "582b6a56",
   "metadata": {
    "scrolled": true
   },
   "outputs": [],
   "source": [
    "smeff = tpmodel.smeff(tp.g,tp.m1,tp.m2I,tp.m2E,tp.m3I,tp.m3E,tp.I1x,tp.I1y,tp.I1z,tp.I1xy,tp.I1yz,tp.I1zx,tp.I2Ix,tp.I2Iy,tp.I2Iz,tp.I2Ixy,tp.I2Iyz,tp.I2Izx,tp.I2Ex,tp.I2Ey,tp.I2Ez,tp.I2Exy,tp.I2Eyz,tp.I2Ezx,tp.I3Ix,tp.I3Iy,tp.I3Iz,tp.I3Ixy,tp.I3Iyz,tp.I3Izx,tp.I3Ex,tp.I3Ey,tp.I3Ez,tp.I3Exy,tp.I3Eyz,tp.I3Ezx,tp.dtop,tp.d0,tp.d1I,tp.d1E,tp.d2I,tp.d2E,tp.d3I,tp.d3E,tp.d4I,tp.d4E,tp.chainIx,tp.chainEx,tp.n0,tp.n1,tp.n2I,tp.n2E,tp.n3I,tp.n3E,tp.n4I,tp.n4E,tp.n5I,tp.n5E,tp.su,tp.siI,tp.siE,tp.slI,tp.slE,tp.kbuz,tp.kbizI,tp.kbizE,tp.l1,tp.l2I,tp.l2E,tp.l3I,tp.l3E,tp.kw1,tp.kw2I,tp.kw2E,tp.kw3I,tp.kw3E,tp.Y1,tp.Y2I,tp.Y2E,tp.Y3I,tp.Y3E,tp.M11,tp.M21I,tp.M21E,tp.M31I,tp.M31E)"
   ]
  },
  {
   "cell_type": "code",
   "execution_count": 46,
   "id": "7454f9e1",
   "metadata": {},
   "outputs": [
    {
     "data": {
      "text/plain": [
       "(6, 6)"
      ]
     },
     "execution_count": 46,
     "metadata": {},
     "output_type": "execute_result"
    }
   ],
   "source": [
    "smeff.shape"
   ]
  },
  {
   "cell_type": "markdown",
   "id": "4adcdd3f",
   "metadata": {},
   "source": [
    "### The coupling matrix between vars and params (raw then effective)"
   ]
  },
  {
   "cell_type": "code",
   "execution_count": 48,
   "id": "dcba9462",
   "metadata": {},
   "outputs": [],
   "source": [
    "cxsm = tpmodel.cxsm(tp.g,tp.m1,tp.m2I,tp.m2E,tp.m3I,tp.m3E,tp.I1x,tp.I1y,tp.I1z,tp.I1xy,tp.I1yz,tp.I1zx,tp.I2Ix,tp.I2Iy,tp.I2Iz,tp.I2Ixy,tp.I2Iyz,tp.I2Izx,tp.I2Ex,tp.I2Ey,tp.I2Ez,tp.I2Exy,tp.I2Eyz,tp.I2Ezx,tp.I3Ix,tp.I3Iy,tp.I3Iz,tp.I3Ixy,tp.I3Iyz,tp.I3Izx,tp.I3Ex,tp.I3Ey,tp.I3Ez,tp.I3Exy,tp.I3Eyz,tp.I3Ezx,tp.dtop,tp.d0,tp.d1I,tp.d1E,tp.d2I,tp.d2E,tp.d3I,tp.d3E,tp.d4I,tp.d4E,tp.chainIx,tp.chainEx,tp.n0,tp.n1,tp.n2I,tp.n2E,tp.n3I,tp.n3E,tp.n4I,tp.n4E,tp.n5I,tp.n5E,tp.su,tp.siI,tp.siE,tp.slI,tp.slE,tp.kbuz,tp.kbizI,tp.kbizE,tp.l1,tp.l2I,tp.l2E,tp.l3I,tp.l3E,tp.kw1,tp.kw2I,tp.kw2E,tp.kw3I,tp.kw3E,tp.Y1,tp.Y2I,tp.Y2E,tp.Y3I,tp.Y3E,tp.M11,tp.M21I,tp.M21E,tp.M31I,tp.M31E)"
   ]
  },
  {
   "cell_type": "code",
   "execution_count": 49,
   "id": "ec222b22",
   "metadata": {},
   "outputs": [
    {
     "data": {
      "text/plain": [
       "(30, 6)"
      ]
     },
     "execution_count": 49,
     "metadata": {},
     "output_type": "execute_result"
    }
   ],
   "source": [
    "cxsm.shape"
   ]
  },
  {
   "cell_type": "code",
   "execution_count": 50,
   "id": "0fc0bbea",
   "metadata": {},
   "outputs": [],
   "source": [
    "cxsmeff = tpmodel.cxsmeff(tp.g,tp.m1,tp.m2I,tp.m2E,tp.m3I,tp.m3E,tp.I1x,tp.I1y,tp.I1z,tp.I1xy,tp.I1yz,tp.I1zx,tp.I2Ix,tp.I2Iy,tp.I2Iz,tp.I2Ixy,tp.I2Iyz,tp.I2Izx,tp.I2Ex,tp.I2Ey,tp.I2Ez,tp.I2Exy,tp.I2Eyz,tp.I2Ezx,tp.I3Ix,tp.I3Iy,tp.I3Iz,tp.I3Ixy,tp.I3Iyz,tp.I3Izx,tp.I3Ex,tp.I3Ey,tp.I3Ez,tp.I3Exy,tp.I3Eyz,tp.I3Ezx,tp.dtop,tp.d0,tp.d1I,tp.d1E,tp.d2I,tp.d2E,tp.d3I,tp.d3E,tp.d4I,tp.d4E,tp.chainIx,tp.chainEx,tp.n0,tp.n1,tp.n2I,tp.n2E,tp.n3I,tp.n3E,tp.n4I,tp.n4E,tp.n5I,tp.n5E,tp.su,tp.siI,tp.siE,tp.slI,tp.slE,tp.kbuz,tp.kbizI,tp.kbizE,tp.l1,tp.l2I,tp.l2E,tp.l3I,tp.l3E,tp.kw1,tp.kw2I,tp.kw2E,tp.kw3I,tp.kw3E,tp.Y1,tp.Y2I,tp.Y2E,tp.Y3I,tp.Y3E,tp.M11,tp.M21I,tp.M21E,tp.M31I,tp.M31E)"
   ]
  },
  {
   "cell_type": "code",
   "execution_count": 51,
   "id": "00bf0a9b",
   "metadata": {},
   "outputs": [
    {
     "data": {
      "text/plain": [
       "(30, 6)"
      ]
     },
     "execution_count": 51,
     "metadata": {},
     "output_type": "execute_result"
    }
   ],
   "source": [
    "cxsmeff.shape"
   ]
  },
  {
   "cell_type": "markdown",
   "id": "0ea4d177",
   "metadata": {},
   "source": [
    "### The stiffness matrix for vars (raw, then effective)"
   ]
  },
  {
   "cell_type": "code",
   "execution_count": 53,
   "id": "e30589b5",
   "metadata": {},
   "outputs": [],
   "source": [
    "xm = tpmodel.xm(tp.g,tp.m1,tp.m2I,tp.m2E,tp.m3I,tp.m3E,tp.I1x,tp.I1y,tp.I1z,tp.I1xy,tp.I1yz,tp.I1zx,tp.I2Ix,tp.I2Iy,tp.I2Iz,tp.I2Ixy,tp.I2Iyz,tp.I2Izx,tp.I2Ex,tp.I2Ey,tp.I2Ez,tp.I2Exy,tp.I2Eyz,tp.I2Ezx,tp.I3Ix,tp.I3Iy,tp.I3Iz,tp.I3Ixy,tp.I3Iyz,tp.I3Izx,tp.I3Ex,tp.I3Ey,tp.I3Ez,tp.I3Exy,tp.I3Eyz,tp.I3Ezx,tp.dtop,tp.d0,tp.d1I,tp.d1E,tp.d2I,tp.d2E,tp.d3I,tp.d3E,tp.d4I,tp.d4E,tp.chainIx,tp.chainEx,tp.n0,tp.n1,tp.n2I,tp.n2E,tp.n3I,tp.n3E,tp.n4I,tp.n4E,tp.n5I,tp.n5E,tp.su,tp.siI,tp.siE,tp.slI,tp.slE,tp.kbuz,tp.kbizI,tp.kbizE,tp.l1,tp.l2I,tp.l2E,tp.l3I,tp.l3E,tp.kw1,tp.kw2I,tp.kw2E,tp.kw3I,tp.kw3E,tp.Y1,tp.Y2I,tp.Y2E,tp.Y3I,tp.Y3E,tp.M11,tp.M21I,tp.M21E,tp.M31I,tp.M31E)"
   ]
  },
  {
   "cell_type": "code",
   "execution_count": 54,
   "id": "464e5106",
   "metadata": {},
   "outputs": [
    {
     "data": {
      "text/plain": [
       "(30, 30)"
      ]
     },
     "execution_count": 54,
     "metadata": {},
     "output_type": "execute_result"
    }
   ],
   "source": [
    "xm.shape"
   ]
  },
  {
   "cell_type": "code",
   "execution_count": 55,
   "id": "ac20fb3d",
   "metadata": {},
   "outputs": [],
   "source": [
    "xmeff=tpmodel.xmeff(tp.g,tp.m1,tp.m2I,tp.m2E,tp.m3I,tp.m3E,tp.I1x,tp.I1y,tp.I1z,tp.I1xy,tp.I1yz,tp.I1zx,tp.I2Ix,tp.I2Iy,tp.I2Iz,tp.I2Ixy,tp.I2Iyz,tp.I2Izx,tp.I2Ex,tp.I2Ey,tp.I2Ez,tp.I2Exy,tp.I2Eyz,tp.I2Ezx,tp.I3Ix,tp.I3Iy,tp.I3Iz,tp.I3Ixy,tp.I3Iyz,tp.I3Izx,tp.I3Ex,tp.I3Ey,tp.I3Ez,tp.I3Exy,tp.I3Eyz,tp.I3Ezx,tp.dtop,tp.d0,tp.d1I,tp.d1E,tp.d2I,tp.d2E,tp.d3I,tp.d3E,tp.d4I,tp.d4E,tp.chainIx,tp.chainEx,tp.n0,tp.n1,tp.n2I,tp.n2E,tp.n3I,tp.n3E,tp.n4I,tp.n4E,tp.n5I,tp.n5E,tp.su,tp.siI,tp.siE,tp.slI,tp.slE,tp.kbuz,tp.kbizI,tp.kbizE,tp.l1,tp.l2I,tp.l2E,tp.l3I,tp.l3E,tp.kw1,tp.kw2I,tp.kw2E,tp.kw3I,tp.kw3E,tp.Y1,tp.Y2I,tp.Y2E,tp.Y3I,tp.Y3E,tp.M11,tp.M21I,tp.M21E,tp.M31I,tp.M31E)"
   ]
  },
  {
   "cell_type": "code",
   "execution_count": 56,
   "id": "f6331df9",
   "metadata": {},
   "outputs": [
    {
     "data": {
      "text/plain": [
       "(30, 30)"
      ]
     },
     "execution_count": 56,
     "metadata": {},
     "output_type": "execute_result"
    }
   ],
   "source": [
    "xmeff.shape"
   ]
  },
  {
   "cell_type": "markdown",
   "id": "f3905372",
   "metadata": {},
   "source": [
    "### The mass matrix"
   ]
  },
  {
   "cell_type": "code",
   "execution_count": 58,
   "id": "e0d07480",
   "metadata": {},
   "outputs": [],
   "source": [
    "km = tpmodel.km(tp.g,tp.m1,tp.m2I,tp.m2E,tp.m3I,tp.m3E,tp.I1x,tp.I1y,tp.I1z,tp.I1xy,tp.I1yz,tp.I1zx,tp.I2Ix,tp.I2Iy,tp.I2Iz,tp.I2Ixy,tp.I2Iyz,tp.I2Izx,tp.I2Ex,tp.I2Ey,tp.I2Ez,tp.I2Exy,tp.I2Eyz,tp.I2Ezx,tp.I3Ix,tp.I3Iy,tp.I3Iz,tp.I3Ixy,tp.I3Iyz,tp.I3Izx,tp.I3Ex,tp.I3Ey,tp.I3Ez,tp.I3Exy,tp.I3Eyz,tp.I3Ezx,tp.dtop,tp.d0,tp.d1I,tp.d1E,tp.d2I,tp.d2E,tp.d3I,tp.d3E,tp.d4I,tp.d4E,tp.chainIx,tp.chainEx,tp.n0,tp.n1,tp.n2I,tp.n2E,tp.n3I,tp.n3E,tp.n4I,tp.n4E,tp.n5I,tp.n5E,tp.su,tp.siI,tp.siE,tp.slI,tp.slE,tp.kbuz,tp.kbizI,tp.kbizE,tp.l1,tp.l2I,tp.l2E,tp.l3I,tp.l3E,tp.kw1,tp.kw2I,tp.kw2E,tp.kw3I,tp.kw3E,tp.Y1,tp.Y2I,tp.Y2E,tp.Y3I,tp.Y3E,tp.M11,tp.M21I,tp.M21E,tp.M31I,tp.M31E)"
   ]
  },
  {
   "cell_type": "code",
   "execution_count": 59,
   "id": "9a787a80",
   "metadata": {},
   "outputs": [
    {
     "data": {
      "text/plain": [
       "(30, 30)"
      ]
     },
     "execution_count": 59,
     "metadata": {},
     "output_type": "execute_result"
    }
   ],
   "source": [
    "km.shape"
   ]
  },
  {
   "cell_type": "markdown",
   "id": "2d6f2410",
   "metadata": {},
   "source": [
    "# Generate state space"
   ]
  },
  {
   "cell_type": "markdown",
   "id": "48098f60",
   "metadata": {},
   "source": [
    "## Generate full A, B, C, D matrices"
   ]
  },
  {
   "cell_type": "code",
   "execution_count": 62,
   "id": "94601bee",
   "metadata": {},
   "outputs": [],
   "source": [
    "A = tpmodel.A(tp.g,tp.m1,tp.m2I,tp.m2E,tp.m3I,tp.m3E,tp.I1x,tp.I1y,tp.I1z,tp.I1xy,tp.I1yz,tp.I1zx,tp.I2Ix,tp.I2Iy,tp.I2Iz,tp.I2Ixy,tp.I2Iyz,tp.I2Izx,tp.I2Ex,tp.I2Ey,tp.I2Ez,tp.I2Exy,tp.I2Eyz,tp.I2Ezx,tp.I3Ix,tp.I3Iy,tp.I3Iz,tp.I3Ixy,tp.I3Iyz,tp.I3Izx,tp.I3Ex,tp.I3Ey,tp.I3Ez,tp.I3Exy,tp.I3Eyz,tp.I3Ezx,tp.dtop,tp.d0,tp.d1I,tp.d1E,tp.d2I,tp.d2E,tp.d3I,tp.d3E,tp.d4I,tp.d4E,tp.chainIx,tp.chainEx,tp.n0,tp.n1,tp.n2I,tp.n2E,tp.n3I,tp.n3E,tp.n4I,tp.n4E,tp.n5I,tp.n5E,tp.su,tp.siI,tp.siE,tp.slI,tp.slE,tp.kbuz,tp.kbizI,tp.kbizE,tp.l1,tp.l2I,tp.l2E,tp.l3I,tp.l3E,tp.kw1,tp.kw2I,tp.kw2E,tp.kw3I,tp.kw3E,tp.Y1,tp.Y2I,tp.Y2E,tp.Y3I,tp.Y3E,tp.M11,tp.M21I,tp.M21E,tp.M31I,tp.M31E)"
   ]
  },
  {
   "cell_type": "code",
   "execution_count": 63,
   "id": "b64e59cb",
   "metadata": {},
   "outputs": [
    {
     "data": {
      "text/plain": [
       "(60, 60)"
      ]
     },
     "execution_count": 63,
     "metadata": {},
     "output_type": "execute_result"
    }
   ],
   "source": [
    "A.shape"
   ]
  },
  {
   "cell_type": "code",
   "execution_count": 64,
   "id": "32eb6cd1",
   "metadata": {},
   "outputs": [],
   "source": [
    "B = tpmodel.B(tp.g,tp.m1,tp.m2I,tp.m2E,tp.m3I,tp.m3E,tp.I1x,tp.I1y,tp.I1z,tp.I1xy,tp.I1yz,tp.I1zx,tp.I2Ix,tp.I2Iy,tp.I2Iz,tp.I2Ixy,tp.I2Iyz,tp.I2Izx,tp.I2Ex,tp.I2Ey,tp.I2Ez,tp.I2Exy,tp.I2Eyz,tp.I2Ezx,tp.I3Ix,tp.I3Iy,tp.I3Iz,tp.I3Ixy,tp.I3Iyz,tp.I3Izx,tp.I3Ex,tp.I3Ey,tp.I3Ez,tp.I3Exy,tp.I3Eyz,tp.I3Ezx,tp.dtop,tp.d0,tp.d1I,tp.d1E,tp.d2I,tp.d2E,tp.d3I,tp.d3E,tp.d4I,tp.d4E,tp.chainIx,tp.chainEx,tp.n0,tp.n1,tp.n2I,tp.n2E,tp.n3I,tp.n3E,tp.n4I,tp.n4E,tp.n5I,tp.n5E,tp.su,tp.siI,tp.siE,tp.slI,tp.slE,tp.kbuz,tp.kbizI,tp.kbizE,tp.l1,tp.l2I,tp.l2E,tp.l3I,tp.l3E,tp.kw1,tp.kw2I,tp.kw2E,tp.kw3I,tp.kw3E,tp.Y1,tp.Y2I,tp.Y2E,tp.Y3I,tp.Y3E,tp.M11,tp.M21I,tp.M21E,tp.M31I,tp.M31E)"
   ]
  },
  {
   "cell_type": "code",
   "execution_count": 65,
   "id": "fe7d598d",
   "metadata": {},
   "outputs": [
    {
     "data": {
      "text/plain": [
       "(60, 36)"
      ]
     },
     "execution_count": 65,
     "metadata": {},
     "output_type": "execute_result"
    }
   ],
   "source": [
    "B.shape"
   ]
  },
  {
   "cell_type": "code",
   "execution_count": 66,
   "id": "0a809d91",
   "metadata": {},
   "outputs": [],
   "source": [
    "C = tpmodel.C(tp.g,tp.m1,tp.m2I,tp.m2E,tp.m3I,tp.m3E,tp.I1x,tp.I1y,tp.I1z,tp.I1xy,tp.I1yz,tp.I1zx,tp.I2Ix,tp.I2Iy,tp.I2Iz,tp.I2Ixy,tp.I2Iyz,tp.I2Izx,tp.I2Ex,tp.I2Ey,tp.I2Ez,tp.I2Exy,tp.I2Eyz,tp.I2Ezx,tp.I3Ix,tp.I3Iy,tp.I3Iz,tp.I3Ixy,tp.I3Iyz,tp.I3Izx,tp.I3Ex,tp.I3Ey,tp.I3Ez,tp.I3Exy,tp.I3Eyz,tp.I3Ezx,tp.dtop,tp.d0,tp.d1I,tp.d1E,tp.d2I,tp.d2E,tp.d3I,tp.d3E,tp.d4I,tp.d4E,tp.chainIx,tp.chainEx,tp.n0,tp.n1,tp.n2I,tp.n2E,tp.n3I,tp.n3E,tp.n4I,tp.n4E,tp.n5I,tp.n5E,tp.su,tp.siI,tp.siE,tp.slI,tp.slE,tp.kbuz,tp.kbizI,tp.kbizE,tp.l1,tp.l2I,tp.l2E,tp.l3I,tp.l3E,tp.kw1,tp.kw2I,tp.kw2E,tp.kw3I,tp.kw3E,tp.Y1,tp.Y2I,tp.Y2E,tp.Y3I,tp.Y3E,tp.M11,tp.M21I,tp.M21E,tp.M31I,tp.M31E)"
   ]
  },
  {
   "cell_type": "code",
   "execution_count": 67,
   "id": "032afbb8",
   "metadata": {},
   "outputs": [
    {
     "data": {
      "text/plain": [
       "(36, 60)"
      ]
     },
     "execution_count": 67,
     "metadata": {},
     "output_type": "execute_result"
    }
   ],
   "source": [
    "C.shape"
   ]
  },
  {
   "cell_type": "code",
   "execution_count": 68,
   "id": "e8aa54e2",
   "metadata": {},
   "outputs": [],
   "source": [
    "D = tpmodel.D(tp.g,tp.m1,tp.m2I,tp.m2E,tp.m3I,tp.m3E,tp.I1x,tp.I1y,tp.I1z,tp.I1xy,tp.I1yz,tp.I1zx,tp.I2Ix,tp.I2Iy,tp.I2Iz,tp.I2Ixy,tp.I2Iyz,tp.I2Izx,tp.I2Ex,tp.I2Ey,tp.I2Ez,tp.I2Exy,tp.I2Eyz,tp.I2Ezx,tp.I3Ix,tp.I3Iy,tp.I3Iz,tp.I3Ixy,tp.I3Iyz,tp.I3Izx,tp.I3Ex,tp.I3Ey,tp.I3Ez,tp.I3Exy,tp.I3Eyz,tp.I3Ezx,tp.dtop,tp.d0,tp.d1I,tp.d1E,tp.d2I,tp.d2E,tp.d3I,tp.d3E,tp.d4I,tp.d4E,tp.chainIx,tp.chainEx,tp.n0,tp.n1,tp.n2I,tp.n2E,tp.n3I,tp.n3E,tp.n4I,tp.n4E,tp.n5I,tp.n5E,tp.su,tp.siI,tp.siE,tp.slI,tp.slE,tp.kbuz,tp.kbizI,tp.kbizE,tp.l1,tp.l2I,tp.l2E,tp.l3I,tp.l3E,tp.kw1,tp.kw2I,tp.kw2E,tp.kw3I,tp.kw3E,tp.Y1,tp.Y2I,tp.Y2E,tp.Y3I,tp.Y3E,tp.M11,tp.M21I,tp.M21E,tp.M31I,tp.M31E)"
   ]
  },
  {
   "cell_type": "code",
   "execution_count": 69,
   "id": "722b6d88",
   "metadata": {},
   "outputs": [
    {
     "data": {
      "text/plain": [
       "(36, 36)"
      ]
     },
     "execution_count": 69,
     "metadata": {},
     "output_type": "execute_result"
    }
   ],
   "source": [
    "D.shape"
   ]
  },
  {
   "cell_type": "markdown",
   "id": "ec51e1b1",
   "metadata": {},
   "source": [
    "## Generate full state space object"
   ]
  },
  {
   "cell_type": "code",
   "execution_count": 71,
   "id": "99ba5402",
   "metadata": {},
   "outputs": [],
   "source": [
    "pend = tpmodel.pendSS(tp.g,tp.m1,tp.m2I,tp.m2E,tp.m3I,tp.m3E,tp.I1x,tp.I1y,tp.I1z,tp.I1xy,tp.I1yz,tp.I1zx,tp.I2Ix,tp.I2Iy,tp.I2Iz,tp.I2Ixy,tp.I2Iyz,tp.I2Izx,tp.I2Ex,tp.I2Ey,tp.I2Ez,tp.I2Exy,tp.I2Eyz,tp.I2Ezx,tp.I3Ix,tp.I3Iy,tp.I3Iz,tp.I3Ixy,tp.I3Iyz,tp.I3Izx,tp.I3Ex,tp.I3Ey,tp.I3Ez,tp.I3Exy,tp.I3Eyz,tp.I3Ezx,tp.dtop,tp.d0,tp.d1I,tp.d1E,tp.d2I,tp.d2E,tp.d3I,tp.d3E,tp.d4I,tp.d4E,tp.chainIx,tp.chainEx,tp.n0,tp.n1,tp.n2I,tp.n2E,tp.n3I,tp.n3E,tp.n4I,tp.n4E,tp.n5I,tp.n5E,tp.su,tp.siI,tp.siE,tp.slI,tp.slE,tp.kbuz,tp.kbizI,tp.kbizE,tp.l1,tp.l2I,tp.l2E,tp.l3I,tp.l3E,tp.kw1,tp.kw2I,tp.kw2E,tp.kw3I,tp.kw3E,tp.Y1,tp.Y2I,tp.Y2E,tp.Y3I,tp.Y3E,tp.M11,tp.M21I,tp.M21E,tp.M31I,tp.M31E)"
   ]
  },
  {
   "cell_type": "code",
   "execution_count": 72,
   "id": "4ec39488",
   "metadata": {},
   "outputs": [],
   "source": [
    "## Try a Bode plot of x00 (support) displacement input to x3 (optic) displacement"
   ]
  },
  {
   "cell_type": "code",
   "execution_count": 73,
   "id": "7e2171d3",
   "metadata": {
    "scrolled": true
   },
   "outputs": [],
   "source": [
    "pend_x00_x3=tpmodel.trimio(pend,[\"x00\"],[\"x3I\"])"
   ]
  },
  {
   "cell_type": "code",
   "execution_count": 74,
   "id": "4baec677",
   "metadata": {},
   "outputs": [
    {
     "ename": "TypeError",
     "evalue": "iter() returned non-iterator of type 'numpy.ndarray'",
     "output_type": "error",
     "traceback": [
      "\u001b[0;31m---------------------------------------------------------------------------\u001b[0m",
      "\u001b[0;31mTypeError\u001b[0m                                 Traceback (most recent call last)",
      "Cell \u001b[0;32mIn[74], line 1\u001b[0m\n\u001b[0;32m----> 1\u001b[0m magd,phased,omegad\u001b[38;5;241m=\u001b[39mct\u001b[38;5;241m.\u001b[39mbode_plot(pend_x00_x3,Hz\u001b[38;5;241m=\u001b[39m\u001b[38;5;28;01mTrue\u001b[39;00m,omega_limits\u001b[38;5;241m=\u001b[39m[\u001b[38;5;241m2\u001b[39m\u001b[38;5;241m*\u001b[39mpi\u001b[38;5;241m*\u001b[39m\u001b[38;5;241m0.09\u001b[39m,\u001b[38;5;241m2\u001b[39m\u001b[38;5;241m*\u001b[39mpi\u001b[38;5;241m*\u001b[39m\u001b[38;5;241m10\u001b[39m])\n",
      "\u001b[0;31mTypeError\u001b[0m: iter() returned non-iterator of type 'numpy.ndarray'"
     ]
    },
    {
     "data": {
      "image/png": "[encoded data removed]",
      "text/plain": [
       "<Figure size 640x480 with 2 Axes>"
      ]
     },
     "metadata": {},
     "output_type": "display_data"
    }
   ],
   "source": [
    "magd,phased,omegad=ct.bode_plot(pend_x00_x3,Hz=True,omega_limits=[2*pi*0.09,2*pi*10])"
   ]
  },
  {
   "cell_type": "markdown",
   "id": "0875569a",
   "metadata": {},
   "source": [
    "## Try a Bode plot of x1 (top mass) force input to x3 (optic) displacement"
   ]
  },
  {
   "cell_type": "code",
   "execution_count": null,
   "id": "bc648a3c",
   "metadata": {},
   "outputs": [],
   "source": [
    "pend_x1_x3=tpmodel.trimio(pend,[\"f_x1\"],[\"x3I\"])"
   ]
  },
  {
   "cell_type": "code",
   "execution_count": null,
   "id": "0e8b8193",
   "metadata": {},
   "outputs": [],
   "source": [
    "magf,phasef,omegaf=ct.bode_plot(pend_x1_x3,Hz=True,omega_limits=[2*pi*0.1,2*pi*10])"
   ]
  },
  {
   "cell_type": "markdown",
   "id": "0bf69f5a",
   "metadata": {},
   "source": [
    "# Eigenmode stuff"
   ]
  },
  {
   "cell_type": "code",
   "execution_count": null,
   "id": "b4681297",
   "metadata": {},
   "outputs": [],
   "source": [
    "(Hz,evecs) = tpmodel.eigenmodes(tp.g,tp.m1,tp.m2I,tp.m2E,tp.m3I,tp.m3E,tp.I1x,tp.I1y,tp.I1z,tp.I1xy,tp.I1yz,tp.I1zx,tp.I2Ix,tp.I2Iy,tp.I2Iz,tp.I2Ixy,tp.I2Iyz,tp.I2Izx,tp.I2Ex,tp.I2Ey,tp.I2Ez,tp.I2Exy,tp.I2Eyz,tp.I2Ezx,tp.I3Ix,tp.I3Iy,tp.I3Iz,tp.I3Ixy,tp.I3Iyz,tp.I3Izx,tp.I3Ex,tp.I3Ey,tp.I3Ez,tp.I3Exy,tp.I3Eyz,tp.I3Ezx,tp.dtop,tp.d0,tp.d1I,tp.d1E,tp.d2I,tp.d2E,tp.d3I,tp.d3E,tp.d4I,tp.d4E,tp.chainIx,tp.chainEx,tp.n0,tp.n1,tp.n2I,tp.n2E,tp.n3I,tp.n3E,tp.n4I,tp.n4E,tp.n5I,tp.n5E,tp.su,tp.siI,tp.siE,tp.slI,tp.slE,tp.kbuz,tp.kbizI,tp.kbizE,tp.l1,tp.l2I,tp.l2E,tp.l3I,tp.l3E,tp.kw1,tp.kw2I,tp.kw2E,tp.kw3I,tp.kw3E,tp.Y1,tp.Y2I,tp.Y2E,tp.Y3I,tp.Y3E,tp.M11,tp.M21I,tp.M21E,tp.M31I,tp.M31E)"
   ]
  },
  {
   "cell_type": "code",
   "execution_count": null,
   "id": "2263a715",
   "metadata": {},
   "outputs": [],
   "source": [
    "Hz"
   ]
  },
  {
   "cell_type": "markdown",
   "id": "9a8245ca",
   "metadata": {},
   "source": [
    "## Examine the lowest frequency mode (x and pitch)"
   ]
  },
  {
   "cell_type": "code",
   "execution_count": null,
   "id": "b91d65a5",
   "metadata": {},
   "outputs": [],
   "source": [
    "list(zip(tpmodel.allvars,list(evecs[29])))"
   ]
  },
  {
   "cell_type": "code",
   "execution_count": 84,
   "id": "3294c3bc",
   "metadata": {},
   "outputs": [
    {
     "name": "stdout",
     "output_type": "stream",
     "text": [
      "[array(['roll2I', 'roll2E', 'roll3I', 'roll3E', 'roll1'], dtype=object), array(['roll2I', 'roll2E', 'roll3I', 'roll3E'], dtype=object), array(['pitch1', 'z2I', 'z2E', 'z3I', 'z3E'], dtype=object), array(['z2I', 'z2E', 'z3I', 'z3E', 'z1'], dtype=object), array(['pitch1', 'z2I', 'z2E', 'z3I', 'z3E'], dtype=object), array(['roll1', 'roll3I', 'roll3E', 'roll2I', 'roll2E'], dtype=object), array(['z1', 'z3I', 'z3E', 'z2I', 'z2E'], dtype=object), array(['yaw1', 'yaw2I', 'yaw2E', 'yaw3I', 'roll3I', 'yaw3E', 'roll3E'],\n",
      "      dtype=object), array(['roll3I', 'roll3E', 'roll2I', 'roll2E', 'yaw1'], dtype=object), array(['pitch2I', 'pitch2E', 'pitch3I', 'pitch3E', 'x1', 'x2I', 'x2E',\n",
      "       'x3I', 'x3E'], dtype=object), array(['y1', 'roll3I', 'roll3E', 'roll2I', 'roll2E', 'roll1', 'y2I',\n",
      "       'y2E', 'y3I', 'y3E'], dtype=object), array(['roll3I', 'roll3E', 'roll2I', 'roll2E', 'roll1'], dtype=object), array(['pitch2I', 'pitch2E', 'pitch3I', 'pitch3E'], dtype=object), array(['pitch2I', 'pitch2E', 'pitch3I', 'pitch3E'], dtype=object), array(['yaw2I', 'yaw2E', 'yaw3I', 'yaw3E'], dtype=object), array(['yaw2I', 'yaw2E', 'yaw3I', 'yaw3E', 'yaw1'], dtype=object), array(['pitch1', 'pitch3I', 'pitch3E', 'z2I', 'z2E', 'z3I', 'z3E',\n",
      "       'pitch2I', 'pitch2E', 'x2I', 'x2E'], dtype=object), array(['z3I', 'z3E', 'z2I', 'z2E', 'z1'], dtype=object)]\n",
      "[16.46941993 16.29726517 14.96751606 13.53943992 12.55220632 10.7991159\n",
      "  7.84163221  6.06623627  3.70398967  3.06418708  3.06169273  2.67428615\n",
      "  2.62633613  2.62188675  2.61559849  2.49584939  2.05076079  1.89820814\n",
      "  1.84279054  1.69746625  1.56377207  1.55868019  1.25818682  1.24783384\n",
      "  1.08341636  1.02308782  0.75586771  0.67422179  0.6303582   0.6283834 ]\n",
      "[array([ 0.53,  0.53, -0.45, -0.45, -0.2 ]), array([ 0.53, -0.53, -0.47,  0.47]), array([ 1.  , -0.01,  0.01,  0.01, -0.01]), array([ 0.53,  0.53, -0.46, -0.46, -0.14]), array([-1.  , -0.02,  0.02,  0.02, -0.02]), array([ 0.96, -0.21, -0.21, -0.02, -0.02]), array([-0.94,  0.23,  0.23,  0.07,  0.07]), array([-0.98,  0.13,  0.13, -0.01,  0.01, -0.01, -0.01]), array([-0.53,  0.53, -0.47,  0.47, -0.01]), array([ 0.61,  0.61, -0.29, -0.29, -0.27,  0.08,  0.08, -0.01, -0.01]), array([ 0.45,  0.44,  0.44,  0.4 ,  0.4 ,  0.22, -0.14, -0.14,  0.02,\n",
      "        0.02]), array([0.5 , 0.5 , 0.47, 0.47, 0.25]), array([ 0.59, -0.59, -0.39,  0.39]), array([-0.59, -0.59,  0.39,  0.39]), array([ 0.65, -0.65, -0.27,  0.27]), array([-0.63, -0.63,  0.3 ,  0.3 , -0.12]), array([-0.95,  0.17,  0.17, -0.09,  0.09, -0.09,  0.09, -0.06, -0.06,\n",
      "       -0.01, -0.01]), array([0.49, 0.49, 0.47, 0.47, 0.28])]\n"
     ]
    },
    {
     "ename": "ValueError",
     "evalue": "All arrays must be of the same length",
     "output_type": "error",
     "traceback": [
      "\u001b[0;31m---------------------------------------------------------------------------\u001b[0m",
      "\u001b[0;31mValueError\u001b[0m                                Traceback (most recent call last)",
      "Cell \u001b[0;32mIn[84], line 2\u001b[0m\n\u001b[1;32m      1\u001b[0m modes\u001b[38;5;241m=\u001b[39m tpmodel\u001b[38;5;241m.\u001b[39meigenmodes(\u001b[38;5;241m*\u001b[39m[\u001b[38;5;28mgetattr\u001b[39m(tp, coeff) \u001b[38;5;28;01mfor\u001b[39;00m coeff \u001b[38;5;129;01min\u001b[39;00m tpmodel\u001b[38;5;241m.\u001b[39mstdcoeffs])\n\u001b[0;32m----> 2\u001b[0m print_modes(modes)\n",
      "Cell \u001b[0;32mIn[78], line 16\u001b[0m, in \u001b[0;36mprint_modes\u001b[0;34m(eigens)\u001b[0m\n\u001b[1;32m     14\u001b[0m \u001b[38;5;28mprint\u001b[39m (Hz)\n\u001b[1;32m     15\u001b[0m \u001b[38;5;28mprint\u001b[39m (dof_amps)\n\u001b[0;32m---> 16\u001b[0m modes \u001b[38;5;241m=\u001b[39m pd\u001b[38;5;241m.\u001b[39mDataFrame({\u001b[38;5;124m\"\u001b[39m\u001b[38;5;124mFreq\u001b[39m\u001b[38;5;124m\"\u001b[39m:Hz, \u001b[38;5;124m\"\u001b[39m\u001b[38;5;124mDOF\u001b[39m\u001b[38;5;124m\"\u001b[39m:dofs, \u001b[38;5;124m\"\u001b[39m\u001b[38;5;124mAmps\u001b[39m\u001b[38;5;124m\"\u001b[39m:dof_amps})\n\u001b[1;32m     18\u001b[0m \u001b[38;5;28;01mdef\u001b[39;00m \u001b[38;5;21mcalculate_ratio\u001b[39m(row):\n\u001b[1;32m     19\u001b[0m     dof \u001b[38;5;241m=\u001b[39m row[\u001b[38;5;124m'\u001b[39m\u001b[38;5;124mDOF\u001b[39m\u001b[38;5;124m'\u001b[39m]\n",
      "File \u001b[0;32m/opt/anaconda3/lib/python3.12/site-packages/pandas/core/frame.py:778\u001b[0m, in \u001b[0;36mDataFrame.__init__\u001b[0;34m(self, data, index, columns, dtype, copy)\u001b[0m\n\u001b[1;32m    772\u001b[0m     mgr \u001b[38;5;241m=\u001b[39m \u001b[38;5;28mself\u001b[39m\u001b[38;5;241m.\u001b[39m_init_mgr(\n\u001b[1;32m    773\u001b[0m         data, axes\u001b[38;5;241m=\u001b[39m{\u001b[38;5;124m\"\u001b[39m\u001b[38;5;124mindex\u001b[39m\u001b[38;5;124m\"\u001b[39m: index, \u001b[38;5;124m\"\u001b[39m\u001b[38;5;124mcolumns\u001b[39m\u001b[38;5;124m\"\u001b[39m: columns}, dtype\u001b[38;5;241m=\u001b[39mdtype, copy\u001b[38;5;241m=\u001b[39mcopy\n\u001b[1;32m    774\u001b[0m     )\n\u001b[1;32m    776\u001b[0m \u001b[38;5;28;01melif\u001b[39;00m \u001b[38;5;28misinstance\u001b[39m(data, \u001b[38;5;28mdict\u001b[39m):\n\u001b[1;32m    777\u001b[0m     \u001b[38;5;66;03m# GH#38939 de facto copy defaults to False only in non-dict cases\u001b[39;00m\n\u001b[0;32m--> 778\u001b[0m     mgr \u001b[38;5;241m=\u001b[39m dict_to_mgr(data, index, columns, dtype\u001b[38;5;241m=\u001b[39mdtype, copy\u001b[38;5;241m=\u001b[39mcopy, typ\u001b[38;5;241m=\u001b[39mmanager)\n\u001b[1;32m    779\u001b[0m \u001b[38;5;28;01melif\u001b[39;00m \u001b[38;5;28misinstance\u001b[39m(data, ma\u001b[38;5;241m.\u001b[39mMaskedArray):\n\u001b[1;32m    780\u001b[0m     \u001b[38;5;28;01mfrom\u001b[39;00m \u001b[38;5;21;01mnumpy\u001b[39;00m\u001b[38;5;21;01m.\u001b[39;00m\u001b[38;5;21;01mma\u001b[39;00m \u001b[38;5;28;01mimport\u001b[39;00m mrecords\n",
      "File \u001b[0;32m/opt/anaconda3/lib/python3.12/site-packages/pandas/core/internals/construction.py:503\u001b[0m, in \u001b[0;36mdict_to_mgr\u001b[0;34m(data, index, columns, dtype, typ, copy)\u001b[0m\n\u001b[1;32m    499\u001b[0m     \u001b[38;5;28;01melse\u001b[39;00m:\n\u001b[1;32m    500\u001b[0m         \u001b[38;5;66;03m# dtype check to exclude e.g. range objects, scalars\u001b[39;00m\n\u001b[1;32m    501\u001b[0m         arrays \u001b[38;5;241m=\u001b[39m [x\u001b[38;5;241m.\u001b[39mcopy() \u001b[38;5;28;01mif\u001b[39;00m \u001b[38;5;28mhasattr\u001b[39m(x, \u001b[38;5;124m\"\u001b[39m\u001b[38;5;124mdtype\u001b[39m\u001b[38;5;124m\"\u001b[39m) \u001b[38;5;28;01melse\u001b[39;00m x \u001b[38;5;28;01mfor\u001b[39;00m x \u001b[38;5;129;01min\u001b[39;00m arrays]\n\u001b[0;32m--> 503\u001b[0m \u001b[38;5;28;01mreturn\u001b[39;00m arrays_to_mgr(arrays, columns, index, dtype\u001b[38;5;241m=\u001b[39mdtype, typ\u001b[38;5;241m=\u001b[39mtyp, consolidate\u001b[38;5;241m=\u001b[39mcopy)\n",
      "File \u001b[0;32m/opt/anaconda3/lib/python3.12/site-packages/pandas/core/internals/construction.py:114\u001b[0m, in \u001b[0;36marrays_to_mgr\u001b[0;34m(arrays, columns, index, dtype, verify_integrity, typ, consolidate)\u001b[0m\n\u001b[1;32m    111\u001b[0m \u001b[38;5;28;01mif\u001b[39;00m verify_integrity:\n\u001b[1;32m    112\u001b[0m     \u001b[38;5;66;03m# figure out the index, if necessary\u001b[39;00m\n\u001b[1;32m    113\u001b[0m     \u001b[38;5;28;01mif\u001b[39;00m index \u001b[38;5;129;01mis\u001b[39;00m \u001b[38;5;28;01mNone\u001b[39;00m:\n\u001b[0;32m--> 114\u001b[0m         index \u001b[38;5;241m=\u001b[39m _extract_index(arrays)\n\u001b[1;32m    115\u001b[0m     \u001b[38;5;28;01melse\u001b[39;00m:\n\u001b[1;32m    116\u001b[0m         index \u001b[38;5;241m=\u001b[39m ensure_index(index)\n",
      "File \u001b[0;32m/opt/anaconda3/lib/python3.12/site-packages/pandas/core/internals/construction.py:677\u001b[0m, in \u001b[0;36m_extract_index\u001b[0;34m(data)\u001b[0m\n\u001b[1;32m    675\u001b[0m lengths \u001b[38;5;241m=\u001b[39m \u001b[38;5;28mlist\u001b[39m(\u001b[38;5;28mset\u001b[39m(raw_lengths))\n\u001b[1;32m    676\u001b[0m \u001b[38;5;28;01mif\u001b[39;00m \u001b[38;5;28mlen\u001b[39m(lengths) \u001b[38;5;241m>\u001b[39m \u001b[38;5;241m1\u001b[39m:\n\u001b[0;32m--> 677\u001b[0m     \u001b[38;5;28;01mraise\u001b[39;00m \u001b[38;5;167;01mValueError\u001b[39;00m(\u001b[38;5;124m\"\u001b[39m\u001b[38;5;124mAll arrays must be of the same length\u001b[39m\u001b[38;5;124m\"\u001b[39m)\n\u001b[1;32m    679\u001b[0m \u001b[38;5;28;01mif\u001b[39;00m have_dicts:\n\u001b[1;32m    680\u001b[0m     \u001b[38;5;28;01mraise\u001b[39;00m \u001b[38;5;167;01mValueError\u001b[39;00m(\n\u001b[1;32m    681\u001b[0m         \u001b[38;5;124m\"\u001b[39m\u001b[38;5;124mMixing dicts with non-Series may lead to ambiguous ordering.\u001b[39m\u001b[38;5;124m\"\u001b[39m\n\u001b[1;32m    682\u001b[0m     )\n",
      "\u001b[0;31mValueError\u001b[0m: All arrays must be of the same length"
     ]
    }
   ],
   "source": [
    "modes= tpmodel.eigenmodes(*[getattr(tp, coeff) for coeff in tpmodel.stdcoeffs])\n",
    "print_modes(modes)"
   ]
  },
  {
   "cell_type": "code",
   "execution_count": null,
   "id": "f42d9b8c-e3c7-4c01-a99c-f70eaaec1e75",
   "metadata": {},
   "outputs": [],
   "source": []
  }
 ],
 "metadata": {
  "kernelspec": {
   "display_name": "Python 3 (ipykernel)",
   "language": "python",
   "name": "python3"
  },
  "language_info": {
   "codemirror_mode": {
    "name": "ipython",
    "version": 3
   },
   "file_extension": ".py",
   "mimetype": "text/x-python",
   "name": "python",
   "nbconvert_exporter": "python",
   "pygments_lexer": "ipython3",
   "version": "3.12.7"
  }
 },
 "nbformat": 4,
 "nbformat_minor": 5
}
